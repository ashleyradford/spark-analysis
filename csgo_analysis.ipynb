{
 "cells": [
  {
   "cell_type": "markdown",
   "id": "883e2b14",
   "metadata": {},
   "source": [
    "# CS:GO Competitive Matchmaking\n",
    "\n",
    "Damage and grenade entries on over 410k rounds played in competitive Counter-Strike: Global Offensive.<br>\n",
    "Source: https://www.kaggle.com/datasets/skihikingkevin/csgo-matchmaking-damage\n",
    "\n",
    "### Table of contents\n",
    "1. [Insights](#insights)\n",
    "2. [Feature Summary](#features)\n",
    "3. [Exploratory Analysis](#explore)\n",
    "4. [Map Balance](#balance)\n",
    "5. [Econ Similarities to Valorant](#econ)\n",
    "6. [Does First Blood Matter?](#firstblood)\n",
    "\n",
    "These csv files include data from over 16,400 ESEA matches, as well as around 1,400 ranked matches, from the game Counter-Strike: Global Offensive. All data was extracted from competitive matchmaking replays that were submitted to a site called csgo-stats. The author states that this data is meant for exploratory analysis.\n",
    "\n",
    "The datasets provided include the following (where there are multiple files for some):\n",
    "- **esea_master_dmg_demos:** each row is a damage entry in which one player (or world) has dealt damage to another\n",
    "- **esea_master_grenades_demos:** each row is a grenade thrown entry in which one player has used a purchasable utility grenade\n",
    "- **esea_master_kills_demos:** each row is a kill entry\n",
    "- **esea_meta_demos:** each row is per round meta information (round winner, round time, etc) \n",
    "- **map_data:** in game map coordinates\n",
    "- **mm_grenades_demos:** each row is a grenade thrown entry in which one player has used a purchasable utility grenade\n",
    "- **mm_master_demos:** each row is a damage entry in which one player (or world) has dealt damage to another\n",
    "\n",
    "Note: all files beginning with \"esea\" are from ESEA matches ranging from pugs to scrims that were scraped during a period of two weeks in August 2018. Here, the player ranks are unknown, but they are presumably high ranked pro players.<br>\n",
    "The files beginning with \"mm\" are from matchmaking matches (ranked) with average ranks between gold nova 1 and legendary eagle master.\n",
    "\n",
    "Some **background info** on how the game works: it is a tactical shooter that involves two teams of 5. The games consist of at most 30 rounds with two 15 round halves. For the first half, one team starts as the \"terrorists\" in which they must take control of one of the enemy team's (the \"counter terrorists\") bomb sites and plant a bomb. To win, the bomb must either explode (not be defused by the \"counter terrorists\") or the \"terrorists\" must eliminate the entire enemy team. For the \"counter terrorists\" to win the round, they must either eliminate all the \"terrorists\" or defuse the planted bomb. After 15 rounds, the two teams swap sides. First team to win 16 rounds will win the entire game.\n",
    "\n",
    "---\n",
    "\n",
    "## Insights <a name=\"insights\"></a>\n",
    "\n",
    "CS:GO is one of the most popular tactical shooter games. I have personally never played it, instead I am more familiar with Valorant, which is also a tactical shooter but with added agent abilities (each character has special abilities only available to them, similar to games like Overwatch). Since Valorant's release, naturally, there has been much debate about which game is better. I had originally hoped to analyze Valorant data, however, either because Valorant is too new of a game (3 years old) or Riot is very stingy with their data, I could not find sufficient data. I hope to use this data to see how similar these games are while also extracting new insights on the advantages and disadvantages of certain actions mid game. I believe the latter types of insights can also be very helpful for Valorant gameplay, since at the end of the day these are both tactical shooters with the same objectives and win conditions.\n",
    "\n",
    "In particular, one of the biggest arguments against Valorant is that CS:GO's maps are designed better. In Valorant, some maps are known to be heavily defense sided, making it very hard for the team that starts on the attack side to win. The data downloaded also included images of CS:GO's official radar maps, and just by taking a quick glance at some of the maps, I do believe that CS:GO's maps are more balanced (i.e. around 50% win rate from both sides).\n",
    "\n",
    "Another insight that I hope to gain is how similar the economy is in CS:GO compared to Valorant. Economy is a huge aspect of Valorant (and I think CS:GO if it pans out similarly). At the start of each round, each team is designated a certain amount of money to spend on weapons and utility (smokes and grenades). The team that won the previous round is rewarded with more money to spend. Players that got kills are also given more money individually. Additionally, the players that did not die the previous round get to keep their weapons and unused utility. This added layer of complexity makes cooperation between teammates a necessity (at least in Valorant). It results in \"save\" rounds where teammates must agree to not buy weapons in hopes that they can buy full loadouts the next round. This is basically a forfeit of the current round (but sometimes still winnable!) to ensure that the struggling team will eventually have the same guns as the enemy team for an even fight (because if you keep losing rounds, eventually you cannot afford to keep buying the more powerful guns). I predict that, despite their differences in utility, there are similar econ patterns in CS:GO as there are in Valorant.\n",
    "\n",
    "The last insight I hope to gain is analyzing how first blood (the first kill of a round) affects the round outcome. I think the insights gained here will pertain to both games. My hypothesis is that first blood will affect the outcome, i.e. the team that got the first blood will be more likely to win the round. However, I think that this is only true for the attackers (the \"terrorists\") since the defenders (the \"counter terrorists\") have to control multiple sites. If the attackers get that first kill it will spread out the defenders making it easier to take a site. But if the defenders get the first kill, I predict that it won't matter as much since the attackers can still attack a site that may be only held by 2 or 3 players while they themselves have 4 players.\n",
    "\n",
    "---\n",
    "\n",
    "## Feature Summary <a name=\"features\"></a>\n",
    "\n",
    "Since there are 5 different types of datasets included in this data, we will describe each one separately, starting with esea_master_dmg_demos. In total we actually have 7 different dataset types, however, analyzing this game at a high level will offer us better insight to how the game should be played. Therefore, we will ignore the datasets beginning with \"mm\" and only look at the scrim data pertaining to the more professional level players rather than the lower ranked players since their behavior is less likely to coincide with intended gameplay (i.e. lower level players do not know how to play the game correctly).\n",
    "\n",
    "1. [esea master dmg demos](#damage)\n",
    "2. [esea master grenades demos](#grenades)\n",
    "3. [esea master kills demos](#kills)\n",
    "4. [esea meta demos](#meta)\n",
    "5. [map data](#map)\n",
    "\n",
    "### 1. esea_master_dmg_demos <a name=\"damage\"></a>\n",
    "\n",
    "This data describes the damage dealt to players. Each row is a damage entry in which one player (or world) has dealt damage to another. "
   ]
  },
  {
   "cell_type": "code",
   "execution_count": 1,
   "id": "24d254db",
   "metadata": {},
   "outputs": [],
   "source": [
    "import pandas as pd\n",
    "\n",
    "pd.set_option('display.max_columns', None) # display all columns"
   ]
  },
  {
   "cell_type": "code",
   "execution_count": 2,
   "id": "6cc1511c",
   "metadata": {
    "scrolled": true
   },
   "outputs": [
    {
     "name": "stderr",
     "output_type": "stream",
     "text": [
      "                                                                                \r"
     ]
    },
    {
     "data": {
      "text/plain": [
       "10538182"
      ]
     },
     "execution_count": 2,
     "metadata": {},
     "output_type": "execute_result"
    }
   ],
   "source": [
    "dmg_df = spark.read.load('hdfs://orion08:24001/csgo/esea_master_dmg_demos.part*.csv',\n",
    "                         format='csv',\n",
    "                         sep=',',\n",
    "                         inferSchema='true',\n",
    "                         header='true')\n",
    "dmg_df.count()"
   ]
  },
  {
   "cell_type": "code",
   "execution_count": 3,
   "id": "fe8f5150",
   "metadata": {
    "scrolled": false
   },
   "outputs": [
    {
     "data": {
      "text/html": [
       "<div>\n",
       "<style scoped>\n",
       "    .dataframe tbody tr th:only-of-type {\n",
       "        vertical-align: middle;\n",
       "    }\n",
       "\n",
       "    .dataframe tbody tr th {\n",
       "        vertical-align: top;\n",
       "    }\n",
       "\n",
       "    .dataframe thead th {\n",
       "        text-align: right;\n",
       "    }\n",
       "</style>\n",
       "<table border=\"1\" class=\"dataframe\">\n",
       "  <thead>\n",
       "    <tr style=\"text-align: right;\">\n",
       "      <th></th>\n",
       "      <th>file</th>\n",
       "      <th>round</th>\n",
       "      <th>tick</th>\n",
       "      <th>seconds</th>\n",
       "      <th>att_team</th>\n",
       "      <th>vic_team</th>\n",
       "      <th>att_side</th>\n",
       "      <th>vic_side</th>\n",
       "      <th>hp_dmg</th>\n",
       "      <th>arm_dmg</th>\n",
       "      <th>is_bomb_planted</th>\n",
       "      <th>bomb_site</th>\n",
       "      <th>hitbox</th>\n",
       "      <th>wp</th>\n",
       "      <th>wp_type</th>\n",
       "      <th>att_id</th>\n",
       "      <th>att_rank</th>\n",
       "      <th>vic_id</th>\n",
       "      <th>vic_rank</th>\n",
       "      <th>att_pos_x</th>\n",
       "      <th>att_pos_y</th>\n",
       "      <th>vic_pos_x</th>\n",
       "      <th>vic_pos_y</th>\n",
       "    </tr>\n",
       "  </thead>\n",
       "  <tbody>\n",
       "    <tr>\n",
       "      <th>0</th>\n",
       "      <td>esea_match_13770997.dem</td>\n",
       "      <td>1</td>\n",
       "      <td>14372</td>\n",
       "      <td>111.8476</td>\n",
       "      <td>World</td>\n",
       "      <td>Animal Style</td>\n",
       "      <td>None</td>\n",
       "      <td>CounterTerrorist</td>\n",
       "      <td>1</td>\n",
       "      <td>0</td>\n",
       "      <td>False</td>\n",
       "      <td>None</td>\n",
       "      <td>Generic</td>\n",
       "      <td>Unknown</td>\n",
       "      <td>Unkown</td>\n",
       "      <td>0</td>\n",
       "      <td>0</td>\n",
       "      <td>76561198055054795</td>\n",
       "      <td>0</td>\n",
       "      <td>0.0000</td>\n",
       "      <td>0.00000</td>\n",
       "      <td>0.0000</td>\n",
       "      <td>0.000000</td>\n",
       "    </tr>\n",
       "    <tr>\n",
       "      <th>1</th>\n",
       "      <td>esea_match_13770997.dem</td>\n",
       "      <td>1</td>\n",
       "      <td>15972</td>\n",
       "      <td>124.3761</td>\n",
       "      <td>Animal Style</td>\n",
       "      <td>Hentai Hooligans</td>\n",
       "      <td>CounterTerrorist</td>\n",
       "      <td>Terrorist</td>\n",
       "      <td>18</td>\n",
       "      <td>9</td>\n",
       "      <td>False</td>\n",
       "      <td>None</td>\n",
       "      <td>Stomach</td>\n",
       "      <td>USP</td>\n",
       "      <td>Pistol</td>\n",
       "      <td>76561198048742997</td>\n",
       "      <td>0</td>\n",
       "      <td>76561198082200410</td>\n",
       "      <td>0</td>\n",
       "      <td>-1499.6900</td>\n",
       "      <td>63.33829</td>\n",
       "      <td>-669.5558</td>\n",
       "      <td>-79.769570</td>\n",
       "    </tr>\n",
       "    <tr>\n",
       "      <th>2</th>\n",
       "      <td>esea_match_13770997.dem</td>\n",
       "      <td>1</td>\n",
       "      <td>16058</td>\n",
       "      <td>125.0495</td>\n",
       "      <td>Animal Style</td>\n",
       "      <td>Hentai Hooligans</td>\n",
       "      <td>CounterTerrorist</td>\n",
       "      <td>Terrorist</td>\n",
       "      <td>100</td>\n",
       "      <td>0</td>\n",
       "      <td>False</td>\n",
       "      <td>None</td>\n",
       "      <td>Head</td>\n",
       "      <td>USP</td>\n",
       "      <td>Pistol</td>\n",
       "      <td>76561198055054795</td>\n",
       "      <td>0</td>\n",
       "      <td>76561197961009213</td>\n",
       "      <td>0</td>\n",
       "      <td>-1066.8740</td>\n",
       "      <td>3.44563</td>\n",
       "      <td>-614.1868</td>\n",
       "      <td>-91.707770</td>\n",
       "    </tr>\n",
       "    <tr>\n",
       "      <th>3</th>\n",
       "      <td>esea_match_13770997.dem</td>\n",
       "      <td>1</td>\n",
       "      <td>16066</td>\n",
       "      <td>125.1121</td>\n",
       "      <td>Hentai Hooligans</td>\n",
       "      <td>Animal Style</td>\n",
       "      <td>Terrorist</td>\n",
       "      <td>CounterTerrorist</td>\n",
       "      <td>12</td>\n",
       "      <td>7</td>\n",
       "      <td>False</td>\n",
       "      <td>None</td>\n",
       "      <td>RightArm</td>\n",
       "      <td>Glock</td>\n",
       "      <td>Pistol</td>\n",
       "      <td>76561198082200410</td>\n",
       "      <td>0</td>\n",
       "      <td>76561198055054795</td>\n",
       "      <td>0</td>\n",
       "      <td>-747.3146</td>\n",
       "      <td>-49.32681</td>\n",
       "      <td>-1065.5560</td>\n",
       "      <td>9.381622</td>\n",
       "    </tr>\n",
       "    <tr>\n",
       "      <th>4</th>\n",
       "      <td>esea_match_13770997.dem</td>\n",
       "      <td>1</td>\n",
       "      <td>16108</td>\n",
       "      <td>125.4410</td>\n",
       "      <td>Animal Style</td>\n",
       "      <td>Hentai Hooligans</td>\n",
       "      <td>CounterTerrorist</td>\n",
       "      <td>Terrorist</td>\n",
       "      <td>15</td>\n",
       "      <td>7</td>\n",
       "      <td>False</td>\n",
       "      <td>None</td>\n",
       "      <td>Chest</td>\n",
       "      <td>USP</td>\n",
       "      <td>Pistol</td>\n",
       "      <td>76561198048742997</td>\n",
       "      <td>0</td>\n",
       "      <td>76561198082200410</td>\n",
       "      <td>0</td>\n",
       "      <td>-1501.8610</td>\n",
       "      <td>49.19798</td>\n",
       "      <td>-748.4188</td>\n",
       "      <td>-53.469220</td>\n",
       "    </tr>\n",
       "  </tbody>\n",
       "</table>\n",
       "</div>"
      ],
      "text/plain": [
       "                      file  round   tick   seconds          att_team  \\\n",
       "0  esea_match_13770997.dem      1  14372  111.8476             World   \n",
       "1  esea_match_13770997.dem      1  15972  124.3761      Animal Style   \n",
       "2  esea_match_13770997.dem      1  16058  125.0495      Animal Style   \n",
       "3  esea_match_13770997.dem      1  16066  125.1121  Hentai Hooligans   \n",
       "4  esea_match_13770997.dem      1  16108  125.4410      Animal Style   \n",
       "\n",
       "           vic_team          att_side          vic_side  hp_dmg  arm_dmg  \\\n",
       "0      Animal Style              None  CounterTerrorist       1        0   \n",
       "1  Hentai Hooligans  CounterTerrorist         Terrorist      18        9   \n",
       "2  Hentai Hooligans  CounterTerrorist         Terrorist     100        0   \n",
       "3      Animal Style         Terrorist  CounterTerrorist      12        7   \n",
       "4  Hentai Hooligans  CounterTerrorist         Terrorist      15        7   \n",
       "\n",
       "   is_bomb_planted bomb_site    hitbox       wp wp_type             att_id  \\\n",
       "0            False      None   Generic  Unknown  Unkown                  0   \n",
       "1            False      None   Stomach      USP  Pistol  76561198048742997   \n",
       "2            False      None      Head      USP  Pistol  76561198055054795   \n",
       "3            False      None  RightArm    Glock  Pistol  76561198082200410   \n",
       "4            False      None     Chest      USP  Pistol  76561198048742997   \n",
       "\n",
       "   att_rank             vic_id  vic_rank  att_pos_x  att_pos_y  vic_pos_x  \\\n",
       "0         0  76561198055054795         0     0.0000    0.00000     0.0000   \n",
       "1         0  76561198082200410         0 -1499.6900   63.33829  -669.5558   \n",
       "2         0  76561197961009213         0 -1066.8740    3.44563  -614.1868   \n",
       "3         0  76561198055054795         0  -747.3146  -49.32681 -1065.5560   \n",
       "4         0  76561198082200410         0 -1501.8610   49.19798  -748.4188   \n",
       "\n",
       "   vic_pos_y  \n",
       "0   0.000000  \n",
       "1 -79.769570  \n",
       "2 -91.707770  \n",
       "3   9.381622  \n",
       "4 -53.469220  "
      ]
     },
     "execution_count": 3,
     "metadata": {},
     "output_type": "execute_result"
    }
   ],
   "source": [
    "# extract the first 5 rows and schema from spark df\n",
    "dmg_df_subset = dmg_df.head(5)\n",
    "dmg_schema = dmg_df.schema\n",
    "\n",
    "# convert the subset to a pandas df with schema (for pretty output)\n",
    "pandas_dmg_df = pd.DataFrame(dmg_df_subset, columns=dmg_schema.fieldNames())\n",
    "pandas_dmg_df"
   ]
  },
  {
   "cell_type": "markdown",
   "id": "afc3c66c",
   "metadata": {},
   "source": [
    "<u>Feature Descriptions:</u>\n",
    "\n",
    "**file:** the file name that the demo was scraped from, unique for each match<br>\n",
    "**round:** the round that the damage took place<br>\n",
    "**tick:** the current tick in the match (an update between the game's server and connected PCs), measured in hertz<br>\n",
    "**seconds:** the number of seconds into the _match_ in which the damage occurred<br>\n",
    "**att_team:** the team of the player that dealt damage to the victim (world included)<br>\n",
    "**vic_team:** the team of the player that received damage<br>\n",
    "**att_side:** the side that the attacker was on (Terrorist or CounterTerrorist)<br>\n",
    "**vic_side:** the side that the victim was on (Terrorist or CounterTerrorist)<br>\n",
    "**hp_dmg:** the total damage dealt in that duel to the victim, each player starts the round with 100 max hp<br>\n",
    "**arm_dmg:** the total damage dealt to Kevlar (armor) <br>\n",
    "**is_bomb_planted:** has the bomb been planted as of this entry<br>\n",
    "**bomb_site:** the site the bomb is planted at (only A or B), empty if `is_bomb_planted` is false<br>\n",
    "**hitbox:** the body area the victim was struck in<br>\n",
    "**wp:** the weapon that the attacker used to deal damage<br>\n",
    "**wp_type:** the type of weapon that the attacker used<br>\n",
    "**att_id:** the steam id of the attacker, unique for each player<br>\n",
    "**att_rank:** the new rank of the attacking player after the match is complete (unknown for all)<br>\n",
    "**vic_id:** the steam id of the victim, unique for each player<br>\n",
    "**vic_rank:** the new rank of the victim after the match is complete (unknown for all)<br>\n",
    "**att_pos_x:** the X position of the attacker when they started the engagement<br>\n",
    "**att_pos_y:** the Y position of the attacker when they started the engagement<br>\n",
    "**vic_pos_x:** the X position of the victim when they received damage<br>\n",
    "**vic_pos_y:** the Y position of the victim when they received damage\n",
    "\n",
    "Note: all X and Y positions are in game coordinates and must be converted before being plotted on the radar maps, guide for conversion https://github.com/akiver/CSGO-Demos-Manager/blob/376cc90eb49425050b351bc933940480f6d48075/Services/Concrete/Maps/MapService.cs\n",
    "\n",
    "### 2. esea_master_grenades_demos <a name=\"grenades\"></a>\n",
    "\n",
    "This data describes the player utility usage. Each row is a grenade thrown entry in which one player has used a purchasable utility grenade."
   ]
  },
  {
   "cell_type": "code",
   "execution_count": 4,
   "id": "13f250b3",
   "metadata": {},
   "outputs": [
    {
     "name": "stderr",
     "output_type": "stream",
     "text": [
      "                                                                                \r"
     ]
    },
    {
     "data": {
      "text/plain": [
       "5246458"
      ]
     },
     "execution_count": 4,
     "metadata": {},
     "output_type": "execute_result"
    }
   ],
   "source": [
    "grenades_df = spark.read.load('hdfs://orion08:24001/csgo/esea_master_grenades_demos.part*.csv',\n",
    "                              format='csv',\n",
    "                              sep=',',\n",
    "                              inferSchema='true',\n",
    "                              header='true')\n",
    "grenades_df.count()"
   ]
  },
  {
   "cell_type": "code",
   "execution_count": 5,
   "id": "01f917c6",
   "metadata": {
    "scrolled": false
   },
   "outputs": [
    {
     "data": {
      "text/html": [
       "<div>\n",
       "<style scoped>\n",
       "    .dataframe tbody tr th:only-of-type {\n",
       "        vertical-align: middle;\n",
       "    }\n",
       "\n",
       "    .dataframe tbody tr th {\n",
       "        vertical-align: top;\n",
       "    }\n",
       "\n",
       "    .dataframe thead th {\n",
       "        text-align: right;\n",
       "    }\n",
       "</style>\n",
       "<table border=\"1\" class=\"dataframe\">\n",
       "  <thead>\n",
       "    <tr style=\"text-align: right;\">\n",
       "      <th></th>\n",
       "      <th>file</th>\n",
       "      <th>round</th>\n",
       "      <th>seconds</th>\n",
       "      <th>att_team</th>\n",
       "      <th>vic_team</th>\n",
       "      <th>att_id</th>\n",
       "      <th>vic_id</th>\n",
       "      <th>att_side</th>\n",
       "      <th>vic_side</th>\n",
       "      <th>hp_dmg</th>\n",
       "      <th>arm_dmg</th>\n",
       "      <th>is_bomb_planted</th>\n",
       "      <th>bomb_site</th>\n",
       "      <th>hitbox</th>\n",
       "      <th>nade</th>\n",
       "      <th>att_rank</th>\n",
       "      <th>vic_rank</th>\n",
       "      <th>att_pos_x</th>\n",
       "      <th>att_pos_y</th>\n",
       "      <th>nade_land_x</th>\n",
       "      <th>nade_land_y</th>\n",
       "      <th>vic_pos_x</th>\n",
       "      <th>vic_pos_y</th>\n",
       "    </tr>\n",
       "  </thead>\n",
       "  <tbody>\n",
       "    <tr>\n",
       "      <th>0</th>\n",
       "      <td>esea_match_13770997.dem</td>\n",
       "      <td>1</td>\n",
       "      <td>153.1602</td>\n",
       "      <td>Animal Style</td>\n",
       "      <td>None</td>\n",
       "      <td>76561198165334141</td>\n",
       "      <td>NaN</td>\n",
       "      <td>CounterTerrorist</td>\n",
       "      <td>None</td>\n",
       "      <td>0</td>\n",
       "      <td>0</td>\n",
       "      <td>True</td>\n",
       "      <td>B</td>\n",
       "      <td>None</td>\n",
       "      <td>Smoke</td>\n",
       "      <td>0</td>\n",
       "      <td>NaN</td>\n",
       "      <td>-1618.146</td>\n",
       "      <td>-66.00259</td>\n",
       "      <td>-949.8569</td>\n",
       "      <td>-340.3019</td>\n",
       "      <td>NaN</td>\n",
       "      <td>NaN</td>\n",
       "    </tr>\n",
       "    <tr>\n",
       "      <th>1</th>\n",
       "      <td>esea_match_13770997.dem</td>\n",
       "      <td>2</td>\n",
       "      <td>184.7945</td>\n",
       "      <td>Hentai Hooligans</td>\n",
       "      <td>Animal Style</td>\n",
       "      <td>76561198037331400</td>\n",
       "      <td>7.656120e+16</td>\n",
       "      <td>Terrorist</td>\n",
       "      <td>CounterTerrorist</td>\n",
       "      <td>70</td>\n",
       "      <td>0</td>\n",
       "      <td>False</td>\n",
       "      <td>None</td>\n",
       "      <td>Generic</td>\n",
       "      <td>HE</td>\n",
       "      <td>0</td>\n",
       "      <td>0.0</td>\n",
       "      <td>-1719.904</td>\n",
       "      <td>-2357.64700</td>\n",
       "      <td>-2774.6650</td>\n",
       "      <td>-1603.9430</td>\n",
       "      <td>-2741.25</td>\n",
       "      <td>-1523.163</td>\n",
       "    </tr>\n",
       "    <tr>\n",
       "      <th>2</th>\n",
       "      <td>esea_match_13770997.dem</td>\n",
       "      <td>2</td>\n",
       "      <td>186.8617</td>\n",
       "      <td>Animal Style</td>\n",
       "      <td>None</td>\n",
       "      <td>76561198055191021</td>\n",
       "      <td>NaN</td>\n",
       "      <td>CounterTerrorist</td>\n",
       "      <td>None</td>\n",
       "      <td>0</td>\n",
       "      <td>0</td>\n",
       "      <td>False</td>\n",
       "      <td>None</td>\n",
       "      <td>None</td>\n",
       "      <td>HE</td>\n",
       "      <td>0</td>\n",
       "      <td>NaN</td>\n",
       "      <td>-1036.352</td>\n",
       "      <td>492.16760</td>\n",
       "      <td>-466.8676</td>\n",
       "      <td>-356.9641</td>\n",
       "      <td>NaN</td>\n",
       "      <td>NaN</td>\n",
       "    </tr>\n",
       "    <tr>\n",
       "      <th>3</th>\n",
       "      <td>esea_match_13770997.dem</td>\n",
       "      <td>2</td>\n",
       "      <td>187.1122</td>\n",
       "      <td>Animal Style</td>\n",
       "      <td>None</td>\n",
       "      <td>76561198055054795</td>\n",
       "      <td>NaN</td>\n",
       "      <td>CounterTerrorist</td>\n",
       "      <td>None</td>\n",
       "      <td>0</td>\n",
       "      <td>0</td>\n",
       "      <td>False</td>\n",
       "      <td>None</td>\n",
       "      <td>None</td>\n",
       "      <td>HE</td>\n",
       "      <td>0</td>\n",
       "      <td>NaN</td>\n",
       "      <td>-855.077</td>\n",
       "      <td>438.69090</td>\n",
       "      <td>-459.0147</td>\n",
       "      <td>-543.8581</td>\n",
       "      <td>NaN</td>\n",
       "      <td>NaN</td>\n",
       "    </tr>\n",
       "    <tr>\n",
       "      <th>4</th>\n",
       "      <td>esea_match_13770997.dem</td>\n",
       "      <td>2</td>\n",
       "      <td>191.0587</td>\n",
       "      <td>Hentai Hooligans</td>\n",
       "      <td>None</td>\n",
       "      <td>76561198037331400</td>\n",
       "      <td>NaN</td>\n",
       "      <td>Terrorist</td>\n",
       "      <td>None</td>\n",
       "      <td>0</td>\n",
       "      <td>0</td>\n",
       "      <td>False</td>\n",
       "      <td>None</td>\n",
       "      <td>None</td>\n",
       "      <td>Molotov</td>\n",
       "      <td>0</td>\n",
       "      <td>NaN</td>\n",
       "      <td>-2617.490</td>\n",
       "      <td>-1832.40700</td>\n",
       "      <td>-2743.5610</td>\n",
       "      <td>-927.2995</td>\n",
       "      <td>NaN</td>\n",
       "      <td>NaN</td>\n",
       "    </tr>\n",
       "  </tbody>\n",
       "</table>\n",
       "</div>"
      ],
      "text/plain": [
       "                      file  round   seconds          att_team      vic_team  \\\n",
       "0  esea_match_13770997.dem      1  153.1602      Animal Style          None   \n",
       "1  esea_match_13770997.dem      2  184.7945  Hentai Hooligans  Animal Style   \n",
       "2  esea_match_13770997.dem      2  186.8617      Animal Style          None   \n",
       "3  esea_match_13770997.dem      2  187.1122      Animal Style          None   \n",
       "4  esea_match_13770997.dem      2  191.0587  Hentai Hooligans          None   \n",
       "\n",
       "              att_id        vic_id          att_side          vic_side  \\\n",
       "0  76561198165334141           NaN  CounterTerrorist              None   \n",
       "1  76561198037331400  7.656120e+16         Terrorist  CounterTerrorist   \n",
       "2  76561198055191021           NaN  CounterTerrorist              None   \n",
       "3  76561198055054795           NaN  CounterTerrorist              None   \n",
       "4  76561198037331400           NaN         Terrorist              None   \n",
       "\n",
       "   hp_dmg  arm_dmg  is_bomb_planted bomb_site   hitbox     nade  att_rank  \\\n",
       "0       0        0             True         B     None    Smoke         0   \n",
       "1      70        0            False      None  Generic       HE         0   \n",
       "2       0        0            False      None     None       HE         0   \n",
       "3       0        0            False      None     None       HE         0   \n",
       "4       0        0            False      None     None  Molotov         0   \n",
       "\n",
       "   vic_rank  att_pos_x   att_pos_y  nade_land_x  nade_land_y  vic_pos_x  \\\n",
       "0       NaN  -1618.146   -66.00259    -949.8569    -340.3019        NaN   \n",
       "1       0.0  -1719.904 -2357.64700   -2774.6650   -1603.9430   -2741.25   \n",
       "2       NaN  -1036.352   492.16760    -466.8676    -356.9641        NaN   \n",
       "3       NaN   -855.077   438.69090    -459.0147    -543.8581        NaN   \n",
       "4       NaN  -2617.490 -1832.40700   -2743.5610    -927.2995        NaN   \n",
       "\n",
       "   vic_pos_y  \n",
       "0        NaN  \n",
       "1  -1523.163  \n",
       "2        NaN  \n",
       "3        NaN  \n",
       "4        NaN  "
      ]
     },
     "execution_count": 5,
     "metadata": {},
     "output_type": "execute_result"
    }
   ],
   "source": [
    "# extract the first 5 rows and schema from spark df\n",
    "grenades_df_subset = grenades_df.head(5)\n",
    "grenades_schema = grenades_df.schema\n",
    "\n",
    "# convert the subset to a pandas df with schema (for pretty output)\n",
    "pandas_grenades_df = pd.DataFrame(grenades_df_subset, columns=grenades_schema.fieldNames())\n",
    "pandas_grenades_df"
   ]
  },
  {
   "cell_type": "markdown",
   "id": "331ab7ad",
   "metadata": {},
   "source": [
    "<u>Feature Descriptions:</u>\n",
    "\n",
    "**file:** the file name that the demo was scraped from, unique for each match<br>\n",
    "**round:** the round that the damage took place<br>\n",
    "**seconds:** the number of seconds into the _match_ in which the event occurred<br>\n",
    "**att_team:** the team of the player that dealt damage to the victim (world included)<br>\n",
    "**vic_team:** the team of the player that received damage<br>\n",
    "**att_id:** the steam id of the attacker, unique for each player<br>\n",
    "**vic_id:** the steam id of the victim, unique for each player<br>\n",
    "**att_side:** the side that the attacker was on (Terrorist or CounterTerrorist)<br>\n",
    "**vic_side:** the side that the victim was on (Terrorist or CounterTerrorist)<br>\n",
    "**hp_dmg:** the total damage dealt in that duel to the victim, each player starts the round with 100 max hp<br>\n",
    "**arm_dmg:** the total damage dealt to Kevlar (armor) <br>\n",
    "**is_bomb_planted:** has the bomb been planted as of this entry<br>\n",
    "**bomb_site:** the site the bomb is planted at (only A or B), empty if `is_bomb_planted` is false<br>\n",
    "**hitbox:** the body area the victim was struck in<br>\n",
    "**nade:** type of utility used (Decoy, HE, Smoke, Flash, or Molotov)<br>\n",
    "**att_rank:** the new rank of the attacking player after the match is complete (unknown for all)<br>\n",
    "**vic_rank:** the new rank of the victim after the match is complete (unknown for all)<br>\n",
    "**att_pos_x:** the X position of the attacker when they started the engagement<br>\n",
    "**att_pos_y:** the Y position of the attacker when they started the engagement<br>\n",
    "**nade_land_x:** the X position of the utility when it exploded or started<br>\n",
    "**nade_land_y:** the Y position of the utility when it exploded or started<br>\n",
    "**vic_pos_x:** the X position of the victim when they received damage<br>\n",
    "**vic_pos_y:** the Y position of the victim when they received damage\n",
    "\n",
    "Note: this dataset is referenced as grenades, but it's really any of the six utilities that are available for purchase.<br>\n",
    "This includes decoys, high explosive grenades, smokes, flashbangs, incendiaries, molotovs.\n",
    "\n",
    "### 3. esea_master_kills_demos <a name=\"kills\"></a>\n",
    "\n",
    "This data describes the players killed during a round. Each row is a kill entry."
   ]
  },
  {
   "cell_type": "code",
   "execution_count": 6,
   "id": "5f65c2fc",
   "metadata": {},
   "outputs": [
    {
     "name": "stderr",
     "output_type": "stream",
     "text": [
      "                                                                                \r"
     ]
    },
    {
     "data": {
      "text/plain": [
       "2742646"
      ]
     },
     "execution_count": 6,
     "metadata": {},
     "output_type": "execute_result"
    }
   ],
   "source": [
    "kills_df = spark.read.load('hdfs://orion08:24001/csgo/esea_master_kills_demos.part*.csv',\n",
    "                           format='csv',\n",
    "                           sep=',',\n",
    "                           inferSchema='true',\n",
    "                           header='true')\n",
    "kills_df.count()"
   ]
  },
  {
   "cell_type": "code",
   "execution_count": 7,
   "id": "97e22837",
   "metadata": {},
   "outputs": [
    {
     "data": {
      "text/html": [
       "<div>\n",
       "<style scoped>\n",
       "    .dataframe tbody tr th:only-of-type {\n",
       "        vertical-align: middle;\n",
       "    }\n",
       "\n",
       "    .dataframe tbody tr th {\n",
       "        vertical-align: top;\n",
       "    }\n",
       "\n",
       "    .dataframe thead th {\n",
       "        text-align: right;\n",
       "    }\n",
       "</style>\n",
       "<table border=\"1\" class=\"dataframe\">\n",
       "  <thead>\n",
       "    <tr style=\"text-align: right;\">\n",
       "      <th></th>\n",
       "      <th>file</th>\n",
       "      <th>round</th>\n",
       "      <th>tick</th>\n",
       "      <th>seconds</th>\n",
       "      <th>att_team</th>\n",
       "      <th>vic_team</th>\n",
       "      <th>att_side</th>\n",
       "      <th>vic_side</th>\n",
       "      <th>wp</th>\n",
       "      <th>wp_type</th>\n",
       "      <th>ct_alive</th>\n",
       "      <th>t_alive</th>\n",
       "      <th>is_bomb_planted</th>\n",
       "    </tr>\n",
       "  </thead>\n",
       "  <tbody>\n",
       "    <tr>\n",
       "      <th>0</th>\n",
       "      <td>esea_match_13770997.dem</td>\n",
       "      <td>1</td>\n",
       "      <td>16058</td>\n",
       "      <td>30.74165</td>\n",
       "      <td>Animal Style</td>\n",
       "      <td>Hentai Hooligans</td>\n",
       "      <td>CounterTerrorist</td>\n",
       "      <td>Terrorist</td>\n",
       "      <td>USP</td>\n",
       "      <td>Pistol</td>\n",
       "      <td>5</td>\n",
       "      <td>4</td>\n",
       "      <td>False</td>\n",
       "    </tr>\n",
       "    <tr>\n",
       "      <th>1</th>\n",
       "      <td>esea_match_13770997.dem</td>\n",
       "      <td>1</td>\n",
       "      <td>16210</td>\n",
       "      <td>31.93185</td>\n",
       "      <td>Hentai Hooligans</td>\n",
       "      <td>Animal Style</td>\n",
       "      <td>Terrorist</td>\n",
       "      <td>CounterTerrorist</td>\n",
       "      <td>Glock</td>\n",
       "      <td>Pistol</td>\n",
       "      <td>4</td>\n",
       "      <td>4</td>\n",
       "      <td>False</td>\n",
       "    </tr>\n",
       "    <tr>\n",
       "      <th>2</th>\n",
       "      <td>esea_match_13770997.dem</td>\n",
       "      <td>1</td>\n",
       "      <td>16510</td>\n",
       "      <td>34.28094</td>\n",
       "      <td>Hentai Hooligans</td>\n",
       "      <td>Animal Style</td>\n",
       "      <td>Terrorist</td>\n",
       "      <td>CounterTerrorist</td>\n",
       "      <td>Glock</td>\n",
       "      <td>Pistol</td>\n",
       "      <td>3</td>\n",
       "      <td>4</td>\n",
       "      <td>False</td>\n",
       "    </tr>\n",
       "    <tr>\n",
       "      <th>3</th>\n",
       "      <td>esea_match_13770997.dem</td>\n",
       "      <td>1</td>\n",
       "      <td>17104</td>\n",
       "      <td>38.93212</td>\n",
       "      <td>Animal Style</td>\n",
       "      <td>Hentai Hooligans</td>\n",
       "      <td>CounterTerrorist</td>\n",
       "      <td>Terrorist</td>\n",
       "      <td>USP</td>\n",
       "      <td>Pistol</td>\n",
       "      <td>3</td>\n",
       "      <td>3</td>\n",
       "      <td>False</td>\n",
       "    </tr>\n",
       "    <tr>\n",
       "      <th>4</th>\n",
       "      <td>esea_match_13770997.dem</td>\n",
       "      <td>1</td>\n",
       "      <td>17338</td>\n",
       "      <td>40.76441</td>\n",
       "      <td>Hentai Hooligans</td>\n",
       "      <td>Animal Style</td>\n",
       "      <td>Terrorist</td>\n",
       "      <td>CounterTerrorist</td>\n",
       "      <td>Glock</td>\n",
       "      <td>Pistol</td>\n",
       "      <td>2</td>\n",
       "      <td>3</td>\n",
       "      <td>False</td>\n",
       "    </tr>\n",
       "  </tbody>\n",
       "</table>\n",
       "</div>"
      ],
      "text/plain": [
       "                      file  round   tick   seconds          att_team  \\\n",
       "0  esea_match_13770997.dem      1  16058  30.74165      Animal Style   \n",
       "1  esea_match_13770997.dem      1  16210  31.93185  Hentai Hooligans   \n",
       "2  esea_match_13770997.dem      1  16510  34.28094  Hentai Hooligans   \n",
       "3  esea_match_13770997.dem      1  17104  38.93212      Animal Style   \n",
       "4  esea_match_13770997.dem      1  17338  40.76441  Hentai Hooligans   \n",
       "\n",
       "           vic_team          att_side          vic_side     wp wp_type  \\\n",
       "0  Hentai Hooligans  CounterTerrorist         Terrorist    USP  Pistol   \n",
       "1      Animal Style         Terrorist  CounterTerrorist  Glock  Pistol   \n",
       "2      Animal Style         Terrorist  CounterTerrorist  Glock  Pistol   \n",
       "3  Hentai Hooligans  CounterTerrorist         Terrorist    USP  Pistol   \n",
       "4      Animal Style         Terrorist  CounterTerrorist  Glock  Pistol   \n",
       "\n",
       "   ct_alive  t_alive  is_bomb_planted  \n",
       "0         5        4            False  \n",
       "1         4        4            False  \n",
       "2         3        4            False  \n",
       "3         3        3            False  \n",
       "4         2        3            False  "
      ]
     },
     "execution_count": 7,
     "metadata": {},
     "output_type": "execute_result"
    }
   ],
   "source": [
    "# extract the first 5 rows and schema from spark df\n",
    "kills_df_subset = kills_df.head(5)\n",
    "kills_schema = kills_df.schema\n",
    "\n",
    "# convert the subset to a pandas df with schema (for pretty output)\n",
    "pandas_kills_df = pd.DataFrame(kills_df_subset, columns=kills_schema.fieldNames())\n",
    "pandas_kills_df"
   ]
  },
  {
   "cell_type": "markdown",
   "id": "45f1bca1",
   "metadata": {},
   "source": [
    "<u>Feature Descriptions:</u>\n",
    "\n",
    "**file:** the file name that the demo was scraped from, unique for each match<br>\n",
    "**round:** the round that the damage took place<br>\n",
    "**tick:** the converted tick to seconds within the game since match start<br>\n",
    "**seconds:** the number of seconds into the _round_ in which the event occurred<br>\n",
    "**att_team:** the team of the player that dealt damage to the victim (world included)<br>\n",
    "**vic_team:** the team of the player that received damage<br>\n",
    "**att_side:** the side that the attacker was on (Terrorist or CounterTerrorist)<br>\n",
    "**vic_side:** the side that the victim was on (Terrorist or CounterTerrorist)<br>\n",
    "**wp:** the weapon that the attacker used to deal damage<br>\n",
    "**wp_type:** the type of weapon that the attacker used<br>\n",
    "**ct_alive:** the number of counter terrorist players alive after this kill event<br>\n",
    "**t_alive:** the number of terrorist players alive after this kill event<br>\n",
    "**is_bomb_planted:** has the bomb been planted as of this entry\n",
    "\n",
    "Note: seconds has a different meaning here than compared to the damage and grenades data.<br>\n",
    "This data is missing location features, they must be inferred from the damage data.\n",
    "\n",
    "### 4. esea_meta_demos <a name=\"meta\"></a>\n",
    "\n",
    "This data includes the per round meta information for each event from the damage, grenade, and kill datasets."
   ]
  },
  {
   "cell_type": "code",
   "execution_count": 8,
   "id": "5f4d815c",
   "metadata": {},
   "outputs": [
    {
     "data": {
      "text/plain": [
       "377629"
      ]
     },
     "execution_count": 8,
     "metadata": {},
     "output_type": "execute_result"
    }
   ],
   "source": [
    "meta_df = spark.read.load('hdfs://orion08:24001/csgo/esea_meta_demos.part*.csv',\n",
    "                          format='csv',\n",
    "                          sep=',',\n",
    "                          inferSchema='true',\n",
    "                          header='true')\n",
    "meta_df.count()"
   ]
  },
  {
   "cell_type": "code",
   "execution_count": 9,
   "id": "5f6d2718",
   "metadata": {
    "scrolled": false
   },
   "outputs": [
    {
     "data": {
      "text/html": [
       "<div>\n",
       "<style scoped>\n",
       "    .dataframe tbody tr th:only-of-type {\n",
       "        vertical-align: middle;\n",
       "    }\n",
       "\n",
       "    .dataframe tbody tr th {\n",
       "        vertical-align: top;\n",
       "    }\n",
       "\n",
       "    .dataframe thead th {\n",
       "        text-align: right;\n",
       "    }\n",
       "</style>\n",
       "<table border=\"1\" class=\"dataframe\">\n",
       "  <thead>\n",
       "    <tr style=\"text-align: right;\">\n",
       "      <th></th>\n",
       "      <th>file</th>\n",
       "      <th>map</th>\n",
       "      <th>round</th>\n",
       "      <th>start_seconds</th>\n",
       "      <th>end_seconds</th>\n",
       "      <th>winner_team</th>\n",
       "      <th>winner_side</th>\n",
       "      <th>round_type</th>\n",
       "      <th>ct_eq_val</th>\n",
       "      <th>t_eq_val</th>\n",
       "    </tr>\n",
       "  </thead>\n",
       "  <tbody>\n",
       "    <tr>\n",
       "      <th>0</th>\n",
       "      <td>esea_match_13770997.dem</td>\n",
       "      <td>de_overpass</td>\n",
       "      <td>1</td>\n",
       "      <td>94.30782</td>\n",
       "      <td>160.9591</td>\n",
       "      <td>Hentai Hooligans</td>\n",
       "      <td>Terrorist</td>\n",
       "      <td>PISTOL_ROUND</td>\n",
       "      <td>4300</td>\n",
       "      <td>4250</td>\n",
       "    </tr>\n",
       "    <tr>\n",
       "      <th>1</th>\n",
       "      <td>esea_match_13770997.dem</td>\n",
       "      <td>de_overpass</td>\n",
       "      <td>2</td>\n",
       "      <td>160.95910</td>\n",
       "      <td>279.3998</td>\n",
       "      <td>Hentai Hooligans</td>\n",
       "      <td>Terrorist</td>\n",
       "      <td>ECO</td>\n",
       "      <td>6300</td>\n",
       "      <td>19400</td>\n",
       "    </tr>\n",
       "    <tr>\n",
       "      <th>2</th>\n",
       "      <td>esea_match_13770997.dem</td>\n",
       "      <td>de_overpass</td>\n",
       "      <td>3</td>\n",
       "      <td>279.39980</td>\n",
       "      <td>341.0084</td>\n",
       "      <td>Hentai Hooligans</td>\n",
       "      <td>Terrorist</td>\n",
       "      <td>SEMI_ECO</td>\n",
       "      <td>7650</td>\n",
       "      <td>19250</td>\n",
       "    </tr>\n",
       "    <tr>\n",
       "      <th>3</th>\n",
       "      <td>esea_match_13770997.dem</td>\n",
       "      <td>de_overpass</td>\n",
       "      <td>4</td>\n",
       "      <td>341.00840</td>\n",
       "      <td>435.4259</td>\n",
       "      <td>Hentai Hooligans</td>\n",
       "      <td>Terrorist</td>\n",
       "      <td>NORMAL</td>\n",
       "      <td>24900</td>\n",
       "      <td>23400</td>\n",
       "    </tr>\n",
       "    <tr>\n",
       "      <th>4</th>\n",
       "      <td>esea_match_13770997.dem</td>\n",
       "      <td>de_overpass</td>\n",
       "      <td>5</td>\n",
       "      <td>435.42590</td>\n",
       "      <td>484.2398</td>\n",
       "      <td>Animal Style</td>\n",
       "      <td>CounterTerrorist</td>\n",
       "      <td>ECO</td>\n",
       "      <td>5400</td>\n",
       "      <td>20550</td>\n",
       "    </tr>\n",
       "  </tbody>\n",
       "</table>\n",
       "</div>"
      ],
      "text/plain": [
       "                      file          map  round  start_seconds  end_seconds  \\\n",
       "0  esea_match_13770997.dem  de_overpass      1       94.30782     160.9591   \n",
       "1  esea_match_13770997.dem  de_overpass      2      160.95910     279.3998   \n",
       "2  esea_match_13770997.dem  de_overpass      3      279.39980     341.0084   \n",
       "3  esea_match_13770997.dem  de_overpass      4      341.00840     435.4259   \n",
       "4  esea_match_13770997.dem  de_overpass      5      435.42590     484.2398   \n",
       "\n",
       "        winner_team       winner_side    round_type  ct_eq_val  t_eq_val  \n",
       "0  Hentai Hooligans         Terrorist  PISTOL_ROUND       4300      4250  \n",
       "1  Hentai Hooligans         Terrorist           ECO       6300     19400  \n",
       "2  Hentai Hooligans         Terrorist      SEMI_ECO       7650     19250  \n",
       "3  Hentai Hooligans         Terrorist        NORMAL      24900     23400  \n",
       "4      Animal Style  CounterTerrorist           ECO       5400     20550  "
      ]
     },
     "execution_count": 9,
     "metadata": {},
     "output_type": "execute_result"
    }
   ],
   "source": [
    "# extract the first 5 rows and schema from spark df\n",
    "meta_df_subset = meta_df.head(5)\n",
    "meta_schema = meta_df.schema\n",
    "\n",
    "# convert the subset to a pandas df with schema (for pretty output)\n",
    "pandas_meta_df = pd.DataFrame(meta_df_subset, columns=meta_schema.fieldNames())\n",
    "pandas_meta_df"
   ]
  },
  {
   "cell_type": "markdown",
   "id": "8e005487",
   "metadata": {},
   "source": [
    "<u>Feature Descriptions:</u>\n",
    "\n",
    "**file:** the file name that the demo was scraped from, unique for each match<br>\n",
    "**map:** the unique map name<br>\n",
    "**round:** the round number<br>\n",
    "**start_seconds:** the second into the demo that the round started (includes freeze time)<br>\n",
    "**end_seconds:** the second into the demo that the round ended (official end)<br>\n",
    "**winner_team:** the team that won at the end of that round<br>\n",
    "**winner_side:** the side that the `winner_team` was on<br>\n",
    "**round_type:** the estimated round type by Akiver's csgo demo manager (imperfect)<br>\n",
    "**ct_eq_val:** the counter terrorist team's total equipment value (weapon + grenades + armor + utilities) after buy time<br>\n",
    "**t_eq_val:** the terrorist team's total equipment value (weapon + grenades + armor + utilities) after buy time\n",
    "\n",
    "### 5. map_data <a name=\"map\"></a>\n",
    "\n",
    "This data includes the coordinates of each map. The X and Y coordinates are all in-game coordinates and need to be linearly scaled to be plotted on any official radar maps."
   ]
  },
  {
   "cell_type": "code",
   "execution_count": 10,
   "id": "51e164af",
   "metadata": {},
   "outputs": [
    {
     "data": {
      "text/plain": [
       "7"
      ]
     },
     "execution_count": 10,
     "metadata": {},
     "output_type": "execute_result"
    }
   ],
   "source": [
    "map_df = spark.read.load('hdfs://orion08:24001/csgo/map_data.csv',\n",
    "                          format='csv',\n",
    "                          sep=',',\n",
    "                          inferSchema='true',\n",
    "                          header='true')\n",
    "map_df.count()"
   ]
  },
  {
   "cell_type": "code",
   "execution_count": 11,
   "id": "3586b6e1",
   "metadata": {
    "scrolled": true
   },
   "outputs": [
    {
     "data": {
      "text/html": [
       "<div>\n",
       "<style scoped>\n",
       "    .dataframe tbody tr th:only-of-type {\n",
       "        vertical-align: middle;\n",
       "    }\n",
       "\n",
       "    .dataframe tbody tr th {\n",
       "        vertical-align: top;\n",
       "    }\n",
       "\n",
       "    .dataframe thead th {\n",
       "        text-align: right;\n",
       "    }\n",
       "</style>\n",
       "<table border=\"1\" class=\"dataframe\">\n",
       "  <thead>\n",
       "    <tr style=\"text-align: right;\">\n",
       "      <th></th>\n",
       "      <th>_c0</th>\n",
       "      <th>EndX</th>\n",
       "      <th>EndY</th>\n",
       "      <th>ResX</th>\n",
       "      <th>ResY</th>\n",
       "      <th>StartX</th>\n",
       "      <th>StartY</th>\n",
       "    </tr>\n",
       "  </thead>\n",
       "  <tbody>\n",
       "    <tr>\n",
       "      <th>0</th>\n",
       "      <td>de_cache</td>\n",
       "      <td>3752</td>\n",
       "      <td>3187</td>\n",
       "      <td>1024</td>\n",
       "      <td>1024</td>\n",
       "      <td>-2031</td>\n",
       "      <td>-2240</td>\n",
       "    </tr>\n",
       "    <tr>\n",
       "      <th>1</th>\n",
       "      <td>de_cbble</td>\n",
       "      <td>2282</td>\n",
       "      <td>3032</td>\n",
       "      <td>1024</td>\n",
       "      <td>1024</td>\n",
       "      <td>-3819</td>\n",
       "      <td>-3073</td>\n",
       "    </tr>\n",
       "    <tr>\n",
       "      <th>2</th>\n",
       "      <td>de_dust2</td>\n",
       "      <td>2127</td>\n",
       "      <td>3455</td>\n",
       "      <td>1024</td>\n",
       "      <td>1024</td>\n",
       "      <td>-2486</td>\n",
       "      <td>-1150</td>\n",
       "    </tr>\n",
       "    <tr>\n",
       "      <th>3</th>\n",
       "      <td>de_inferno</td>\n",
       "      <td>2797</td>\n",
       "      <td>3800</td>\n",
       "      <td>1024</td>\n",
       "      <td>1024</td>\n",
       "      <td>-1960</td>\n",
       "      <td>-1062</td>\n",
       "    </tr>\n",
       "    <tr>\n",
       "      <th>4</th>\n",
       "      <td>de_mirage</td>\n",
       "      <td>1912</td>\n",
       "      <td>1682</td>\n",
       "      <td>1024</td>\n",
       "      <td>1024</td>\n",
       "      <td>-3217</td>\n",
       "      <td>-3401</td>\n",
       "    </tr>\n",
       "    <tr>\n",
       "      <th>5</th>\n",
       "      <td>de_overpass</td>\n",
       "      <td>503</td>\n",
       "      <td>1740</td>\n",
       "      <td>1024</td>\n",
       "      <td>1024</td>\n",
       "      <td>-4820</td>\n",
       "      <td>-3591</td>\n",
       "    </tr>\n",
       "    <tr>\n",
       "      <th>6</th>\n",
       "      <td>de_train</td>\n",
       "      <td>2262</td>\n",
       "      <td>2447</td>\n",
       "      <td>1024</td>\n",
       "      <td>1024</td>\n",
       "      <td>-2436</td>\n",
       "      <td>-2469</td>\n",
       "    </tr>\n",
       "  </tbody>\n",
       "</table>\n",
       "</div>"
      ],
      "text/plain": [
       "           _c0  EndX  EndY  ResX  ResY  StartX  StartY\n",
       "0     de_cache  3752  3187  1024  1024   -2031   -2240\n",
       "1     de_cbble  2282  3032  1024  1024   -3819   -3073\n",
       "2     de_dust2  2127  3455  1024  1024   -2486   -1150\n",
       "3   de_inferno  2797  3800  1024  1024   -1960   -1062\n",
       "4    de_mirage  1912  1682  1024  1024   -3217   -3401\n",
       "5  de_overpass   503  1740  1024  1024   -4820   -3591\n",
       "6     de_train  2262  2447  1024  1024   -2436   -2469"
      ]
     },
     "execution_count": 11,
     "metadata": {},
     "output_type": "execute_result"
    }
   ],
   "source": [
    "# convert spark df to pandas df (small enough)\n",
    "pandas_map_df = map_df.toPandas()\n",
    "pandas_map_df"
   ]
  },
  {
   "cell_type": "markdown",
   "id": "87fda816",
   "metadata": {},
   "source": [
    "<u>Feature Descriptions:</u>\n",
    "\n",
    "**\\_c0:** the unique map name<br>\n",
    "**EndX:** the X position of the radar map's end<br>\n",
    "**EndY:** the Y position of the radar map's end<br>\n",
    "**ResX:** the X resolution of the radar map<br>\n",
    "**ResY:** the Y resolution of the radar map<br>\n",
    "**StartX:** the X position of the radar map's start<br>\n",
    "**StartY:** the Y position of start<br>\n",
    "\n",
    "Note: this dataset only includes data for the maps in the active duty map pool, which are the maps currently in competitive play.\n",
    "\n",
    "---\n",
    "\n",
    "## Exploratory Analysis <a name=\"explore\"></a>\n",
    "\n",
    "The data is pretty straightforward and doesn't require any necessary cleaning. Once we begin plotting the events, we will need to transform the X and Y coordinates, but for now, the data can remain as is. The following cells check out the summary statistics for some of the more important features."
   ]
  },
  {
   "cell_type": "code",
   "execution_count": 12,
   "id": "d3183a8b",
   "metadata": {},
   "outputs": [
    {
     "name": "stderr",
     "output_type": "stream",
     "text": [
      "[Stage 30:==================================================>     (18 + 2) / 20]\r"
     ]
    },
    {
     "name": "stdout",
     "output_type": "stream",
     "text": [
      "+------------+\n",
      "|wp          |\n",
      "+------------+\n",
      "|P250        |\n",
      "|XM1014      |\n",
      "|Mac10       |\n",
      "|G3SG1       |\n",
      "|Famas       |\n",
      "|DualBarettas|\n",
      "|CZ          |\n",
      "|Bomb        |\n",
      "|Scar20      |\n",
      "|SG556       |\n",
      "|Molotov     |\n",
      "|Unknown     |\n",
      "|M4A1        |\n",
      "|P90         |\n",
      "|Nova        |\n",
      "|M249        |\n",
      "|Smoke       |\n",
      "|Glock       |\n",
      "|AUG         |\n",
      "|Scout       |\n",
      "|AWP         |\n",
      "|Swag7       |\n",
      "|Tec9        |\n",
      "|AK47        |\n",
      "|Deagle      |\n",
      "|Flash       |\n",
      "|UMP         |\n",
      "|SawedOff    |\n",
      "|MP9         |\n",
      "|Gallil      |\n",
      "|Negev       |\n",
      "|P2000       |\n",
      "|FiveSeven   |\n",
      "|MP7         |\n",
      "|Zeus        |\n",
      "|Incendiary  |\n",
      "|Knife       |\n",
      "|Bizon       |\n",
      "|USP         |\n",
      "|HE          |\n",
      "|M4A4        |\n",
      "|Decoy       |\n",
      "+------------+\n",
      "\n"
     ]
    },
    {
     "name": "stderr",
     "output_type": "stream",
     "text": [
      "\r",
      "                                                                                \r"
     ]
    }
   ],
   "source": [
    "# register dmg_df as temporary table\n",
    "dmg_df.createOrReplaceTempView(\"dmg_table\")\n",
    "\n",
    "# check out the different weapon types that caused damage\n",
    "weapons = spark.sql(\"SELECT DISTINCT wp FROM dmg_table\")\n",
    "weapons.show(100, truncate=False)"
   ]
  },
  {
   "cell_type": "markdown",
   "id": "5453a71f",
   "metadata": {},
   "source": [
    "It's interesting that smoke is in here. Let's take a look at what kind of damage happens with smoke. In valorant typical smokes do not cause damage (unless it's a poison orb) but since CS:GO doesn't have these special abilties I wonder how smoke ended up in the damage data."
   ]
  },
  {
   "cell_type": "code",
   "execution_count": 13,
   "id": "1def75c0",
   "metadata": {},
   "outputs": [
    {
     "name": "stderr",
     "output_type": "stream",
     "text": [
      "[Stage 33:=====================================================>  (19 + 1) / 20]\r"
     ]
    },
    {
     "name": "stdout",
     "output_type": "stream",
     "text": [
      "+-----------------------+-----+------+-------+-------+-----+-------+\n",
      "|file                   |round|hp_dmg|arm_dmg|hitbox |wp   |wp_type|\n",
      "+-----------------------+-----+------+-------+-------+-----+-------+\n",
      "|esea_match_13790296.dem|22   |1     |0      |Generic|Smoke|Grenade|\n",
      "|esea_match_13790296.dem|22   |1     |0      |Generic|Smoke|Grenade|\n",
      "|esea_match_13790298.dem|14   |1     |0      |Generic|Smoke|Grenade|\n",
      "|esea_match_13790298.dem|14   |2     |0      |Generic|Smoke|Grenade|\n",
      "|esea_match_13790298.dem|14   |2     |0      |Generic|Smoke|Grenade|\n",
      "|esea_match_13790314.dem|29   |1     |0      |Generic|Smoke|Grenade|\n",
      "|esea_match_13790314.dem|29   |1     |0      |Generic|Smoke|Grenade|\n",
      "|esea_match_13790316.dem|28   |1     |0      |Generic|Smoke|Grenade|\n",
      "|esea_match_13790316.dem|28   |1     |0      |Generic|Smoke|Grenade|\n",
      "|esea_match_13790318.dem|14   |1     |0      |Generic|Smoke|Grenade|\n",
      "|esea_match_13790318.dem|14   |1     |0      |Generic|Smoke|Grenade|\n",
      "|esea_match_13790318.dem|17   |1     |0      |Generic|Smoke|Grenade|\n",
      "|esea_match_13790321.dem|3    |1     |0      |Generic|Smoke|Grenade|\n",
      "|esea_match_13790321.dem|3    |2     |0      |Generic|Smoke|Grenade|\n",
      "|esea_match_13790321.dem|3    |2     |0      |Generic|Smoke|Grenade|\n",
      "|esea_match_13790327.dem|24   |1     |0      |Generic|Smoke|Grenade|\n",
      "|esea_match_13790327.dem|24   |1     |0      |Generic|Smoke|Grenade|\n",
      "|esea_match_13790329.dem|23   |1     |0      |Generic|Smoke|Grenade|\n",
      "|esea_match_13790329.dem|23   |1     |0      |Generic|Smoke|Grenade|\n",
      "|esea_match_13790338.dem|12   |1     |0      |Generic|Smoke|Grenade|\n",
      "+-----------------------+-----+------+-------+-------+-----+-------+\n",
      "\n"
     ]
    },
    {
     "name": "stderr",
     "output_type": "stream",
     "text": [
      "\r",
      "                                                                                \r"
     ]
    }
   ],
   "source": [
    "# check out the smoke damage events\n",
    "smoke_dmg = spark.sql(\"SELECT file, round, hp_dmg, arm_dmg, hitbox, wp, wp_type FROM dmg_table WHERE wp = 'Smoke' LIMIT 20\")\n",
    "smoke_dmg.show(truncate=False)"
   ]
  },
  {
   "cell_type": "code",
   "execution_count": 14,
   "id": "bb61ae89",
   "metadata": {},
   "outputs": [
    {
     "name": "stderr",
     "output_type": "stream",
     "text": [
      "[Stage 36:=======================================>                (14 + 6) / 20]\r"
     ]
    },
    {
     "name": "stdout",
     "output_type": "stream",
     "text": [
      "+-----------+\n",
      "|max(hp_dmg)|\n",
      "+-----------+\n",
      "|          4|\n",
      "+-----------+\n",
      "\n"
     ]
    },
    {
     "name": "stderr",
     "output_type": "stream",
     "text": [
      "\r",
      "[Stage 36:==================================================>     (18 + 2) / 20]\r",
      "\r",
      "                                                                                \r"
     ]
    }
   ],
   "source": [
    "# check out the max damage possible from smokes\n",
    "max_smoke_dmg = spark.sql(\"SELECT MAX(hp_dmg) FROM dmg_table WHERE wp = 'Smoke'\")\n",
    "max_smoke_dmg.show()"
   ]
  },
  {
   "cell_type": "markdown",
   "id": "97c19322",
   "metadata": {},
   "source": [
    "This is actually really funny. If a player has low health, they can essentialy be killed if a smoke is thrown at them. Even in valorant this can't happen (the poison orbs can only drop you to 1 hp while you stay inside them)."
   ]
  },
  {
   "cell_type": "code",
   "execution_count": 15,
   "id": "9f105464",
   "metadata": {},
   "outputs": [
    {
     "name": "stderr",
     "output_type": "stream",
     "text": [
      "[Stage 39:=====================================================>  (19 + 1) / 20]\r"
     ]
    },
    {
     "name": "stdout",
     "output_type": "stream",
     "text": [
      "+---------+\n",
      "|wp_type  |\n",
      "+---------+\n",
      "|Grenade  |\n",
      "|Equipment|\n",
      "|Sniper   |\n",
      "|Rifle    |\n",
      "|Heavy    |\n",
      "|Unkown   |\n",
      "|Pistol   |\n",
      "|SMG      |\n",
      "+---------+\n",
      "\n"
     ]
    },
    {
     "name": "stderr",
     "output_type": "stream",
     "text": [
      "\r",
      "                                                                                \r"
     ]
    }
   ],
   "source": [
    "# check out the different weapon types\n",
    "weapon_types = spark.sql(\"SELECT DISTINCT wp_type FROM dmg_table\")\n",
    "weapon_types.show(100, truncate=False)"
   ]
  },
  {
   "cell_type": "code",
   "execution_count": 16,
   "id": "4e09f471",
   "metadata": {},
   "outputs": [
    {
     "name": "stderr",
     "output_type": "stream",
     "text": [
      "[Stage 42:============================================>           (16 + 4) / 20]\r"
     ]
    },
    {
     "name": "stdout",
     "output_type": "stream",
     "text": [
      "+-------+------------------+\n",
      "|summary|            hp_dmg|\n",
      "+-------+------------------+\n",
      "|  count|          10538182|\n",
      "|   mean| 28.70006031400862|\n",
      "| stddev|24.785718805337176|\n",
      "|    min|                 1|\n",
      "|    max|               100|\n",
      "+-------+------------------+\n",
      "\n"
     ]
    },
    {
     "name": "stderr",
     "output_type": "stream",
     "text": [
      "\r",
      "                                                                                \r"
     ]
    }
   ],
   "source": [
    "# check out hp damage stats\n",
    "dmg_df.select(\"hp_dmg\").describe().show()"
   ]
  },
  {
   "cell_type": "code",
   "execution_count": 17,
   "id": "90adcd02",
   "metadata": {},
   "outputs": [
    {
     "name": "stderr",
     "output_type": "stream",
     "text": [
      "[Stage 45:==========================================>             (15 + 5) / 20]\r"
     ]
    },
    {
     "name": "stdout",
     "output_type": "stream",
     "text": [
      "+-------+------------------+\n",
      "|summary|           arm_dmg|\n",
      "+-------+------------------+\n",
      "|  count|          10538182|\n",
      "|   mean|  3.71434721852403|\n",
      "| stddev|4.9539481384176245|\n",
      "|    min|                 0|\n",
      "|    max|               100|\n",
      "+-------+------------------+\n",
      "\n"
     ]
    },
    {
     "name": "stderr",
     "output_type": "stream",
     "text": [
      "\r",
      "[Stage 45:===============================================>        (17 + 3) / 20]\r",
      "\r",
      "                                                                                \r"
     ]
    }
   ],
   "source": [
    "# check out armor damage stats\n",
    "dmg_df.select(\"arm_dmg\").describe().show()"
   ]
  },
  {
   "cell_type": "markdown",
   "id": "3617afcb",
   "metadata": {},
   "source": [
    "From the above two statistic summaries, it looks like for every damage evemt, hp damage is always dealt. However, there are cases where armor takes no damage. I suspect this is actually when the player did not buy any armor, though."
   ]
  },
  {
   "cell_type": "code",
   "execution_count": 18,
   "id": "cb9d2f9b",
   "metadata": {},
   "outputs": [
    {
     "name": "stderr",
     "output_type": "stream",
     "text": [
      "[Stage 48:============================================>           (16 + 4) / 20]\r"
     ]
    },
    {
     "name": "stdout",
     "output_type": "stream",
     "text": [
      "+---------------+\n",
      "|is_bomb_planted|\n",
      "+---------------+\n",
      "|           true|\n",
      "|          false|\n",
      "+---------------+\n",
      "\n"
     ]
    },
    {
     "name": "stderr",
     "output_type": "stream",
     "text": [
      "\r",
      "[Stage 48:==================================================>     (18 + 2) / 20]\r",
      "\r",
      "                                                                                \r"
     ]
    }
   ],
   "source": [
    "# check out bomb planted values\n",
    "bomb_planted = spark.sql(\"SELECT DISTINCT is_bomb_planted FROM dmg_table\")\n",
    "bomb_planted.show()"
   ]
  },
  {
   "cell_type": "code",
   "execution_count": 19,
   "id": "b4df78e3",
   "metadata": {},
   "outputs": [
    {
     "name": "stderr",
     "output_type": "stream",
     "text": [
      "[Stage 51:==========================================>             (15 + 5) / 20]\r"
     ]
    },
    {
     "name": "stdout",
     "output_type": "stream",
     "text": [
      "+---------+\n",
      "|bomb_site|\n",
      "+---------+\n",
      "|     null|\n",
      "|        B|\n",
      "|        A|\n",
      "+---------+\n",
      "\n"
     ]
    },
    {
     "name": "stderr",
     "output_type": "stream",
     "text": [
      "\r",
      "                                                                                \r"
     ]
    }
   ],
   "source": [
    "# check out bomb site values\n",
    "bomb_sites = spark.sql(\"SELECT DISTINCT bomb_site FROM dmg_table\")\n",
    "bomb_sites.show()"
   ]
  },
  {
   "cell_type": "markdown",
   "id": "8262a8ed",
   "metadata": {},
   "source": [
    "Null makes sense here for when the bomb does not get planted."
   ]
  },
  {
   "cell_type": "code",
   "execution_count": 20,
   "id": "624505a0",
   "metadata": {},
   "outputs": [
    {
     "name": "stderr",
     "output_type": "stream",
     "text": [
      "[Stage 54:==================================================>     (18 + 2) / 20]\r"
     ]
    },
    {
     "name": "stdout",
     "output_type": "stream",
     "text": [
      "+--------+\n",
      "|  hitbox|\n",
      "+--------+\n",
      "|       8|\n",
      "|    Head|\n",
      "| LeftArm|\n",
      "| Stomach|\n",
      "|RightArm|\n",
      "| LeftLeg|\n",
      "|RightLeg|\n",
      "|   Chest|\n",
      "| Generic|\n",
      "+--------+\n",
      "\n"
     ]
    },
    {
     "name": "stderr",
     "output_type": "stream",
     "text": [
      "\r",
      "                                                                                \r"
     ]
    }
   ],
   "source": [
    "# check out the different hitbox spots\n",
    "hitbox = spark.sql(\"SELECT DISTINCT hitbox FROM dmg_table\")\n",
    "hitbox.show()"
   ]
  },
  {
   "cell_type": "markdown",
   "id": "34dc66c9",
   "metadata": {},
   "source": [
    "This is more in depth than valorant's hitbox stats, which only record if damage is done to the head, body, or legs. The 8 is a little weird, I wonder if that's bad data."
   ]
  },
  {
   "cell_type": "code",
   "execution_count": 21,
   "id": "2bbcd543",
   "metadata": {},
   "outputs": [
    {
     "name": "stdout",
     "output_type": "stream",
     "text": [
      "+-----------------------+-----+------+-------+------+------+-------+\n",
      "|file                   |round|hp_dmg|arm_dmg|hitbox|wp    |wp_type|\n",
      "+-----------------------+-----+------+-------+------+------+-------+\n",
      "|esea_match_13789015.dem|1    |9     |5      |8     |Glock |Pistol |\n",
      "|esea_match_13789017.dem|7    |27    |4      |8     |AK47  |Rifle  |\n",
      "|esea_match_13789017.dem|17   |12    |3      |8     |MP7   |SMG    |\n",
      "|esea_match_13789018.dem|14   |27    |3      |8     |AK47  |Rifle  |\n",
      "|esea_match_13789020.dem|18   |15    |3      |8     |P90   |SMG    |\n",
      "|esea_match_13789023.dem|12   |20    |4      |8     |AK47  |Rifle  |\n",
      "|esea_match_13789023.dem|15   |3     |1      |8     |P2000 |Pistol |\n",
      "|esea_match_13789025.dem|5    |39    |1      |8     |Deagle|Pistol |\n",
      "|esea_match_13789027.dem|7    |26    |3      |8     |AK47  |Rifle  |\n",
      "|esea_match_13789027.dem|9    |26    |3      |8     |AK47  |Rifle  |\n",
      "|esea_match_13789027.dem|21   |26    |3      |8     |AK47  |Rifle  |\n",
      "|esea_match_13789030.dem|2    |19    |5      |8     |P250  |Pistol |\n",
      "|esea_match_13789030.dem|5    |9     |4      |8     |M4A4  |Rifle  |\n",
      "|esea_match_13789032.dem|4    |17    |2      |8     |CZ    |Pistol |\n",
      "|esea_match_13789032.dem|11   |17    |8      |8     |USP   |Pistol |\n",
      "|esea_match_13789033.dem|14   |9     |4      |8     |M4A4  |Rifle  |\n",
      "|esea_match_13789035.dem|17   |15    |5      |8     |Mac10 |SMG    |\n",
      "|esea_match_13789035.dem|20   |13    |3      |8     |Gallil|Rifle  |\n",
      "|esea_match_13789035.dem|21   |26    |3      |8     |AK47  |Rifle  |\n",
      "|esea_match_13789035.dem|27   |22    |4      |8     |M4A4  |Rifle  |\n",
      "+-----------------------+-----+------+-------+------+------+-------+\n",
      "\n"
     ]
    }
   ],
   "source": [
    "# checkout wierd 8 hitbox\n",
    "hitbox = spark.sql(\"SELECT file, round, hp_dmg, arm_dmg, hitbox, wp, wp_type FROM dmg_table WHERE hitbox = 8 LIMIT 20\")\n",
    "hitbox.show(truncate=False)"
   ]
  },
  {
   "cell_type": "markdown",
   "id": "2a4025d8",
   "metadata": {},
   "source": [
    "The data varies greatly here, and the 8 doesn't even seem to be an id for another hitbox."
   ]
  },
  {
   "cell_type": "code",
   "execution_count": 22,
   "id": "582c9993",
   "metadata": {},
   "outputs": [
    {
     "name": "stderr",
     "output_type": "stream",
     "text": [
      "[Stage 60:=====================================================>  (19 + 1) / 20]\r"
     ]
    },
    {
     "name": "stdout",
     "output_type": "stream",
     "text": [
      "+----------+\n",
      "|      nade|\n",
      "+----------+\n",
      "|   Molotov|\n",
      "|     Decoy|\n",
      "|     Smoke|\n",
      "|     Flash|\n",
      "|Incendiary|\n",
      "|        HE|\n",
      "+----------+\n",
      "\n"
     ]
    },
    {
     "name": "stderr",
     "output_type": "stream",
     "text": [
      "\r",
      "                                                                                \r"
     ]
    }
   ],
   "source": [
    "# register grenades_df as temporary table\n",
    "grenades_df.createOrReplaceTempView(\"grenades_table\")\n",
    "\n",
    "# check out the different grenade utility\n",
    "nades = spark.sql(\"SELECT DISTINCT nade FROM grenades_table\")\n",
    "nades.show()"
   ]
  },
  {
   "cell_type": "markdown",
   "id": "04a07540",
   "metadata": {},
   "source": [
    "The utility is as expected."
   ]
  },
  {
   "cell_type": "code",
   "execution_count": 23,
   "id": "2e0eecd8",
   "metadata": {},
   "outputs": [
    {
     "name": "stderr",
     "output_type": "stream",
     "text": [
      "[Stage 63:=======================================>                (14 + 6) / 20]\r"
     ]
    },
    {
     "name": "stdout",
     "output_type": "stream",
     "text": [
      "+--------+\n",
      "|ct_alive|\n",
      "+--------+\n",
      "|      -5|\n",
      "|      -4|\n",
      "|      -3|\n",
      "|      -2|\n",
      "|      -1|\n",
      "|       0|\n",
      "|       1|\n",
      "|       2|\n",
      "|       3|\n",
      "|       4|\n",
      "|       5|\n",
      "+--------+\n",
      "\n"
     ]
    },
    {
     "name": "stderr",
     "output_type": "stream",
     "text": [
      "\r",
      "                                                                                \r"
     ]
    }
   ],
   "source": [
    "# register kills_df as temporary table\n",
    "kills_df.createOrReplaceTempView(\"kills_table\")\n",
    "\n",
    "# check out the different number of counter terrorists alive at each kill event\n",
    "ct_alive = spark.sql(\"SELECT DISTINCT ct_alive FROM kills_table ORDER BY ct_alive\")\n",
    "ct_alive.show()"
   ]
  },
  {
   "cell_type": "markdown",
   "id": "8b190eba",
   "metadata": {},
   "source": [
    "Now this is super interesting because how can there be negative players alive? Let's check out these negative rounds."
   ]
  },
  {
   "cell_type": "code",
   "execution_count": 24,
   "id": "31a8cc3b",
   "metadata": {
    "scrolled": false
   },
   "outputs": [
    {
     "name": "stderr",
     "output_type": "stream",
     "text": [
      "[Stage 66:=======================================>                (14 + 6) / 20]\r"
     ]
    },
    {
     "name": "stdout",
     "output_type": "stream",
     "text": [
      "+-----------------------+-----+--------+--------+---------+--------+-------+---------------+\n",
      "|file                   |round|att_team|vic_team|wp       |ct_alive|t_alive|is_bomb_planted|\n",
      "+-----------------------+-----+--------+--------+---------+--------+-------+---------------+\n",
      "|esea_match_13789018.dem|15   |Team 2  |Team 2  |Knife    |-1      |4      |true           |\n",
      "|esea_match_13782060.dem|13   |Team 2  |Team 1  |AK47     |-1      |-3     |true           |\n",
      "|esea_match_13782090.dem|10   |Team 2  |Team 1  |AK47     |-1      |1      |true           |\n",
      "|esea_match_13782090.dem|10   |Team 2  |Team 1  |AK47     |-2      |1      |true           |\n",
      "|esea_match_13782090.dem|10   |Team 2  |Team 1  |AK47     |-3      |1      |true           |\n",
      "|esea_match_13782090.dem|10   |Team 1  |Team 2  |USP      |-3      |0      |true           |\n",
      "|esea_match_13782090.dem|10   |Team 2  |Team 1  |AK47     |-4      |0      |true           |\n",
      "|esea_match_13782090.dem|10   |Team 2  |Team 1  |AK47     |-5      |0      |true           |\n",
      "|esea_match_13827154.dem|14   |Team 2  |Team 1  |AK47     |-1      |0      |true           |\n",
      "|esea_match_13827154.dem|14   |Team 1  |Team 2  |FiveSeven|-1      |-1     |true           |\n",
      "|esea_match_13827154.dem|14   |Team 2  |Team 1  |AK47     |-2      |-1     |true           |\n",
      "|esea_match_13827154.dem|14   |Team 1  |Team 2  |M4A1     |-2      |-2     |true           |\n",
      "|esea_match_13827335.dem|12   |Team 2  |Team 1  |Deagle   |-1      |0      |false          |\n",
      "|esea_match_13827335.dem|12   |Team 2  |Team 1  |AWP      |-2      |0      |true           |\n",
      "|esea_match_13827335.dem|12   |Team 2  |Team 1  |Deagle   |-3      |0      |true           |\n",
      "|esea_match_13827340.dem|14   |Team 2  |Team 1  |AK47     |-1      |3      |false          |\n",
      "|esea_match_13827340.dem|14   |Team 2  |Team 1  |AK47     |-2      |3      |false          |\n",
      "|esea_match_13827340.dem|14   |Team 2  |Team 1  |AK47     |-3      |3      |false          |\n",
      "|esea_match_13827340.dem|14   |Team 2  |Team 1  |AK47     |-4      |3      |false          |\n",
      "|esea_match_13827340.dem|14   |Team 1  |Team 2  |M4A4     |-4      |2      |true           |\n",
      "+-----------------------+-----+--------+--------+---------+--------+-------+---------------+\n",
      "\n"
     ]
    },
    {
     "name": "stderr",
     "output_type": "stream",
     "text": [
      "\r",
      "                                                                                \r"
     ]
    }
   ],
   "source": [
    "# find the rows wth neg ct players alive\n",
    "neg_ct_alive = spark.sql(\"SELECT file, round, att_team, vic_team, wp, ct_alive, t_alive, is_bomb_planted FROM kills_table\\\n",
    "                            WHERE ct_alive < 0 LIMIT 20\")\n",
    "neg_ct_alive.show(truncate=False)"
   ]
  },
  {
   "cell_type": "code",
   "execution_count": 25,
   "id": "fc434e0b",
   "metadata": {
    "scrolled": false
   },
   "outputs": [
    {
     "name": "stderr",
     "output_type": "stream",
     "text": [
      "[Stage 71:=====================================>                  (10 + 5) / 15]\r"
     ]
    },
    {
     "name": "stdout",
     "output_type": "stream",
     "text": [
      "+-----+-----------------+----------------+----------------+------+--------+-------+---------------+\n",
      "|round|          seconds|        att_side|        vic_side|    wp|ct_alive|t_alive|is_bomb_planted|\n",
      "+-----+-----------------+----------------+----------------+------+--------+-------+---------------+\n",
      "|   21|         25.16895|CounterTerrorist|       Terrorist|Deagle|       5|      4|          false|\n",
      "|   21|         25.18457|       Terrorist|CounterTerrorist|  AK47|       4|      4|          false|\n",
      "|   21|         34.36255|       Terrorist|CounterTerrorist|  AK47|       3|      4|          false|\n",
      "|   21|         36.39868|       Terrorist|CounterTerrorist|  AK47|       2|      4|          false|\n",
      "|   21|         47.40906|       Terrorist|CounterTerrorist|  AK47|       1|      4|          false|\n",
      "|   21|         48.09827|CounterTerrorist|       Terrorist|Deagle|       1|      3|          false|\n",
      "|   21|         48.63074|       Terrorist|CounterTerrorist|  AK47|       0|      3|          false|\n",
      "|   21|         80.11145|       Terrorist|CounterTerrorist|  AK47|      -1|      3|          false|\n",
      "|   21|87.30041999999999|       Terrorist|CounterTerrorist|  AK47|      -2|      3|          false|\n",
      "|   21|89.90026999999999|       Terrorist|CounterTerrorist|  AK47|      -3|      3|          false|\n",
      "|   21|          93.7218|CounterTerrorist|       Terrorist|  P250|      -3|      2|          false|\n",
      "|   21|         94.81812|       Terrorist|CounterTerrorist|  AK47|      -4|      2|          false|\n",
      "|   21|         97.98193|       Terrorist|CounterTerrorist|  AK47|      -5|      2|          false|\n",
      "+-----+-----------------+----------------+----------------+------+--------+-------+---------------+\n",
      "\n"
     ]
    },
    {
     "name": "stderr",
     "output_type": "stream",
     "text": [
      "\r",
      "                                                                                \r"
     ]
    }
   ],
   "source": [
    "# check out a negative round\n",
    "neg_round = spark.sql(\"SELECT round, seconds, att_side, vic_side, wp, ct_alive, t_alive, is_bomb_planted FROM kills_table\\\n",
    "                        WHERE file = 'esea_match_13782235.dem' AND round = 21\")\n",
    "neg_round.show(50)"
   ]
  },
  {
   "cell_type": "markdown",
   "id": "82cdc732",
   "metadata": {},
   "source": [
    "This is extremely odd and I can't think of a reason in which this could be correct. You cannot revive a dead teammate, so I'm not sure how a counter terrorist can pick up a P250 and kill a Terrorist if there weren't any counter terrorists alive in the first place. The rounds aren't overlapping like I initially thought either."
   ]
  },
  {
   "cell_type": "code",
   "execution_count": 26,
   "id": "750330d7",
   "metadata": {},
   "outputs": [
    {
     "name": "stderr",
     "output_type": "stream",
     "text": [
      "[Stage 75:>                                                         (0 + 2) / 2]\r"
     ]
    },
    {
     "name": "stdout",
     "output_type": "stream",
     "text": [
      "+------------------+-----------------+----------------+-----------------+------+-------+------+--------+\n",
      "|           seconds|           att_id|        vic_side|           vic_id|hp_dmg|arm_dmg|    wp|  hitbox|\n",
      "+------------------+-----------------+----------------+-----------------+------+-------+------+--------+\n",
      "|          1831.694|76561198002029991|       Terrorist|76561198215167165|   100|      5|Deagle|    Head|\n",
      "|           1831.71|76561198206863843|CounterTerrorist|76561198002029991|   100|     15|  AK47|    Head|\n",
      "|           1840.59|76561198180665254|CounterTerrorist|76561197971471048|    26|      3|  AK47| LeftArm|\n",
      "|            1840.7|76561198180665254|CounterTerrorist|76561197971471048|    26|      3|  AK47|   Chest|\n",
      "|1840.7939999999999|76561198180665254|CounterTerrorist|76561197971471048|    26|      3|  AK47|   Chest|\n",
      "|          1840.888|76561198180665254|CounterTerrorist|76561197971471048|    22|      3|  AK47|   Chest|\n",
      "|          1842.626|76561198180665254|CounterTerrorist|76561198256213312|    35|      0|  AK47|RightArm|\n",
      "|           1842.83|76561198180665254|CounterTerrorist|76561198256213312|    26|      0|  AK47| LeftLeg|\n",
      "|          1842.924|76561198180665254|CounterTerrorist|76561198256213312|    39|      0|  AK47| Stomach|\n",
      "|          1850.473|76561198180665254|CounterTerrorist|76561198335967313|    26|      3|  AK47|   Chest|\n",
      "|          1850.692|76561198194992829|       Terrorist|76561198180665254|    16|      2|    CZ|RightArm|\n",
      "|1850.8020000000001|76561198194992829|       Terrorist|76561198180665254|    64|      9|    CZ|    Head|\n",
      "|1853.0420000000001|76561198194992829|       Terrorist|76561198206863843|    22|      0|    CZ| LeftLeg|\n",
      "|          1853.934|76561198206863843|CounterTerrorist|76561198194992829|   100|     16|  AK47|    Head|\n",
      "|          1854.279|76561198335967313|       Terrorist|76561198206863843|    50|      1|Deagle|   Chest|\n",
      "|1854.6229999999998|76561198335967313|       Terrorist|76561198206863843|    28|      0|Deagle| LeftLeg|\n",
      "|          1855.156|76561198193298595|CounterTerrorist|76561198335967313|    74|      0|  AK47|    Head|\n",
      "|1882.4389999999999|76561198031401360|CounterTerrorist|76561198335967313|     2|      0| Smoke| Generic|\n",
      "|1882.4389999999999|76561198031401360|CounterTerrorist|76561198335967313|     2|      0| Smoke| Generic|\n",
      "|1884.3339999999998|76561198335967313|       Terrorist|76561198206863843|     4|      1|    HE| Generic|\n",
      "|1884.3339999999998|76561198335967313|       Terrorist|76561198193298595|    19|      6|    HE| Generic|\n",
      "|1884.3339999999998|76561198335967313|       Terrorist|76561198180665254|     5|      1|    HE| Generic|\n",
      "|1886.6370000000002|76561198193298595|CounterTerrorist|76561198335967313|    96|      0|  AK47|    Head|\n",
      "|          1893.622|76561198193298595|CounterTerrorist|76561198002029991|    35|      0|  AK47|   Chest|\n",
      "|1893.7160000000001|76561198193298595|CounterTerrorist|76561198002029991|    35|      0|  AK47|   Chest|\n",
      "|          1893.826|76561198193298595|CounterTerrorist|76561198002029991|    30|      0|  AK47|   Chest|\n",
      "|          1896.112|76561198206863843|CounterTerrorist|76561197971471048|    35|      0|  AK47|   Chest|\n",
      "|1896.2220000000002|76561198206863843|CounterTerrorist|76561197971471048|    35|      0|  AK47|   Chest|\n",
      "|          1896.425|76561198206863843|CounterTerrorist|76561197971471048|    30|      0|  AK47|   Chest|\n",
      "|1899.9489999999998|76561198193298595|CounterTerrorist|76561198256213312|    44|      0|  AK47| Stomach|\n",
      "|          1900.043|76561198193298595|CounterTerrorist|76561198256213312|    44|      0|  AK47| Stomach|\n",
      "|          1900.247|76561198256213312|       Terrorist|76561198193298595|    81|     24|  P250|    Head|\n",
      "|1901.3429999999998|76561198206863843|CounterTerrorist|76561198256213312|    12|      0|  AK47| Stomach|\n",
      "|1904.2879999999998|76561198194992829|       Terrorist|76561198180665254|    20|      5|  P250|   Chest|\n",
      "|1904.3029999999999|76561198180665254|CounterTerrorist|76561198194992829|    34|      0|  AK47|   Chest|\n",
      "|1904.4129999999998|76561198180665254|CounterTerrorist|76561198194992829|    43|      0|  AK47| Stomach|\n",
      "|          1904.507|76561198180665254|CounterTerrorist|76561198194992829|    23|      0|  AK47| Stomach|\n",
      "+------------------+-----------------+----------------+-----------------+------+-------+------+--------+\n",
      "\n"
     ]
    },
    {
     "name": "stderr",
     "output_type": "stream",
     "text": [
      "\r",
      "                                                                                \r"
     ]
    }
   ],
   "source": [
    "# cross reference with damage data\n",
    "neg_dmg = spark.sql(\"SELECT seconds, att_id, vic_side, vic_id, hp_dmg, arm_dmg, wp, hitbox FROM dmg_table\\\n",
    "                        WHERE file = 'esea_match_13782235.dem' AND round = 21\")\n",
    "neg_dmg.show(100)"
   ]
  },
  {
   "cell_type": "code",
   "execution_count": 27,
   "id": "1fd1e7ee",
   "metadata": {},
   "outputs": [
    {
     "name": "stderr",
     "output_type": "stream",
     "text": [
      "[Stage 76:============================================>           (16 + 4) / 20]\r"
     ]
    },
    {
     "name": "stdout",
     "output_type": "stream",
     "text": [
      "+-----------------+-------------+----------------+\n",
      "|           vic_id|max(vic_team)|   max(vic_side)|\n",
      "+-----------------+-------------+----------------+\n",
      "|76561197971471048|       Team 2|CounterTerrorist|\n",
      "|76561198002029991|       Team 2|CounterTerrorist|\n",
      "|76561198180665254|       Team 1|       Terrorist|\n",
      "|76561198193298595|       Team 1|       Terrorist|\n",
      "|76561198194992829|       Team 2|CounterTerrorist|\n",
      "|76561198206863843|       Team 1|       Terrorist|\n",
      "|76561198215167165|       Team 1|       Terrorist|\n",
      "|76561198256213312|       Team 2|CounterTerrorist|\n",
      "|76561198335967313|       Team 2|CounterTerrorist|\n",
      "+-----------------+-------------+----------------+\n",
      "\n"
     ]
    },
    {
     "name": "stderr",
     "output_type": "stream",
     "text": [
      "\r",
      "[Stage 76:==================================================>     (18 + 2) / 20]\r",
      "\r",
      "                                                                                \r"
     ]
    }
   ],
   "source": [
    "# cross reference with damage data\n",
    "neg_dmg = spark.sql(\"SELECT vic_id, MAX(vic_team), MAX(vic_side) FROM dmg_table\\\n",
    "                        WHERE file = 'esea_match_13782235.dem' AND round = 21 GROUP BY vic_id\")\n",
    "neg_dmg.show(100)"
   ]
  },
  {
   "cell_type": "code",
   "execution_count": 28,
   "id": "4767ef15",
   "metadata": {},
   "outputs": [
    {
     "name": "stderr",
     "output_type": "stream",
     "text": [
      "[Stage 81:==================================>                      (9 + 6) / 15]\r"
     ]
    },
    {
     "name": "stdout",
     "output_type": "stream",
     "text": [
      "+------------------+-----------------+----------------+-----------------+------+-------+----+--------+\n",
      "|           seconds|           att_id|        vic_side|           vic_id|hp_dmg|arm_dmg|  wp|  hitbox|\n",
      "+------------------+-----------------+----------------+-----------------+------+-------+----+--------+\n",
      "|          1842.626|76561198180665254|CounterTerrorist|76561198256213312|    35|      0|AK47|RightArm|\n",
      "|           1842.83|76561198180665254|CounterTerrorist|76561198256213312|    26|      0|AK47| LeftLeg|\n",
      "|          1842.924|76561198180665254|CounterTerrorist|76561198256213312|    39|      0|AK47| Stomach|\n",
      "|1899.9489999999998|76561198193298595|CounterTerrorist|76561198256213312|    44|      0|AK47| Stomach|\n",
      "|          1900.043|76561198193298595|CounterTerrorist|76561198256213312|    44|      0|AK47| Stomach|\n",
      "|1901.3429999999998|76561198206863843|CounterTerrorist|76561198256213312|    12|      0|AK47| Stomach|\n",
      "+------------------+-----------------+----------------+-----------------+------+-------+----+--------+\n",
      "\n"
     ]
    },
    {
     "name": "stderr",
     "output_type": "stream",
     "text": [
      "\r",
      "[Stage 81:================================================>       (13 + 2) / 15]\r",
      "\r",
      "                                                                                \r"
     ]
    }
   ],
   "source": [
    "# look at specific victim\n",
    "neg_dmg = spark.sql(\"SELECT seconds, att_id, vic_side, vic_id, hp_dmg, arm_dmg, wp, hitbox FROM dmg_table\\\n",
    "                        WHERE file = 'esea_match_13782235.dem' AND round = 21\\\n",
    "                        AND vic_id = 76561198256213312\")\n",
    "neg_dmg.show(100)"
   ]
  },
  {
   "cell_type": "markdown",
   "id": "6e2bc64b",
   "metadata": {},
   "source": [
    "After lookin at the above specific round, cross referencing with the damage table, and looking into a specific player, it doesn't look like the kill table is necessarily wrong. Player `76561198256213312` dies at around 1842 seconds into the match. The damage tables confirms that they took 100 hp dmg, so they would be dead. However around 57 seconds later, they take an additional 100 damage. Each round is 1:55 seconds, so the timing tracks. However, looking at these two rows from the kills table (4 tables above), the timing seems a bit odd:\n",
    "\n",
    "```\n",
    "|   21|         48.63074|       Terrorist|CounterTerrorist|  AK47|       0|      3|          false|\n",
    "|   21|         80.11145|       Terrorist|CounterTerrorist|  AK47|      -1|      3|          false|\n",
    "```\n",
    "\n",
    "There is quite the gap in time from when I would think the round is over. But, I think this is actually intended. This is scrim data where the ranks are unknown, so this must be custom data. Meaning that the players are able to restart rounds (this helps players practice rounds that maybe went wrong).\n",
    "\n",
    "See: https://liquidsky.com/how-to-restart-a-round-in-csgo/\n",
    "\n",
    "To confirm, we will bring in the competitive matchmaking data were players are unable to replay rounds. This is just to confirm my suspicions, because its still better in my opinion to analyze scrim data over ranked gameplay since there are so many variables that can affect ranked gameplay (and the players just aren't that good)."
   ]
  },
  {
   "cell_type": "code",
   "execution_count": 29,
   "id": "1ee7ea81",
   "metadata": {},
   "outputs": [
    {
     "name": "stderr",
     "output_type": "stream",
     "text": [
      "[Stage 82:=====================================================>  (19 + 1) / 20]\r"
     ]
    },
    {
     "name": "stdout",
     "output_type": "stream",
     "text": [
      "+-------+\n",
      "|t_alive|\n",
      "+-------+\n",
      "|     -5|\n",
      "|     -4|\n",
      "|     -3|\n",
      "|     -2|\n",
      "|     -1|\n",
      "|      0|\n",
      "|      1|\n",
      "|      2|\n",
      "|      3|\n",
      "|      4|\n",
      "|      5|\n",
      "+-------+\n",
      "\n"
     ]
    },
    {
     "name": "stderr",
     "output_type": "stream",
     "text": [
      "\r",
      "                                                                                \r"
     ]
    }
   ],
   "source": [
    "# check out the different number of terrorists alive at each kill event\n",
    "t_alive = spark.sql(\"SELECT DISTINCT t_alive FROM kills_table ORDER BY t_alive\")\n",
    "t_alive.show()"
   ]
  },
  {
   "cell_type": "code",
   "execution_count": 30,
   "id": "614e73b8",
   "metadata": {},
   "outputs": [
    {
     "name": "stderr",
     "output_type": "stream",
     "text": [
      "                                                                                \r"
     ]
    },
    {
     "data": {
      "text/plain": [
       "955466"
      ]
     },
     "execution_count": 30,
     "metadata": {},
     "output_type": "execute_result"
    }
   ],
   "source": [
    "mm_df = spark.read.load('hdfs://orion08:24001/csgo/mm_master_demos.csv',\n",
    "                          format='csv',\n",
    "                          sep=',',\n",
    "                          inferSchema='true',\n",
    "                          header='true')\n",
    "mm_df.count()"
   ]
  },
  {
   "cell_type": "code",
   "execution_count": 31,
   "id": "88593b57",
   "metadata": {},
   "outputs": [
    {
     "name": "stdout",
     "output_type": "stream",
     "text": [
      "root\n",
      " |-- _c0: integer (nullable = true)\n",
      " |-- file: string (nullable = true)\n",
      " |-- map: string (nullable = true)\n",
      " |-- date: string (nullable = true)\n",
      " |-- round: integer (nullable = true)\n",
      " |-- tick: integer (nullable = true)\n",
      " |-- seconds: double (nullable = true)\n",
      " |-- att_team: string (nullable = true)\n",
      " |-- vic_team: string (nullable = true)\n",
      " |-- att_side: string (nullable = true)\n",
      " |-- vic_side: string (nullable = true)\n",
      " |-- hp_dmg: integer (nullable = true)\n",
      " |-- arm_dmg: integer (nullable = true)\n",
      " |-- is_bomb_planted: boolean (nullable = true)\n",
      " |-- bomb_site: string (nullable = true)\n",
      " |-- hitbox: string (nullable = true)\n",
      " |-- wp: string (nullable = true)\n",
      " |-- wp_type: string (nullable = true)\n",
      " |-- award: integer (nullable = true)\n",
      " |-- winner_team: string (nullable = true)\n",
      " |-- winner_side: string (nullable = true)\n",
      " |-- att_id: long (nullable = true)\n",
      " |-- att_rank: integer (nullable = true)\n",
      " |-- vic_id: long (nullable = true)\n",
      " |-- vic_rank: integer (nullable = true)\n",
      " |-- att_pos_x: double (nullable = true)\n",
      " |-- att_pos_y: double (nullable = true)\n",
      " |-- vic_pos_x: double (nullable = true)\n",
      " |-- vic_pos_y: double (nullable = true)\n",
      " |-- round_type: string (nullable = true)\n",
      " |-- ct_eq_val: integer (nullable = true)\n",
      " |-- t_eq_val: integer (nullable = true)\n",
      " |-- avg_match_rank: double (nullable = true)\n",
      "\n"
     ]
    }
   ],
   "source": [
    "# similar schema to our other tables, just the scrim data is spread across multiple tables\n",
    "mm_df.printSchema()"
   ]
  },
  {
   "cell_type": "code",
   "execution_count": 32,
   "id": "781a8c2b",
   "metadata": {},
   "outputs": [
    {
     "name": "stdout",
     "output_type": "stream",
     "text": [
      "23/05/20 18:14:55 WARN package: Truncated the string representation of a plan since it was too large. This behavior can be adjusted by setting 'spark.sql.debug.maxToStringFields'.\n"
     ]
    },
    {
     "name": "stderr",
     "output_type": "stream",
     "text": [
      "[Stage 90:===============================================>        (17 + 3) / 20]\r"
     ]
    },
    {
     "name": "stdout",
     "output_type": "stream",
     "text": [
      "+------------------------------------+-----+-----------------+\n",
      "|file                                |round|vic_id           |\n",
      "+------------------------------------+-----+-----------------+\n",
      "|003229875514659307610_0134002915.dem|2    |76561198170259214|\n",
      "|003229933505307738296_0779890107.dem|12   |76561198053052421|\n",
      "|003230467874401288429_1357833445.dem|3    |76561198136636527|\n",
      "|003230038747038875980_0034209147.dem|8    |76561198136924940|\n",
      "|003229933505307738296_0779890107.dem|14   |76561198272536729|\n",
      "+------------------------------------+-----+-----------------+\n",
      "\n"
     ]
    },
    {
     "name": "stderr",
     "output_type": "stream",
     "text": [
      "\r",
      "                                                                                \r"
     ]
    }
   ],
   "source": [
    "# register mm_df as temporary table\n",
    "mm_df.createOrReplaceTempView(\"mm_table\")\n",
    "\n",
    "# find file, round, and id of player who gets more than 100 damage\n",
    "target = spark.sql(\"SELECT DISTINCT file, round, vic_id FROM mm_table\\\n",
    "                        GROUP BY file, round, vic_id\\\n",
    "                        HAVING SUM(hp_dmg) > 100\\\n",
    "                        LIMIT 5\")\n",
    "target.show(truncate=False)"
   ]
  },
  {
   "cell_type": "code",
   "execution_count": 33,
   "id": "f8977a94",
   "metadata": {},
   "outputs": [
    {
     "name": "stderr",
     "output_type": "stream",
     "text": [
      "[Stage 98:==============================>                          (8 + 7) / 15]\r"
     ]
    },
    {
     "name": "stdout",
     "output_type": "stream",
     "text": [
      "+------------------+-----------------+----------------+-----------------+------+-------+------+--------+\n",
      "|seconds           |att_id           |vic_side        |vic_id           |hp_dmg|arm_dmg|wp    |hitbox  |\n",
      "+------------------+-----------------+----------------+-----------------+------+-------+------+--------+\n",
      "|1989.395          |76561198259300986|Terrorist       |76561198155211016|17    |4      |P90   |Stomach |\n",
      "|1989.4260000000002|76561198155211016|CounterTerrorist|76561198259300986|27    |3      |AK47  |Chest   |\n",
      "|1989.457          |76561198259300986|Terrorist       |76561198155211016|18    |4      |P90   |Stomach |\n",
      "|1989.52           |76561198155211016|CounterTerrorist|76561198259300986|27    |3      |AK47  |RightArm|\n",
      "|1989.52           |76561198259300986|Terrorist       |76561198155211016|18    |4      |P90   |Stomach |\n",
      "|1989.614          |76561198155211016|CounterTerrorist|76561198259300986|33    |4      |AK47  |Stomach |\n",
      "|1989.9579999999999|76561198259300986|Terrorist       |76561198155211016|18    |4      |P90   |Stomach |\n",
      "|1990.395          |76561198141593398|Terrorist       |76561198155211016|15    |0      |P90   |RightLeg|\n",
      "|1990.4260000000002|76561198155211016|CounterTerrorist|76561198141593398|100   |0      |AK47  |Head    |\n",
      "|1990.4260000000002|76561198259300986|Terrorist       |76561198155211016|14    |3      |P90   |RightArm|\n",
      "|1996.021          |76561198259300986|Terrorist       |76561198381080716|67    |15     |P90   |Head    |\n",
      "|1996.0839999999998|76561198259300986|Terrorist       |76561198381080716|33    |15     |P90   |Head    |\n",
      "|1998.4279999999999|76561198209161271|CounterTerrorist|76561198259300986|13    |4      |AK47  |Stomach |\n",
      "|2015.964          |76561198206980935|Terrorist       |76561198209161271|11    |1      |XM1014|RightArm|\n",
      "|2016.339          |76561198197861546|Terrorist       |76561198209161271|18    |4      |P90   |Stomach |\n",
      "|2016.401          |76561198197861546|Terrorist       |76561198209161271|14    |3      |P90   |Chest   |\n",
      "|2016.432          |76561198206980935|Terrorist       |76561198209161271|11    |1      |XM1014|Chest   |\n",
      "|2016.432          |76561198206980935|Terrorist       |76561198209161271|56    |0      |XM1014|Head    |\n",
      "|2017.808          |76561198206980935|CounterTerrorist|76561198033188883|3     |0      |XM1014|Chest   |\n",
      "|2017.808          |76561198206980935|CounterTerrorist|76561198033188883|3     |0      |XM1014|Chest   |\n",
      "+------------------+-----------------+----------------+-----------------+------+-------+------+--------+\n",
      "only showing top 20 rows\n",
      "\n"
     ]
    },
    {
     "name": "stderr",
     "output_type": "stream",
     "text": [
      "\r",
      "[Stage 98:=========================================>              (11 + 4) / 15]\r",
      "\r",
      "                                                                                \r"
     ]
    }
   ],
   "source": [
    "# check out round with player id: 76561198209161271\n",
    "target_round_1 = spark.sql(\"SELECT seconds, att_id, vic_side, vic_id, hp_dmg, arm_dmg, wp, hitbox FROM mm_table\\\n",
    "                                WHERE file = '003231572978076483711_1980968073.dem'\\\n",
    "                                AND round = 21\")\n",
    "target_round_1.show(truncate=False)"
   ]
  },
  {
   "cell_type": "code",
   "execution_count": 34,
   "id": "a5941a9a",
   "metadata": {},
   "outputs": [
    {
     "name": "stderr",
     "output_type": "stream",
     "text": [
      "[Stage 101:==========================>                             (7 + 8) / 15]\r"
     ]
    },
    {
     "name": "stdout",
     "output_type": "stream",
     "text": [
      "+------------------+-----------------+----------------+-----------------+------+-------+------+--------+\n",
      "|seconds           |att_id           |vic_side        |vic_id           |hp_dmg|arm_dmg|wp    |hitbox  |\n",
      "+------------------+-----------------+----------------+-----------------+------+-------+------+--------+\n",
      "|1993.1070000000002|76561198263640994|Terrorist       |76561198280017966|63    |0      |HE    |Generic |\n",
      "|1993.1070000000002|76561198263640994|Terrorist       |76561198057443505|9     |0      |HE    |Generic |\n",
      "|1995.795          |76561198263640994|Terrorist       |76561198057443505|16    |0      |XM1014|Stomach |\n",
      "|1996.139          |76561198263640994|Terrorist       |76561198057443505|55    |0      |XM1014|Head    |\n",
      "|1996.139          |76561198263640994|Terrorist       |76561198057443505|17    |0      |XM1014|Stomach |\n",
      "|1996.139          |76561198263640994|Terrorist       |76561198057443505|13    |0      |XM1014|Chest   |\n",
      "|2002.359          |76561198263640994|Terrorist       |76561198012477515|11    |0      |XM1014|Chest   |\n",
      "|2002.796          |76561198313631765|Terrorist       |76561198083393382|15    |0      |P90   |LeftLeg |\n",
      "|2003.109          |76561198263640994|Terrorist       |76561198012477515|11    |0      |XM1014|Chest   |\n",
      "|2003.109          |76561198263640994|Terrorist       |76561198012477515|11    |0      |XM1014|Chest   |\n",
      "|2003.4520000000002|76561198263640994|Terrorist       |76561198012477515|11    |0      |XM1014|RightArm|\n",
      "|2003.4520000000002|76561198263640994|Terrorist       |76561198012477515|11    |0      |XM1014|Chest   |\n",
      "|2003.4520000000002|76561198263640994|Terrorist       |76561198012477515|11    |0      |XM1014|RightArm|\n",
      "|2003.4520000000002|76561198263640994|Terrorist       |76561198012477515|45    |0      |XM1014|Head    |\n",
      "|2003.484          |76561198313631765|Terrorist       |76561198083393382|20    |0      |P90   |Chest   |\n",
      "|2004.015          |76561198313631765|Terrorist       |76561198083393382|21    |0      |P90   |LeftArm |\n",
      "|2004.046          |76561198313631765|Terrorist       |76561198083393382|21    |0      |P90   |Chest   |\n",
      "|2004.484          |76561198083393382|CounterTerrorist|76561198313631765|45    |1      |Deagle|Chest   |\n",
      "|2004.484          |76561198313631765|Terrorist       |76561198083393382|23    |0      |P90   |Head    |\n",
      "|2007.328          |76561198280017966|CounterTerrorist|76561198313631765|11    |6      |Glock |LeftArm |\n",
      "+------------------+-----------------+----------------+-----------------+------+-------+------+--------+\n",
      "only showing top 20 rows\n",
      "\n"
     ]
    },
    {
     "name": "stderr",
     "output_type": "stream",
     "text": [
      "\r",
      "[Stage 101:====================================>                  (10 + 5) / 15]\r",
      "\r",
      "                                                                                \r"
     ]
    }
   ],
   "source": [
    "# check out round with player id: 76561198012477515\n",
    "target_round_2 = spark.sql(\"SELECT seconds, att_id, vic_side, vic_id, hp_dmg, arm_dmg, wp, hitbox FROM mm_table\\\n",
    "                                WHERE file = '003231561055247270086_0969652256.dem'\\\n",
    "                                AND round = 22\")\n",
    "target_round_2.show(truncate=False)"
   ]
  },
  {
   "cell_type": "markdown",
   "id": "4a5c1837",
   "metadata": {},
   "source": [
    "The players seem to stay dead here, so thats good. Before we move on to the 3 questions, we first want to check that the round meta data doesn't double count these replayed rounds."
   ]
  },
  {
   "cell_type": "code",
   "execution_count": 35,
   "id": "fc725007",
   "metadata": {},
   "outputs": [
    {
     "name": "stderr",
     "output_type": "stream",
     "text": [
      "                                                                                \r"
     ]
    },
    {
     "name": "stdout",
     "output_type": "stream",
     "text": [
      "+--------+\n",
      "|count(1)|\n",
      "+--------+\n",
      "+--------+\n",
      "\n"
     ]
    }
   ],
   "source": [
    "# register meta_df as temporary table\n",
    "meta_df.createOrReplaceTempView(\"meta_table\")\n",
    "\n",
    "# check out the different round data\n",
    "dup_rounds = spark.sql(\"SELECT COUNT(*) FROM meta_table\\\n",
    "                            GROUP BY file, map, round\\\n",
    "                            HAVING COUNT(*) > 1\")\n",
    "dup_rounds.show()"
   ]
  },
  {
   "cell_type": "markdown",
   "id": "407e5070",
   "metadata": {},
   "source": [
    "There is no duplicate round data, so that is great news! This means that even if the round was replayed during a scrim, we still only get the data once, meaning that we only count the winner of the replayed round as the winner of the overall round (even if they might have lost all players before the replay). We must keep this in mind when analyzing how different events (such as kills) may affect round outcomes. We now move on to the 3 questions.\n",
    "\n",
    "---\n",
    "\n",
    "## Map Balance <a name=\"balance\"></a>\n",
    "\n",
    "Defense vs Attack Sided Maps"
   ]
  },
  {
   "cell_type": "code",
   "execution_count": null,
   "id": "4e4fc26e",
   "metadata": {},
   "outputs": [],
   "source": []
  },
  {
   "cell_type": "markdown",
   "id": "6f7a966c",
   "metadata": {},
   "source": [
    "---\n",
    "\n",
    "## Econ Similarities to Valorant <a name=\"econ\"></a>"
   ]
  },
  {
   "cell_type": "code",
   "execution_count": null,
   "id": "247cdf76",
   "metadata": {},
   "outputs": [],
   "source": []
  },
  {
   "cell_type": "markdown",
   "id": "9299d543",
   "metadata": {},
   "source": [
    "---\n",
    "\n",
    "## Does First Blood Matter? <a name=\"firstblood\"></a>"
   ]
  },
  {
   "cell_type": "code",
   "execution_count": null,
   "id": "6a8ee947",
   "metadata": {},
   "outputs": [],
   "source": []
  }
 ],
 "metadata": {
  "kernelspec": {
   "display_name": "Python 3 (ipykernel)",
   "language": "python",
   "name": "python3"
  },
  "language_info": {
   "codemirror_mode": {
    "name": "ipython",
    "version": 3
   },
   "file_extension": ".py",
   "mimetype": "text/x-python",
   "name": "python",
   "nbconvert_exporter": "python",
   "pygments_lexer": "ipython3",
   "version": "3.10.9"
  }
 },
 "nbformat": 4,
 "nbformat_minor": 5
}
