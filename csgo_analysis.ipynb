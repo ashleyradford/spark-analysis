{
 "cells": [
  {
   "cell_type": "markdown",
   "id": "883e2b14",
   "metadata": {},
   "source": [
    "# CS:GO Competitive Matchmaking\n",
    "\n",
    "Damage and grenade entries on over 410k rounds played in competitive Counter-Strike: Global Offensive.<br>\n",
    "Source: https://www.kaggle.com/datasets/skihikingkevin/csgo-matchmaking-damage\n",
    "\n",
    "### Table of contents\n",
    "1. [Insights](#insights)\n",
    "2. [Feature Summary](#features)\n",
    "3. [Exploratory Analysis](#explore)\n",
    "4. [Map Balance](#balance)\n",
    "5. [Econ Similarities to Valorant](#econ)\n",
    "6. [Does First Blood Matter?](#firstblood)\n",
    "\n",
    "These csv files include data from over 16,400 ESEA matches, as well as around 1,400 ranked matches, from the game Counter-Strike: Global Offensive. All data was extracted from competitive matchmaking replays that were submitted to a site called csgo-stats. The author states that this data is meant for exploratory analysis.\n",
    "\n",
    "The datasets provided include the following (where there are multiple files for some):\n",
    "- **esea_master_dmg_demos:** each row is a damage entry in which one player (or world) has dealt damage to another\n",
    "- **esea_master_grenades_demos:** each row is a grenade thrown entry in which one player has used a purchasable utility grenade\n",
    "- **esea_master_kills_demos:** each row is a kill entry\n",
    "- **esea_meta_demos:** each row is per round meta information (round winner, round time, etc) \n",
    "- **map_data:** in game map coordinates\n",
    "- **mm_grenades_demos:** each row is a grenade thrown entry in which one player has used a purchasable utility grenade\n",
    "- **mm_master_demos:** each row is a damage entry in which one player (or world) has dealt damage to another\n",
    "\n",
    "Note: all files beginning with \"esea\" are from ESEA matches ranging from pugs to scrims that were scraped during a period of two weeks in August 2018. Here, the player ranks are unknown, but they are presumably highly ranked players or professionals.<br>\n",
    "The files beginning with \"mm\" are from matchmaking matches (ranked) with average ranks between gold nova 1 and legendary eagle master.\n",
    "\n",
    "Some **background info** on how the game works: it is a tactical shooter that involves two teams of 5. The games consist of at most 30 rounds with two 15 round halves. For the first half, one team starts as the \"terrorists\" in which they must take control of one of the enemy team's (the \"counter terrorists\") bomb sites and plant a bomb. To win, the bomb must either explode (not be defused by the \"counter terrorists\") or the \"terrorists\" must eliminate the entire enemy team. For the \"counter terrorists\" to win the round, they must either eliminate all the \"terrorists\" or defuse the planted bomb. After 15 rounds, the two teams swap sides. First team to win 16 rounds will win the entire game.\n",
    "\n",
    "---\n",
    "\n",
    "## Insights <a name=\"insights\"></a>\n",
    "\n",
    "CS:GO is one of the most popular tactical shooter games. I have personally never played it, instead I am more familiar with Valorant, which is also a tactical shooter but with added agent abilities (each character has special abilities only available to them, similar to games like Overwatch). Since Valorant's release, naturally, there has been much debate about which game is better. I had originally hoped to analyze Valorant data, however, either because Valorant is too new of a game (3 years old) or Riot is very stingy with their data, I could not find sufficient data. I hope to use this data to see how similar these games are while also extracting new insights on the advantages and disadvantages of certain actions mid game. I believe the latter types of insights can also be very helpful for Valorant gameplay, since at the end of the day these are both tactical shooters with the same objectives and win conditions.\n",
    "\n",
    "In particular, one of the biggest arguments against Valorant is that CS:GO's maps are designed better. In Valorant, some maps are known to be heavily defense sided, making it very hard for the team that starts on the attack side to win. The data downloaded also included images of CS:GO's official radar maps, and just by taking a quick glance at some of the maps, I do believe that CS:GO's maps are more balanced (i.e. around 50% win rate from both sides).\n",
    "\n",
    "Another insight that I hope to gain is how similar the economy is in CS:GO compared to Valorant. Economy is a huge aspect of Valorant (and I think CS:GO if it pans out similarly). At the start of each round, each team is designated a certain amount of money to spend on weapons and utility (smokes and grenades). The team that won the previous round is rewarded with more money to spend. Players that get kills are also given more money individually. Additionally, the players that did not die the previous round get to keep their weapons and unused utility. This added layer of complexity makes cooperation between teammates a necessity (at least in Valorant). It results in \"save\" rounds where teammates must agree to not buy weapons in hopes that they can buy full loadouts the next round. This is basically a forfeit of the current round (but sometimes still winnable!) to ensure that the struggling team will eventually have the same guns as the enemy team for an even fight (because if you keep losing rounds, eventually you cannot afford to keep buying the more powerful guns). I predict that, despite their differences in utility, there econ meta is the same in CS:GO as it is in Valorant.\n",
    "\n",
    "The last insight I hope to gain is analyzing how first blood (the first kill of a round) affects the round outcome. I think the insights gained here will pertain to both games. My hypothesis is that first blood will affect the outcome, i.e. the team that got the first blood will be more likely to win the round. However, I think that this is only true for the attackers (the \"terrorists\") since the defenders (the \"counter terrorists\") have to control multiple sites. If the attackers get that first kill it will spread out the defenders making it easier to take a site. But if the defenders get the first kill, I predict that it won't matter as much since the attackers can still attack a site that may be only held by 2 or 3 players while they themselves have 4 players.\n",
    "\n",
    "---\n",
    "\n",
    "## Feature Summary <a name=\"features\"></a>\n",
    "\n",
    "Since there are 7 different types of datasets included in this data, we will describe each one separately, starting with `esea_master_dmg_demos`. The `esea` datasets are scrim data (matches between high level teams or pros) and therefore will offer us better insights on how the game should be played. The `mm` datasets are ranked game datasets and can, in some places, be less useful to us since the behavior in these games is unlikely to coincide with intended gameplay (i.e. lower level players do not know how to play the game correctly).\n",
    "\n",
    "1. [esea master dmg demos](#damage)\n",
    "2. [esea master grenades demos](#grenades)\n",
    "3. [esea master kills demos](#kills)\n",
    "4. [esea meta demos](#meta)\n",
    "5. [map data](#map)\n",
    "6. [mm grenades demos](#mmg)\n",
    "7. [mm master demos](#master)\n",
    "\n",
    "### 1. esea_master_dmg_demos <a name=\"damage\"></a>\n",
    "\n",
    "This data describes the damage dealt to players. Each row is a damage entry in which one player (or world) has dealt damage to another. "
   ]
  },
  {
   "cell_type": "code",
   "execution_count": 1,
   "id": "24d254db",
   "metadata": {},
   "outputs": [],
   "source": [
    "import pandas as pd\n",
    "import matplotlib.pyplot as plt\n",
    "\n",
    "pd.set_option('display.max_columns', None) # display all columns"
   ]
  },
  {
   "cell_type": "code",
   "execution_count": 2,
   "id": "6cc1511c",
   "metadata": {
    "scrolled": true
   },
   "outputs": [
    {
     "name": "stderr",
     "output_type": "stream",
     "text": [
      "                                                                                \r"
     ]
    },
    {
     "data": {
      "text/plain": [
       "10538182"
      ]
     },
     "execution_count": 2,
     "metadata": {},
     "output_type": "execute_result"
    }
   ],
   "source": [
    "dmg_df = spark.read.load('hdfs://orion08:24001/csgo/esea_master_dmg_demos.part*.csv',\n",
    "                         format='csv',\n",
    "                         sep=',',\n",
    "                         inferSchema='true',\n",
    "                         header='true')\n",
    "dmg_df.count()"
   ]
  },
  {
   "cell_type": "code",
   "execution_count": 3,
   "id": "fe8f5150",
   "metadata": {
    "scrolled": false
   },
   "outputs": [
    {
     "data": {
      "text/html": [
       "<div>\n",
       "<style scoped>\n",
       "    .dataframe tbody tr th:only-of-type {\n",
       "        vertical-align: middle;\n",
       "    }\n",
       "\n",
       "    .dataframe tbody tr th {\n",
       "        vertical-align: top;\n",
       "    }\n",
       "\n",
       "    .dataframe thead th {\n",
       "        text-align: right;\n",
       "    }\n",
       "</style>\n",
       "<table border=\"1\" class=\"dataframe\">\n",
       "  <thead>\n",
       "    <tr style=\"text-align: right;\">\n",
       "      <th></th>\n",
       "      <th>file</th>\n",
       "      <th>round</th>\n",
       "      <th>tick</th>\n",
       "      <th>seconds</th>\n",
       "      <th>att_team</th>\n",
       "      <th>vic_team</th>\n",
       "      <th>att_side</th>\n",
       "      <th>vic_side</th>\n",
       "      <th>hp_dmg</th>\n",
       "      <th>arm_dmg</th>\n",
       "      <th>is_bomb_planted</th>\n",
       "      <th>bomb_site</th>\n",
       "      <th>hitbox</th>\n",
       "      <th>wp</th>\n",
       "      <th>wp_type</th>\n",
       "      <th>att_id</th>\n",
       "      <th>att_rank</th>\n",
       "      <th>vic_id</th>\n",
       "      <th>vic_rank</th>\n",
       "      <th>att_pos_x</th>\n",
       "      <th>att_pos_y</th>\n",
       "      <th>vic_pos_x</th>\n",
       "      <th>vic_pos_y</th>\n",
       "    </tr>\n",
       "  </thead>\n",
       "  <tbody>\n",
       "    <tr>\n",
       "      <th>0</th>\n",
       "      <td>esea_match_13770997.dem</td>\n",
       "      <td>1</td>\n",
       "      <td>14372</td>\n",
       "      <td>111.8476</td>\n",
       "      <td>World</td>\n",
       "      <td>Animal Style</td>\n",
       "      <td>None</td>\n",
       "      <td>CounterTerrorist</td>\n",
       "      <td>1</td>\n",
       "      <td>0</td>\n",
       "      <td>False</td>\n",
       "      <td>None</td>\n",
       "      <td>Generic</td>\n",
       "      <td>Unknown</td>\n",
       "      <td>Unkown</td>\n",
       "      <td>0</td>\n",
       "      <td>0</td>\n",
       "      <td>76561198055054795</td>\n",
       "      <td>0</td>\n",
       "      <td>0.0000</td>\n",
       "      <td>0.00000</td>\n",
       "      <td>0.0000</td>\n",
       "      <td>0.000000</td>\n",
       "    </tr>\n",
       "    <tr>\n",
       "      <th>1</th>\n",
       "      <td>esea_match_13770997.dem</td>\n",
       "      <td>1</td>\n",
       "      <td>15972</td>\n",
       "      <td>124.3761</td>\n",
       "      <td>Animal Style</td>\n",
       "      <td>Hentai Hooligans</td>\n",
       "      <td>CounterTerrorist</td>\n",
       "      <td>Terrorist</td>\n",
       "      <td>18</td>\n",
       "      <td>9</td>\n",
       "      <td>False</td>\n",
       "      <td>None</td>\n",
       "      <td>Stomach</td>\n",
       "      <td>USP</td>\n",
       "      <td>Pistol</td>\n",
       "      <td>76561198048742997</td>\n",
       "      <td>0</td>\n",
       "      <td>76561198082200410</td>\n",
       "      <td>0</td>\n",
       "      <td>-1499.6900</td>\n",
       "      <td>63.33829</td>\n",
       "      <td>-669.5558</td>\n",
       "      <td>-79.769570</td>\n",
       "    </tr>\n",
       "    <tr>\n",
       "      <th>2</th>\n",
       "      <td>esea_match_13770997.dem</td>\n",
       "      <td>1</td>\n",
       "      <td>16058</td>\n",
       "      <td>125.0495</td>\n",
       "      <td>Animal Style</td>\n",
       "      <td>Hentai Hooligans</td>\n",
       "      <td>CounterTerrorist</td>\n",
       "      <td>Terrorist</td>\n",
       "      <td>100</td>\n",
       "      <td>0</td>\n",
       "      <td>False</td>\n",
       "      <td>None</td>\n",
       "      <td>Head</td>\n",
       "      <td>USP</td>\n",
       "      <td>Pistol</td>\n",
       "      <td>76561198055054795</td>\n",
       "      <td>0</td>\n",
       "      <td>76561197961009213</td>\n",
       "      <td>0</td>\n",
       "      <td>-1066.8740</td>\n",
       "      <td>3.44563</td>\n",
       "      <td>-614.1868</td>\n",
       "      <td>-91.707770</td>\n",
       "    </tr>\n",
       "    <tr>\n",
       "      <th>3</th>\n",
       "      <td>esea_match_13770997.dem</td>\n",
       "      <td>1</td>\n",
       "      <td>16066</td>\n",
       "      <td>125.1121</td>\n",
       "      <td>Hentai Hooligans</td>\n",
       "      <td>Animal Style</td>\n",
       "      <td>Terrorist</td>\n",
       "      <td>CounterTerrorist</td>\n",
       "      <td>12</td>\n",
       "      <td>7</td>\n",
       "      <td>False</td>\n",
       "      <td>None</td>\n",
       "      <td>RightArm</td>\n",
       "      <td>Glock</td>\n",
       "      <td>Pistol</td>\n",
       "      <td>76561198082200410</td>\n",
       "      <td>0</td>\n",
       "      <td>76561198055054795</td>\n",
       "      <td>0</td>\n",
       "      <td>-747.3146</td>\n",
       "      <td>-49.32681</td>\n",
       "      <td>-1065.5560</td>\n",
       "      <td>9.381622</td>\n",
       "    </tr>\n",
       "    <tr>\n",
       "      <th>4</th>\n",
       "      <td>esea_match_13770997.dem</td>\n",
       "      <td>1</td>\n",
       "      <td>16108</td>\n",
       "      <td>125.4410</td>\n",
       "      <td>Animal Style</td>\n",
       "      <td>Hentai Hooligans</td>\n",
       "      <td>CounterTerrorist</td>\n",
       "      <td>Terrorist</td>\n",
       "      <td>15</td>\n",
       "      <td>7</td>\n",
       "      <td>False</td>\n",
       "      <td>None</td>\n",
       "      <td>Chest</td>\n",
       "      <td>USP</td>\n",
       "      <td>Pistol</td>\n",
       "      <td>76561198048742997</td>\n",
       "      <td>0</td>\n",
       "      <td>76561198082200410</td>\n",
       "      <td>0</td>\n",
       "      <td>-1501.8610</td>\n",
       "      <td>49.19798</td>\n",
       "      <td>-748.4188</td>\n",
       "      <td>-53.469220</td>\n",
       "    </tr>\n",
       "  </tbody>\n",
       "</table>\n",
       "</div>"
      ],
      "text/plain": [
       "                      file  round   tick   seconds          att_team  \\\n",
       "0  esea_match_13770997.dem      1  14372  111.8476             World   \n",
       "1  esea_match_13770997.dem      1  15972  124.3761      Animal Style   \n",
       "2  esea_match_13770997.dem      1  16058  125.0495      Animal Style   \n",
       "3  esea_match_13770997.dem      1  16066  125.1121  Hentai Hooligans   \n",
       "4  esea_match_13770997.dem      1  16108  125.4410      Animal Style   \n",
       "\n",
       "           vic_team          att_side          vic_side  hp_dmg  arm_dmg  \\\n",
       "0      Animal Style              None  CounterTerrorist       1        0   \n",
       "1  Hentai Hooligans  CounterTerrorist         Terrorist      18        9   \n",
       "2  Hentai Hooligans  CounterTerrorist         Terrorist     100        0   \n",
       "3      Animal Style         Terrorist  CounterTerrorist      12        7   \n",
       "4  Hentai Hooligans  CounterTerrorist         Terrorist      15        7   \n",
       "\n",
       "   is_bomb_planted bomb_site    hitbox       wp wp_type             att_id  \\\n",
       "0            False      None   Generic  Unknown  Unkown                  0   \n",
       "1            False      None   Stomach      USP  Pistol  76561198048742997   \n",
       "2            False      None      Head      USP  Pistol  76561198055054795   \n",
       "3            False      None  RightArm    Glock  Pistol  76561198082200410   \n",
       "4            False      None     Chest      USP  Pistol  76561198048742997   \n",
       "\n",
       "   att_rank             vic_id  vic_rank  att_pos_x  att_pos_y  vic_pos_x  \\\n",
       "0         0  76561198055054795         0     0.0000    0.00000     0.0000   \n",
       "1         0  76561198082200410         0 -1499.6900   63.33829  -669.5558   \n",
       "2         0  76561197961009213         0 -1066.8740    3.44563  -614.1868   \n",
       "3         0  76561198055054795         0  -747.3146  -49.32681 -1065.5560   \n",
       "4         0  76561198082200410         0 -1501.8610   49.19798  -748.4188   \n",
       "\n",
       "   vic_pos_y  \n",
       "0   0.000000  \n",
       "1 -79.769570  \n",
       "2 -91.707770  \n",
       "3   9.381622  \n",
       "4 -53.469220  "
      ]
     },
     "execution_count": 3,
     "metadata": {},
     "output_type": "execute_result"
    }
   ],
   "source": [
    "# extract the first 5 rows and schema from spark df\n",
    "dmg_df_subset = dmg_df.head(5)\n",
    "dmg_schema = dmg_df.schema\n",
    "\n",
    "# convert the subset to a pandas df with schema (for pretty output)\n",
    "pandas_dmg_df = pd.DataFrame(dmg_df_subset, columns=dmg_schema.fieldNames())\n",
    "pandas_dmg_df"
   ]
  },
  {
   "cell_type": "markdown",
   "id": "afc3c66c",
   "metadata": {},
   "source": [
    "<u>Feature Descriptions:</u>\n",
    "\n",
    "**file:** the file name that the demo was scraped from, unique for each match<br>\n",
    "**round:** the round that the damage took place<br>\n",
    "**tick:** the current tick in the match (an update between the game's server and connected PCs), measured in hertz<br>\n",
    "**seconds:** the number of seconds into the _match_ in which the damage occurred<br>\n",
    "**att_team:** the team of the player that dealt damage to the victim (world included)<br>\n",
    "**vic_team:** the team of the player that received damage<br>\n",
    "**att_side:** the side that the attacker was on (Terrorist or CounterTerrorist)<br>\n",
    "**vic_side:** the side that the victim was on (Terrorist or CounterTerrorist)<br>\n",
    "**hp_dmg:** the total damage dealt in that duel to the victim, each player starts the round with 100 max hp<br>\n",
    "**arm_dmg:** the total damage dealt to Kevlar (armor) <br>\n",
    "**is_bomb_planted:** has the bomb been planted as of this entry<br>\n",
    "**bomb_site:** the site the bomb is planted at (only A or B), empty if `is_bomb_planted` is false<br>\n",
    "**hitbox:** the body area the victim was struck in<br>\n",
    "**wp:** the weapon that the attacker used to deal damage<br>\n",
    "**wp_type:** the type of weapon that the attacker used<br>\n",
    "**att_id:** the steam id of the attacker, unique for each player<br>\n",
    "**att_rank:** the new rank of the attacking player after the match is complete (unknown for all)<br>\n",
    "**vic_id:** the steam id of the victim, unique for each player<br>\n",
    "**vic_rank:** the new rank of the victim after the match is complete (unknown for all)<br>\n",
    "**att_pos_x:** the X position of the attacker when they started the engagement<br>\n",
    "**att_pos_y:** the Y position of the attacker when they started the engagement<br>\n",
    "**vic_pos_x:** the X position of the victim when they received damage<br>\n",
    "**vic_pos_y:** the Y position of the victim when they received damage\n",
    "\n",
    "Note: all X and Y positions are in game coordinates and must be converted before being plotted on the radar maps, guide for conversion https://github.com/akiver/CSGO-Demos-Manager/blob/376cc90eb49425050b351bc933940480f6d48075/Services/Concrete/Maps/MapService.cs\n",
    "\n",
    "### 2. esea_master_grenades_demos <a name=\"grenades\"></a>\n",
    "\n",
    "This data describes the player utility usage. Each row is a grenade thrown entry in which one player has used a purchasable utility grenade."
   ]
  },
  {
   "cell_type": "code",
   "execution_count": 4,
   "id": "13f250b3",
   "metadata": {},
   "outputs": [
    {
     "name": "stderr",
     "output_type": "stream",
     "text": [
      "                                                                                \r"
     ]
    },
    {
     "data": {
      "text/plain": [
       "5246458"
      ]
     },
     "execution_count": 4,
     "metadata": {},
     "output_type": "execute_result"
    }
   ],
   "source": [
    "grenades_df = spark.read.load('hdfs://orion08:24001/csgo/esea_master_grenades_demos.part*.csv',\n",
    "                              format='csv',\n",
    "                              sep=',',\n",
    "                              inferSchema='true',\n",
    "                              header='true')\n",
    "grenades_df.count()"
   ]
  },
  {
   "cell_type": "code",
   "execution_count": 5,
   "id": "01f917c6",
   "metadata": {
    "scrolled": false
   },
   "outputs": [
    {
     "data": {
      "text/html": [
       "<div>\n",
       "<style scoped>\n",
       "    .dataframe tbody tr th:only-of-type {\n",
       "        vertical-align: middle;\n",
       "    }\n",
       "\n",
       "    .dataframe tbody tr th {\n",
       "        vertical-align: top;\n",
       "    }\n",
       "\n",
       "    .dataframe thead th {\n",
       "        text-align: right;\n",
       "    }\n",
       "</style>\n",
       "<table border=\"1\" class=\"dataframe\">\n",
       "  <thead>\n",
       "    <tr style=\"text-align: right;\">\n",
       "      <th></th>\n",
       "      <th>file</th>\n",
       "      <th>round</th>\n",
       "      <th>seconds</th>\n",
       "      <th>att_team</th>\n",
       "      <th>vic_team</th>\n",
       "      <th>att_id</th>\n",
       "      <th>vic_id</th>\n",
       "      <th>att_side</th>\n",
       "      <th>vic_side</th>\n",
       "      <th>hp_dmg</th>\n",
       "      <th>arm_dmg</th>\n",
       "      <th>is_bomb_planted</th>\n",
       "      <th>bomb_site</th>\n",
       "      <th>hitbox</th>\n",
       "      <th>nade</th>\n",
       "      <th>att_rank</th>\n",
       "      <th>vic_rank</th>\n",
       "      <th>att_pos_x</th>\n",
       "      <th>att_pos_y</th>\n",
       "      <th>nade_land_x</th>\n",
       "      <th>nade_land_y</th>\n",
       "      <th>vic_pos_x</th>\n",
       "      <th>vic_pos_y</th>\n",
       "    </tr>\n",
       "  </thead>\n",
       "  <tbody>\n",
       "    <tr>\n",
       "      <th>0</th>\n",
       "      <td>esea_match_13770997.dem</td>\n",
       "      <td>1</td>\n",
       "      <td>153.1602</td>\n",
       "      <td>Animal Style</td>\n",
       "      <td>None</td>\n",
       "      <td>76561198165334141</td>\n",
       "      <td>NaN</td>\n",
       "      <td>CounterTerrorist</td>\n",
       "      <td>None</td>\n",
       "      <td>0</td>\n",
       "      <td>0</td>\n",
       "      <td>True</td>\n",
       "      <td>B</td>\n",
       "      <td>None</td>\n",
       "      <td>Smoke</td>\n",
       "      <td>0</td>\n",
       "      <td>NaN</td>\n",
       "      <td>-1618.146</td>\n",
       "      <td>-66.00259</td>\n",
       "      <td>-949.8569</td>\n",
       "      <td>-340.3019</td>\n",
       "      <td>NaN</td>\n",
       "      <td>NaN</td>\n",
       "    </tr>\n",
       "    <tr>\n",
       "      <th>1</th>\n",
       "      <td>esea_match_13770997.dem</td>\n",
       "      <td>2</td>\n",
       "      <td>184.7945</td>\n",
       "      <td>Hentai Hooligans</td>\n",
       "      <td>Animal Style</td>\n",
       "      <td>76561198037331400</td>\n",
       "      <td>7.656120e+16</td>\n",
       "      <td>Terrorist</td>\n",
       "      <td>CounterTerrorist</td>\n",
       "      <td>70</td>\n",
       "      <td>0</td>\n",
       "      <td>False</td>\n",
       "      <td>None</td>\n",
       "      <td>Generic</td>\n",
       "      <td>HE</td>\n",
       "      <td>0</td>\n",
       "      <td>0.0</td>\n",
       "      <td>-1719.904</td>\n",
       "      <td>-2357.64700</td>\n",
       "      <td>-2774.6650</td>\n",
       "      <td>-1603.9430</td>\n",
       "      <td>-2741.25</td>\n",
       "      <td>-1523.163</td>\n",
       "    </tr>\n",
       "    <tr>\n",
       "      <th>2</th>\n",
       "      <td>esea_match_13770997.dem</td>\n",
       "      <td>2</td>\n",
       "      <td>186.8617</td>\n",
       "      <td>Animal Style</td>\n",
       "      <td>None</td>\n",
       "      <td>76561198055191021</td>\n",
       "      <td>NaN</td>\n",
       "      <td>CounterTerrorist</td>\n",
       "      <td>None</td>\n",
       "      <td>0</td>\n",
       "      <td>0</td>\n",
       "      <td>False</td>\n",
       "      <td>None</td>\n",
       "      <td>None</td>\n",
       "      <td>HE</td>\n",
       "      <td>0</td>\n",
       "      <td>NaN</td>\n",
       "      <td>-1036.352</td>\n",
       "      <td>492.16760</td>\n",
       "      <td>-466.8676</td>\n",
       "      <td>-356.9641</td>\n",
       "      <td>NaN</td>\n",
       "      <td>NaN</td>\n",
       "    </tr>\n",
       "    <tr>\n",
       "      <th>3</th>\n",
       "      <td>esea_match_13770997.dem</td>\n",
       "      <td>2</td>\n",
       "      <td>187.1122</td>\n",
       "      <td>Animal Style</td>\n",
       "      <td>None</td>\n",
       "      <td>76561198055054795</td>\n",
       "      <td>NaN</td>\n",
       "      <td>CounterTerrorist</td>\n",
       "      <td>None</td>\n",
       "      <td>0</td>\n",
       "      <td>0</td>\n",
       "      <td>False</td>\n",
       "      <td>None</td>\n",
       "      <td>None</td>\n",
       "      <td>HE</td>\n",
       "      <td>0</td>\n",
       "      <td>NaN</td>\n",
       "      <td>-855.077</td>\n",
       "      <td>438.69090</td>\n",
       "      <td>-459.0147</td>\n",
       "      <td>-543.8581</td>\n",
       "      <td>NaN</td>\n",
       "      <td>NaN</td>\n",
       "    </tr>\n",
       "    <tr>\n",
       "      <th>4</th>\n",
       "      <td>esea_match_13770997.dem</td>\n",
       "      <td>2</td>\n",
       "      <td>191.0587</td>\n",
       "      <td>Hentai Hooligans</td>\n",
       "      <td>None</td>\n",
       "      <td>76561198037331400</td>\n",
       "      <td>NaN</td>\n",
       "      <td>Terrorist</td>\n",
       "      <td>None</td>\n",
       "      <td>0</td>\n",
       "      <td>0</td>\n",
       "      <td>False</td>\n",
       "      <td>None</td>\n",
       "      <td>None</td>\n",
       "      <td>Molotov</td>\n",
       "      <td>0</td>\n",
       "      <td>NaN</td>\n",
       "      <td>-2617.490</td>\n",
       "      <td>-1832.40700</td>\n",
       "      <td>-2743.5610</td>\n",
       "      <td>-927.2995</td>\n",
       "      <td>NaN</td>\n",
       "      <td>NaN</td>\n",
       "    </tr>\n",
       "  </tbody>\n",
       "</table>\n",
       "</div>"
      ],
      "text/plain": [
       "                      file  round   seconds          att_team      vic_team  \\\n",
       "0  esea_match_13770997.dem      1  153.1602      Animal Style          None   \n",
       "1  esea_match_13770997.dem      2  184.7945  Hentai Hooligans  Animal Style   \n",
       "2  esea_match_13770997.dem      2  186.8617      Animal Style          None   \n",
       "3  esea_match_13770997.dem      2  187.1122      Animal Style          None   \n",
       "4  esea_match_13770997.dem      2  191.0587  Hentai Hooligans          None   \n",
       "\n",
       "              att_id        vic_id          att_side          vic_side  \\\n",
       "0  76561198165334141           NaN  CounterTerrorist              None   \n",
       "1  76561198037331400  7.656120e+16         Terrorist  CounterTerrorist   \n",
       "2  76561198055191021           NaN  CounterTerrorist              None   \n",
       "3  76561198055054795           NaN  CounterTerrorist              None   \n",
       "4  76561198037331400           NaN         Terrorist              None   \n",
       "\n",
       "   hp_dmg  arm_dmg  is_bomb_planted bomb_site   hitbox     nade  att_rank  \\\n",
       "0       0        0             True         B     None    Smoke         0   \n",
       "1      70        0            False      None  Generic       HE         0   \n",
       "2       0        0            False      None     None       HE         0   \n",
       "3       0        0            False      None     None       HE         0   \n",
       "4       0        0            False      None     None  Molotov         0   \n",
       "\n",
       "   vic_rank  att_pos_x   att_pos_y  nade_land_x  nade_land_y  vic_pos_x  \\\n",
       "0       NaN  -1618.146   -66.00259    -949.8569    -340.3019        NaN   \n",
       "1       0.0  -1719.904 -2357.64700   -2774.6650   -1603.9430   -2741.25   \n",
       "2       NaN  -1036.352   492.16760    -466.8676    -356.9641        NaN   \n",
       "3       NaN   -855.077   438.69090    -459.0147    -543.8581        NaN   \n",
       "4       NaN  -2617.490 -1832.40700   -2743.5610    -927.2995        NaN   \n",
       "\n",
       "   vic_pos_y  \n",
       "0        NaN  \n",
       "1  -1523.163  \n",
       "2        NaN  \n",
       "3        NaN  \n",
       "4        NaN  "
      ]
     },
     "execution_count": 5,
     "metadata": {},
     "output_type": "execute_result"
    }
   ],
   "source": [
    "# extract the first 5 rows and schema from spark df\n",
    "grenades_df_subset = grenades_df.head(5)\n",
    "grenades_schema = grenades_df.schema\n",
    "\n",
    "# convert the subset to a pandas df with schema (for pretty output)\n",
    "pandas_grenades_df = pd.DataFrame(grenades_df_subset, columns=grenades_schema.fieldNames())\n",
    "pandas_grenades_df"
   ]
  },
  {
   "cell_type": "markdown",
   "id": "331ab7ad",
   "metadata": {},
   "source": [
    "<u>Feature Descriptions:</u>\n",
    "\n",
    "**file:** the file name that the demo was scraped from, unique for each match<br>\n",
    "**round:** the round that the damage took place<br>\n",
    "**seconds:** the number of seconds into the _match_ in which the event occurred<br>\n",
    "**att_team:** the team of the player that dealt damage to the victim (world included)<br>\n",
    "**vic_team:** the team of the player that received damage<br>\n",
    "**att_id:** the steam id of the attacker, unique for each player<br>\n",
    "**vic_id:** the steam id of the victim, unique for each player<br>\n",
    "**att_side:** the side that the attacker was on (Terrorist or CounterTerrorist)<br>\n",
    "**vic_side:** the side that the victim was on (Terrorist or CounterTerrorist)<br>\n",
    "**hp_dmg:** the total damage dealt in that duel to the victim, each player starts the round with 100 max hp<br>\n",
    "**arm_dmg:** the total damage dealt to Kevlar (armor) <br>\n",
    "**is_bomb_planted:** has the bomb been planted as of this entry<br>\n",
    "**bomb_site:** the site the bomb is planted at (only A or B), empty if `is_bomb_planted` is false<br>\n",
    "**hitbox:** the body area the victim was struck in<br>\n",
    "**nade:** type of utility used (Decoy, HE, Smoke, Flash, or Molotov)<br>\n",
    "**att_rank:** the new rank of the attacking player after the match is complete (unknown for all)<br>\n",
    "**vic_rank:** the new rank of the victim after the match is complete (unknown for all)<br>\n",
    "**att_pos_x:** the X position of the attacker when they started the engagement<br>\n",
    "**att_pos_y:** the Y position of the attacker when they started the engagement<br>\n",
    "**nade_land_x:** the X position of the utility when it exploded or started<br>\n",
    "**nade_land_y:** the Y position of the utility when it exploded or started<br>\n",
    "**vic_pos_x:** the X position of the victim when they received damage<br>\n",
    "**vic_pos_y:** the Y position of the victim when they received damage\n",
    "\n",
    "Note: this dataset is referenced as grenades, but it's really any of the six utilities that are available for purchase.<br>\n",
    "This includes decoys, high explosive grenades, smokes, flashbangs, incendiaries, molotovs.\n",
    "\n",
    "### 3. esea_master_kills_demos <a name=\"kills\"></a>\n",
    "\n",
    "This data describes the players killed during a round. Each row is a kill entry."
   ]
  },
  {
   "cell_type": "code",
   "execution_count": 6,
   "id": "5f65c2fc",
   "metadata": {},
   "outputs": [
    {
     "name": "stderr",
     "output_type": "stream",
     "text": [
      "                                                                                \r"
     ]
    },
    {
     "data": {
      "text/plain": [
       "2742646"
      ]
     },
     "execution_count": 6,
     "metadata": {},
     "output_type": "execute_result"
    }
   ],
   "source": [
    "kills_df = spark.read.load('hdfs://orion08:24001/csgo/esea_master_kills_demos.part*.csv',\n",
    "                           format='csv',\n",
    "                           sep=',',\n",
    "                           inferSchema='true',\n",
    "                           header='true')\n",
    "kills_df.count()"
   ]
  },
  {
   "cell_type": "code",
   "execution_count": 7,
   "id": "97e22837",
   "metadata": {
    "scrolled": true
   },
   "outputs": [
    {
     "data": {
      "text/html": [
       "<div>\n",
       "<style scoped>\n",
       "    .dataframe tbody tr th:only-of-type {\n",
       "        vertical-align: middle;\n",
       "    }\n",
       "\n",
       "    .dataframe tbody tr th {\n",
       "        vertical-align: top;\n",
       "    }\n",
       "\n",
       "    .dataframe thead th {\n",
       "        text-align: right;\n",
       "    }\n",
       "</style>\n",
       "<table border=\"1\" class=\"dataframe\">\n",
       "  <thead>\n",
       "    <tr style=\"text-align: right;\">\n",
       "      <th></th>\n",
       "      <th>file</th>\n",
       "      <th>round</th>\n",
       "      <th>tick</th>\n",
       "      <th>seconds</th>\n",
       "      <th>att_team</th>\n",
       "      <th>vic_team</th>\n",
       "      <th>att_side</th>\n",
       "      <th>vic_side</th>\n",
       "      <th>wp</th>\n",
       "      <th>wp_type</th>\n",
       "      <th>ct_alive</th>\n",
       "      <th>t_alive</th>\n",
       "      <th>is_bomb_planted</th>\n",
       "    </tr>\n",
       "  </thead>\n",
       "  <tbody>\n",
       "    <tr>\n",
       "      <th>0</th>\n",
       "      <td>esea_match_13770997.dem</td>\n",
       "      <td>1</td>\n",
       "      <td>16058</td>\n",
       "      <td>30.74165</td>\n",
       "      <td>Animal Style</td>\n",
       "      <td>Hentai Hooligans</td>\n",
       "      <td>CounterTerrorist</td>\n",
       "      <td>Terrorist</td>\n",
       "      <td>USP</td>\n",
       "      <td>Pistol</td>\n",
       "      <td>5</td>\n",
       "      <td>4</td>\n",
       "      <td>False</td>\n",
       "    </tr>\n",
       "    <tr>\n",
       "      <th>1</th>\n",
       "      <td>esea_match_13770997.dem</td>\n",
       "      <td>1</td>\n",
       "      <td>16210</td>\n",
       "      <td>31.93185</td>\n",
       "      <td>Hentai Hooligans</td>\n",
       "      <td>Animal Style</td>\n",
       "      <td>Terrorist</td>\n",
       "      <td>CounterTerrorist</td>\n",
       "      <td>Glock</td>\n",
       "      <td>Pistol</td>\n",
       "      <td>4</td>\n",
       "      <td>4</td>\n",
       "      <td>False</td>\n",
       "    </tr>\n",
       "    <tr>\n",
       "      <th>2</th>\n",
       "      <td>esea_match_13770997.dem</td>\n",
       "      <td>1</td>\n",
       "      <td>16510</td>\n",
       "      <td>34.28094</td>\n",
       "      <td>Hentai Hooligans</td>\n",
       "      <td>Animal Style</td>\n",
       "      <td>Terrorist</td>\n",
       "      <td>CounterTerrorist</td>\n",
       "      <td>Glock</td>\n",
       "      <td>Pistol</td>\n",
       "      <td>3</td>\n",
       "      <td>4</td>\n",
       "      <td>False</td>\n",
       "    </tr>\n",
       "    <tr>\n",
       "      <th>3</th>\n",
       "      <td>esea_match_13770997.dem</td>\n",
       "      <td>1</td>\n",
       "      <td>17104</td>\n",
       "      <td>38.93212</td>\n",
       "      <td>Animal Style</td>\n",
       "      <td>Hentai Hooligans</td>\n",
       "      <td>CounterTerrorist</td>\n",
       "      <td>Terrorist</td>\n",
       "      <td>USP</td>\n",
       "      <td>Pistol</td>\n",
       "      <td>3</td>\n",
       "      <td>3</td>\n",
       "      <td>False</td>\n",
       "    </tr>\n",
       "    <tr>\n",
       "      <th>4</th>\n",
       "      <td>esea_match_13770997.dem</td>\n",
       "      <td>1</td>\n",
       "      <td>17338</td>\n",
       "      <td>40.76441</td>\n",
       "      <td>Hentai Hooligans</td>\n",
       "      <td>Animal Style</td>\n",
       "      <td>Terrorist</td>\n",
       "      <td>CounterTerrorist</td>\n",
       "      <td>Glock</td>\n",
       "      <td>Pistol</td>\n",
       "      <td>2</td>\n",
       "      <td>3</td>\n",
       "      <td>False</td>\n",
       "    </tr>\n",
       "  </tbody>\n",
       "</table>\n",
       "</div>"
      ],
      "text/plain": [
       "                      file  round   tick   seconds          att_team  \\\n",
       "0  esea_match_13770997.dem      1  16058  30.74165      Animal Style   \n",
       "1  esea_match_13770997.dem      1  16210  31.93185  Hentai Hooligans   \n",
       "2  esea_match_13770997.dem      1  16510  34.28094  Hentai Hooligans   \n",
       "3  esea_match_13770997.dem      1  17104  38.93212      Animal Style   \n",
       "4  esea_match_13770997.dem      1  17338  40.76441  Hentai Hooligans   \n",
       "\n",
       "           vic_team          att_side          vic_side     wp wp_type  \\\n",
       "0  Hentai Hooligans  CounterTerrorist         Terrorist    USP  Pistol   \n",
       "1      Animal Style         Terrorist  CounterTerrorist  Glock  Pistol   \n",
       "2      Animal Style         Terrorist  CounterTerrorist  Glock  Pistol   \n",
       "3  Hentai Hooligans  CounterTerrorist         Terrorist    USP  Pistol   \n",
       "4      Animal Style         Terrorist  CounterTerrorist  Glock  Pistol   \n",
       "\n",
       "   ct_alive  t_alive  is_bomb_planted  \n",
       "0         5        4            False  \n",
       "1         4        4            False  \n",
       "2         3        4            False  \n",
       "3         3        3            False  \n",
       "4         2        3            False  "
      ]
     },
     "execution_count": 7,
     "metadata": {},
     "output_type": "execute_result"
    }
   ],
   "source": [
    "# extract the first 5 rows and schema from spark df\n",
    "kills_df_subset = kills_df.head(5)\n",
    "kills_schema = kills_df.schema\n",
    "\n",
    "# convert the subset to a pandas df with schema (for pretty output)\n",
    "pandas_kills_df = pd.DataFrame(kills_df_subset, columns=kills_schema.fieldNames())\n",
    "pandas_kills_df"
   ]
  },
  {
   "cell_type": "markdown",
   "id": "45f1bca1",
   "metadata": {},
   "source": [
    "<u>Feature Descriptions:</u>\n",
    "\n",
    "**file:** the file name that the demo was scraped from, unique for each match<br>\n",
    "**round:** the round that the damage took place<br>\n",
    "**tick:** the converted tick to seconds within the game since match start<br>\n",
    "**seconds:** the number of seconds into the _round_ in which the event occurred<br>\n",
    "**att_team:** the team of the player that dealt damage to the victim (world included)<br>\n",
    "**vic_team:** the team of the player that received damage<br>\n",
    "**att_side:** the side that the attacker was on (Terrorist or CounterTerrorist)<br>\n",
    "**vic_side:** the side that the victim was on (Terrorist or CounterTerrorist)<br>\n",
    "**wp:** the weapon that the attacker used to deal damage<br>\n",
    "**wp_type:** the type of weapon that the attacker used<br>\n",
    "**ct_alive:** the number of counter terrorist players alive after this kill event<br>\n",
    "**t_alive:** the number of terrorist players alive after this kill event<br>\n",
    "**is_bomb_planted:** has the bomb been planted as of this entry\n",
    "\n",
    "Note: seconds has a different meaning here than compared to the damage and grenades data.<br>\n",
    "This data is missing location features, they must be inferred from the damage data.\n",
    "\n",
    "### 4. esea_meta_demos <a name=\"meta\"></a>\n",
    "\n",
    "This data includes the per round meta information for each event from the damage, grenade, and kill datasets."
   ]
  },
  {
   "cell_type": "code",
   "execution_count": 8,
   "id": "5f4d815c",
   "metadata": {},
   "outputs": [
    {
     "data": {
      "text/plain": [
       "377629"
      ]
     },
     "execution_count": 8,
     "metadata": {},
     "output_type": "execute_result"
    }
   ],
   "source": [
    "meta_df = spark.read.load('hdfs://orion08:24001/csgo/esea_meta_demos.part*.csv',\n",
    "                          format='csv',\n",
    "                          sep=',',\n",
    "                          inferSchema='true',\n",
    "                          header='true')\n",
    "meta_df.count()"
   ]
  },
  {
   "cell_type": "code",
   "execution_count": 9,
   "id": "5f6d2718",
   "metadata": {
    "scrolled": false
   },
   "outputs": [
    {
     "data": {
      "text/html": [
       "<div>\n",
       "<style scoped>\n",
       "    .dataframe tbody tr th:only-of-type {\n",
       "        vertical-align: middle;\n",
       "    }\n",
       "\n",
       "    .dataframe tbody tr th {\n",
       "        vertical-align: top;\n",
       "    }\n",
       "\n",
       "    .dataframe thead th {\n",
       "        text-align: right;\n",
       "    }\n",
       "</style>\n",
       "<table border=\"1\" class=\"dataframe\">\n",
       "  <thead>\n",
       "    <tr style=\"text-align: right;\">\n",
       "      <th></th>\n",
       "      <th>file</th>\n",
       "      <th>map</th>\n",
       "      <th>round</th>\n",
       "      <th>start_seconds</th>\n",
       "      <th>end_seconds</th>\n",
       "      <th>winner_team</th>\n",
       "      <th>winner_side</th>\n",
       "      <th>round_type</th>\n",
       "      <th>ct_eq_val</th>\n",
       "      <th>t_eq_val</th>\n",
       "    </tr>\n",
       "  </thead>\n",
       "  <tbody>\n",
       "    <tr>\n",
       "      <th>0</th>\n",
       "      <td>esea_match_13770997.dem</td>\n",
       "      <td>de_overpass</td>\n",
       "      <td>1</td>\n",
       "      <td>94.30782</td>\n",
       "      <td>160.9591</td>\n",
       "      <td>Hentai Hooligans</td>\n",
       "      <td>Terrorist</td>\n",
       "      <td>PISTOL_ROUND</td>\n",
       "      <td>4300</td>\n",
       "      <td>4250</td>\n",
       "    </tr>\n",
       "    <tr>\n",
       "      <th>1</th>\n",
       "      <td>esea_match_13770997.dem</td>\n",
       "      <td>de_overpass</td>\n",
       "      <td>2</td>\n",
       "      <td>160.95910</td>\n",
       "      <td>279.3998</td>\n",
       "      <td>Hentai Hooligans</td>\n",
       "      <td>Terrorist</td>\n",
       "      <td>ECO</td>\n",
       "      <td>6300</td>\n",
       "      <td>19400</td>\n",
       "    </tr>\n",
       "    <tr>\n",
       "      <th>2</th>\n",
       "      <td>esea_match_13770997.dem</td>\n",
       "      <td>de_overpass</td>\n",
       "      <td>3</td>\n",
       "      <td>279.39980</td>\n",
       "      <td>341.0084</td>\n",
       "      <td>Hentai Hooligans</td>\n",
       "      <td>Terrorist</td>\n",
       "      <td>SEMI_ECO</td>\n",
       "      <td>7650</td>\n",
       "      <td>19250</td>\n",
       "    </tr>\n",
       "    <tr>\n",
       "      <th>3</th>\n",
       "      <td>esea_match_13770997.dem</td>\n",
       "      <td>de_overpass</td>\n",
       "      <td>4</td>\n",
       "      <td>341.00840</td>\n",
       "      <td>435.4259</td>\n",
       "      <td>Hentai Hooligans</td>\n",
       "      <td>Terrorist</td>\n",
       "      <td>NORMAL</td>\n",
       "      <td>24900</td>\n",
       "      <td>23400</td>\n",
       "    </tr>\n",
       "    <tr>\n",
       "      <th>4</th>\n",
       "      <td>esea_match_13770997.dem</td>\n",
       "      <td>de_overpass</td>\n",
       "      <td>5</td>\n",
       "      <td>435.42590</td>\n",
       "      <td>484.2398</td>\n",
       "      <td>Animal Style</td>\n",
       "      <td>CounterTerrorist</td>\n",
       "      <td>ECO</td>\n",
       "      <td>5400</td>\n",
       "      <td>20550</td>\n",
       "    </tr>\n",
       "  </tbody>\n",
       "</table>\n",
       "</div>"
      ],
      "text/plain": [
       "                      file          map  round  start_seconds  end_seconds  \\\n",
       "0  esea_match_13770997.dem  de_overpass      1       94.30782     160.9591   \n",
       "1  esea_match_13770997.dem  de_overpass      2      160.95910     279.3998   \n",
       "2  esea_match_13770997.dem  de_overpass      3      279.39980     341.0084   \n",
       "3  esea_match_13770997.dem  de_overpass      4      341.00840     435.4259   \n",
       "4  esea_match_13770997.dem  de_overpass      5      435.42590     484.2398   \n",
       "\n",
       "        winner_team       winner_side    round_type  ct_eq_val  t_eq_val  \n",
       "0  Hentai Hooligans         Terrorist  PISTOL_ROUND       4300      4250  \n",
       "1  Hentai Hooligans         Terrorist           ECO       6300     19400  \n",
       "2  Hentai Hooligans         Terrorist      SEMI_ECO       7650     19250  \n",
       "3  Hentai Hooligans         Terrorist        NORMAL      24900     23400  \n",
       "4      Animal Style  CounterTerrorist           ECO       5400     20550  "
      ]
     },
     "execution_count": 9,
     "metadata": {},
     "output_type": "execute_result"
    }
   ],
   "source": [
    "# extract the first 5 rows and schema from spark df\n",
    "meta_df_subset = meta_df.head(5)\n",
    "meta_schema = meta_df.schema\n",
    "\n",
    "# convert the subset to a pandas df with schema (for pretty output)\n",
    "pandas_meta_df = pd.DataFrame(meta_df_subset, columns=meta_schema.fieldNames())\n",
    "pandas_meta_df"
   ]
  },
  {
   "cell_type": "markdown",
   "id": "8e005487",
   "metadata": {},
   "source": [
    "<u>Feature Descriptions:</u>\n",
    "\n",
    "**file:** the file name that the demo was scraped from, unique for each match<br>\n",
    "**map:** the unique map name<br>\n",
    "**round:** the round number<br>\n",
    "**start_seconds:** the second into the demo that the round started (includes freeze time)<br>\n",
    "**end_seconds:** the second into the demo that the round ended (official end)<br>\n",
    "**winner_team:** the team that won at the end of that round<br>\n",
    "**winner_side:** the side that the `winner_team` was on<br>\n",
    "**round_type:** the estimated round type by Akiver's csgo demo manager (imperfect)<br>\n",
    "**ct_eq_val:** the counter terrorist team's total equipment value (weapon + grenades + armor + utilities) after buy time<br>\n",
    "**t_eq_val:** the terrorist team's total equipment value (weapon + grenades + armor + utilities) after buy time\n",
    "\n",
    "### 5. map_data <a name=\"map\"></a>\n",
    "\n",
    "This data includes the coordinates of each map. The X and Y coordinates are all in-game coordinates and need to be linearly scaled to be plotted on any official radar maps."
   ]
  },
  {
   "cell_type": "code",
   "execution_count": 10,
   "id": "51e164af",
   "metadata": {},
   "outputs": [
    {
     "data": {
      "text/plain": [
       "7"
      ]
     },
     "execution_count": 10,
     "metadata": {},
     "output_type": "execute_result"
    }
   ],
   "source": [
    "map_df = spark.read.load('hdfs://orion08:24001/csgo/map_data.csv',\n",
    "                          format='csv',\n",
    "                          sep=',',\n",
    "                          inferSchema='true',\n",
    "                          header='true')\n",
    "map_df.count()"
   ]
  },
  {
   "cell_type": "code",
   "execution_count": 11,
   "id": "3586b6e1",
   "metadata": {
    "scrolled": true
   },
   "outputs": [
    {
     "data": {
      "text/html": [
       "<div>\n",
       "<style scoped>\n",
       "    .dataframe tbody tr th:only-of-type {\n",
       "        vertical-align: middle;\n",
       "    }\n",
       "\n",
       "    .dataframe tbody tr th {\n",
       "        vertical-align: top;\n",
       "    }\n",
       "\n",
       "    .dataframe thead th {\n",
       "        text-align: right;\n",
       "    }\n",
       "</style>\n",
       "<table border=\"1\" class=\"dataframe\">\n",
       "  <thead>\n",
       "    <tr style=\"text-align: right;\">\n",
       "      <th></th>\n",
       "      <th>_c0</th>\n",
       "      <th>EndX</th>\n",
       "      <th>EndY</th>\n",
       "      <th>ResX</th>\n",
       "      <th>ResY</th>\n",
       "      <th>StartX</th>\n",
       "      <th>StartY</th>\n",
       "    </tr>\n",
       "  </thead>\n",
       "  <tbody>\n",
       "    <tr>\n",
       "      <th>0</th>\n",
       "      <td>de_cache</td>\n",
       "      <td>3752</td>\n",
       "      <td>3187</td>\n",
       "      <td>1024</td>\n",
       "      <td>1024</td>\n",
       "      <td>-2031</td>\n",
       "      <td>-2240</td>\n",
       "    </tr>\n",
       "    <tr>\n",
       "      <th>1</th>\n",
       "      <td>de_cbble</td>\n",
       "      <td>2282</td>\n",
       "      <td>3032</td>\n",
       "      <td>1024</td>\n",
       "      <td>1024</td>\n",
       "      <td>-3819</td>\n",
       "      <td>-3073</td>\n",
       "    </tr>\n",
       "    <tr>\n",
       "      <th>2</th>\n",
       "      <td>de_dust2</td>\n",
       "      <td>2127</td>\n",
       "      <td>3455</td>\n",
       "      <td>1024</td>\n",
       "      <td>1024</td>\n",
       "      <td>-2486</td>\n",
       "      <td>-1150</td>\n",
       "    </tr>\n",
       "    <tr>\n",
       "      <th>3</th>\n",
       "      <td>de_inferno</td>\n",
       "      <td>2797</td>\n",
       "      <td>3800</td>\n",
       "      <td>1024</td>\n",
       "      <td>1024</td>\n",
       "      <td>-1960</td>\n",
       "      <td>-1062</td>\n",
       "    </tr>\n",
       "    <tr>\n",
       "      <th>4</th>\n",
       "      <td>de_mirage</td>\n",
       "      <td>1912</td>\n",
       "      <td>1682</td>\n",
       "      <td>1024</td>\n",
       "      <td>1024</td>\n",
       "      <td>-3217</td>\n",
       "      <td>-3401</td>\n",
       "    </tr>\n",
       "    <tr>\n",
       "      <th>5</th>\n",
       "      <td>de_overpass</td>\n",
       "      <td>503</td>\n",
       "      <td>1740</td>\n",
       "      <td>1024</td>\n",
       "      <td>1024</td>\n",
       "      <td>-4820</td>\n",
       "      <td>-3591</td>\n",
       "    </tr>\n",
       "    <tr>\n",
       "      <th>6</th>\n",
       "      <td>de_train</td>\n",
       "      <td>2262</td>\n",
       "      <td>2447</td>\n",
       "      <td>1024</td>\n",
       "      <td>1024</td>\n",
       "      <td>-2436</td>\n",
       "      <td>-2469</td>\n",
       "    </tr>\n",
       "  </tbody>\n",
       "</table>\n",
       "</div>"
      ],
      "text/plain": [
       "           _c0  EndX  EndY  ResX  ResY  StartX  StartY\n",
       "0     de_cache  3752  3187  1024  1024   -2031   -2240\n",
       "1     de_cbble  2282  3032  1024  1024   -3819   -3073\n",
       "2     de_dust2  2127  3455  1024  1024   -2486   -1150\n",
       "3   de_inferno  2797  3800  1024  1024   -1960   -1062\n",
       "4    de_mirage  1912  1682  1024  1024   -3217   -3401\n",
       "5  de_overpass   503  1740  1024  1024   -4820   -3591\n",
       "6     de_train  2262  2447  1024  1024   -2436   -2469"
      ]
     },
     "execution_count": 11,
     "metadata": {},
     "output_type": "execute_result"
    }
   ],
   "source": [
    "# convert spark df to pandas df (small enough)\n",
    "pandas_map_df = map_df.toPandas()\n",
    "pandas_map_df"
   ]
  },
  {
   "cell_type": "markdown",
   "id": "87fda816",
   "metadata": {},
   "source": [
    "<u>Feature Descriptions:</u>\n",
    "\n",
    "**\\_c0:** the unique map name<br>\n",
    "**EndX:** the X position of the radar map's end<br>\n",
    "**EndY:** the Y position of the radar map's end<br>\n",
    "**ResX:** the X resolution of the radar map<br>\n",
    "**ResY:** the Y resolution of the radar map<br>\n",
    "**StartX:** the X position of the radar map's start<br>\n",
    "**StartY:** the Y position of start<br>\n",
    "\n",
    "Note: this dataset only includes data for the maps in the active duty map pool, which are the maps currently in competitive play.\n",
    "\n",
    "### 6. mm_grenades_demos <a name=\"mmg\"></a>\n",
    "\n",
    "This data describes the player utility usage. Each row is a grenade thrown entry in which one player has used a purchasable utility grenade. Unlike the esea data, it also includes the round metadata as additional columns here."
   ]
  },
  {
   "cell_type": "code",
   "execution_count": 12,
   "id": "8f9da01a",
   "metadata": {},
   "outputs": [
    {
     "name": "stderr",
     "output_type": "stream",
     "text": [
      "                                                                                \r"
     ]
    },
    {
     "data": {
      "text/plain": [
       "366098"
      ]
     },
     "execution_count": 12,
     "metadata": {},
     "output_type": "execute_result"
    }
   ],
   "source": [
    "mmg_df = spark.read.load('hdfs://orion08:24001/csgo/mm_grenades_demos.csv',\n",
    "                         format='csv',\n",
    "                         sep=',',\n",
    "                         inferSchema='true',\n",
    "                         header='true')\n",
    "mmg_df.count()"
   ]
  },
  {
   "cell_type": "code",
   "execution_count": 13,
   "id": "6a11a974",
   "metadata": {},
   "outputs": [
    {
     "name": "stdout",
     "output_type": "stream",
     "text": [
      "23/05/21 14:50:57 WARN package: Truncated the string representation of a plan since it was too large. This behavior can be adjusted by setting 'spark.sql.debug.maxToStringFields'.\n"
     ]
    },
    {
     "data": {
      "text/html": [
       "<div>\n",
       "<style scoped>\n",
       "    .dataframe tbody tr th:only-of-type {\n",
       "        vertical-align: middle;\n",
       "    }\n",
       "\n",
       "    .dataframe tbody tr th {\n",
       "        vertical-align: top;\n",
       "    }\n",
       "\n",
       "    .dataframe thead th {\n",
       "        text-align: right;\n",
       "    }\n",
       "</style>\n",
       "<table border=\"1\" class=\"dataframe\">\n",
       "  <thead>\n",
       "    <tr style=\"text-align: right;\">\n",
       "      <th></th>\n",
       "      <th>_c0</th>\n",
       "      <th>file</th>\n",
       "      <th>map</th>\n",
       "      <th>round</th>\n",
       "      <th>start_seconds</th>\n",
       "      <th>seconds</th>\n",
       "      <th>end_seconds</th>\n",
       "      <th>att_team</th>\n",
       "      <th>vic_team</th>\n",
       "      <th>att_id</th>\n",
       "      <th>vic_id</th>\n",
       "      <th>att_side</th>\n",
       "      <th>vic_side</th>\n",
       "      <th>hp_dmg</th>\n",
       "      <th>arm_dmg</th>\n",
       "      <th>is_bomb_planted</th>\n",
       "      <th>bomb_site</th>\n",
       "      <th>hitbox</th>\n",
       "      <th>nade</th>\n",
       "      <th>winner_team</th>\n",
       "      <th>winner_side</th>\n",
       "      <th>att_rank</th>\n",
       "      <th>vic_rank</th>\n",
       "      <th>att_pos_x</th>\n",
       "      <th>att_pos_y</th>\n",
       "      <th>nade_land_x</th>\n",
       "      <th>nade_land_y</th>\n",
       "      <th>vic_pos_x</th>\n",
       "      <th>vic_pos_y</th>\n",
       "      <th>round_type</th>\n",
       "      <th>ct_eq_val</th>\n",
       "      <th>t_eq_val</th>\n",
       "      <th>avg_match_rank</th>\n",
       "    </tr>\n",
       "  </thead>\n",
       "  <tbody>\n",
       "    <tr>\n",
       "      <th>0</th>\n",
       "      <td>0</td>\n",
       "      <td>003201673717864202280_0171883906.dem</td>\n",
       "      <td>de_dust2</td>\n",
       "      <td>1</td>\n",
       "      <td>109.5534</td>\n",
       "      <td>125.1816</td>\n",
       "      <td>197.6025</td>\n",
       "      <td>Team 2</td>\n",
       "      <td>None</td>\n",
       "      <td>76561198244806730</td>\n",
       "      <td>NaN</td>\n",
       "      <td>Terrorist</td>\n",
       "      <td>None</td>\n",
       "      <td>0</td>\n",
       "      <td>0</td>\n",
       "      <td>False</td>\n",
       "      <td>None</td>\n",
       "      <td>None</td>\n",
       "      <td>Decoy</td>\n",
       "      <td>Team 1</td>\n",
       "      <td>CounterTerrorist</td>\n",
       "      <td>13</td>\n",
       "      <td>NaN</td>\n",
       "      <td>-918.1018</td>\n",
       "      <td>-856.1255</td>\n",
       "      <td>257.32770</td>\n",
       "      <td>-435.8516</td>\n",
       "      <td>NaN</td>\n",
       "      <td>NaN</td>\n",
       "      <td>PISTOL_ROUND</td>\n",
       "      <td>2950</td>\n",
       "      <td>3850</td>\n",
       "      <td>16.0</td>\n",
       "    </tr>\n",
       "    <tr>\n",
       "      <th>1</th>\n",
       "      <td>1</td>\n",
       "      <td>003201673717864202280_0171883906.dem</td>\n",
       "      <td>de_dust2</td>\n",
       "      <td>1</td>\n",
       "      <td>109.5534</td>\n",
       "      <td>139.1844</td>\n",
       "      <td>197.6025</td>\n",
       "      <td>Team 2</td>\n",
       "      <td>None</td>\n",
       "      <td>76561198051040004</td>\n",
       "      <td>NaN</td>\n",
       "      <td>Terrorist</td>\n",
       "      <td>None</td>\n",
       "      <td>0</td>\n",
       "      <td>0</td>\n",
       "      <td>False</td>\n",
       "      <td>None</td>\n",
       "      <td>None</td>\n",
       "      <td>Decoy</td>\n",
       "      <td>Team 1</td>\n",
       "      <td>CounterTerrorist</td>\n",
       "      <td>17</td>\n",
       "      <td>NaN</td>\n",
       "      <td>-1310.6070</td>\n",
       "      <td>1145.8650</td>\n",
       "      <td>-1124.67500</td>\n",
       "      <td>1216.9330</td>\n",
       "      <td>NaN</td>\n",
       "      <td>NaN</td>\n",
       "      <td>PISTOL_ROUND</td>\n",
       "      <td>2950</td>\n",
       "      <td>3850</td>\n",
       "      <td>16.0</td>\n",
       "    </tr>\n",
       "    <tr>\n",
       "      <th>2</th>\n",
       "      <td>2</td>\n",
       "      <td>003201673717864202280_0171883906.dem</td>\n",
       "      <td>de_dust2</td>\n",
       "      <td>1</td>\n",
       "      <td>109.5534</td>\n",
       "      <td>166.0649</td>\n",
       "      <td>197.6025</td>\n",
       "      <td>Team 2</td>\n",
       "      <td>Team 2</td>\n",
       "      <td>76561198147933469</td>\n",
       "      <td>7.656120e+16</td>\n",
       "      <td>Terrorist</td>\n",
       "      <td>Terrorist</td>\n",
       "      <td>36</td>\n",
       "      <td>0</td>\n",
       "      <td>False</td>\n",
       "      <td>None</td>\n",
       "      <td>Generic</td>\n",
       "      <td>HE</td>\n",
       "      <td>Team 1</td>\n",
       "      <td>CounterTerrorist</td>\n",
       "      <td>18</td>\n",
       "      <td>18.0</td>\n",
       "      <td>-180.6393</td>\n",
       "      <td>327.6691</td>\n",
       "      <td>-89.53781</td>\n",
       "      <td>318.2151</td>\n",
       "      <td>-130.1585</td>\n",
       "      <td>304.0313</td>\n",
       "      <td>PISTOL_ROUND</td>\n",
       "      <td>2950</td>\n",
       "      <td>3850</td>\n",
       "      <td>16.0</td>\n",
       "    </tr>\n",
       "    <tr>\n",
       "      <th>3</th>\n",
       "      <td>3</td>\n",
       "      <td>003201673717864202280_0171883906.dem</td>\n",
       "      <td>de_dust2</td>\n",
       "      <td>2</td>\n",
       "      <td>197.6025</td>\n",
       "      <td>213.0431</td>\n",
       "      <td>281.2757</td>\n",
       "      <td>Team 1</td>\n",
       "      <td>None</td>\n",
       "      <td>76561198051106390</td>\n",
       "      <td>NaN</td>\n",
       "      <td>CounterTerrorist</td>\n",
       "      <td>None</td>\n",
       "      <td>0</td>\n",
       "      <td>0</td>\n",
       "      <td>False</td>\n",
       "      <td>None</td>\n",
       "      <td>None</td>\n",
       "      <td>Smoke</td>\n",
       "      <td>Team 2</td>\n",
       "      <td>Terrorist</td>\n",
       "      <td>16</td>\n",
       "      <td>NaN</td>\n",
       "      <td>151.3117</td>\n",
       "      <td>2304.8010</td>\n",
       "      <td>-431.48370</td>\n",
       "      <td>2126.3900</td>\n",
       "      <td>NaN</td>\n",
       "      <td>NaN</td>\n",
       "      <td>ECO</td>\n",
       "      <td>12400</td>\n",
       "      <td>4700</td>\n",
       "      <td>16.0</td>\n",
       "    </tr>\n",
       "    <tr>\n",
       "      <th>4</th>\n",
       "      <td>4</td>\n",
       "      <td>003201673717864202280_0171883906.dem</td>\n",
       "      <td>de_dust2</td>\n",
       "      <td>2</td>\n",
       "      <td>197.6025</td>\n",
       "      <td>220.8572</td>\n",
       "      <td>281.2757</td>\n",
       "      <td>Team 1</td>\n",
       "      <td>None</td>\n",
       "      <td>76561198051106390</td>\n",
       "      <td>NaN</td>\n",
       "      <td>CounterTerrorist</td>\n",
       "      <td>None</td>\n",
       "      <td>0</td>\n",
       "      <td>0</td>\n",
       "      <td>False</td>\n",
       "      <td>None</td>\n",
       "      <td>None</td>\n",
       "      <td>HE</td>\n",
       "      <td>Team 2</td>\n",
       "      <td>Terrorist</td>\n",
       "      <td>16</td>\n",
       "      <td>NaN</td>\n",
       "      <td>-1669.9540</td>\n",
       "      <td>2197.1340</td>\n",
       "      <td>-1955.98500</td>\n",
       "      <td>1384.2130</td>\n",
       "      <td>NaN</td>\n",
       "      <td>NaN</td>\n",
       "      <td>ECO</td>\n",
       "      <td>12400</td>\n",
       "      <td>4700</td>\n",
       "      <td>16.0</td>\n",
       "    </tr>\n",
       "  </tbody>\n",
       "</table>\n",
       "</div>"
      ],
      "text/plain": [
       "   _c0                                  file       map  round  start_seconds  \\\n",
       "0    0  003201673717864202280_0171883906.dem  de_dust2      1       109.5534   \n",
       "1    1  003201673717864202280_0171883906.dem  de_dust2      1       109.5534   \n",
       "2    2  003201673717864202280_0171883906.dem  de_dust2      1       109.5534   \n",
       "3    3  003201673717864202280_0171883906.dem  de_dust2      2       197.6025   \n",
       "4    4  003201673717864202280_0171883906.dem  de_dust2      2       197.6025   \n",
       "\n",
       "    seconds  end_seconds att_team vic_team             att_id        vic_id  \\\n",
       "0  125.1816     197.6025   Team 2     None  76561198244806730           NaN   \n",
       "1  139.1844     197.6025   Team 2     None  76561198051040004           NaN   \n",
       "2  166.0649     197.6025   Team 2   Team 2  76561198147933469  7.656120e+16   \n",
       "3  213.0431     281.2757   Team 1     None  76561198051106390           NaN   \n",
       "4  220.8572     281.2757   Team 1     None  76561198051106390           NaN   \n",
       "\n",
       "           att_side   vic_side  hp_dmg  arm_dmg  is_bomb_planted bomb_site  \\\n",
       "0         Terrorist       None       0        0            False      None   \n",
       "1         Terrorist       None       0        0            False      None   \n",
       "2         Terrorist  Terrorist      36        0            False      None   \n",
       "3  CounterTerrorist       None       0        0            False      None   \n",
       "4  CounterTerrorist       None       0        0            False      None   \n",
       "\n",
       "    hitbox   nade winner_team       winner_side  att_rank  vic_rank  \\\n",
       "0     None  Decoy      Team 1  CounterTerrorist        13       NaN   \n",
       "1     None  Decoy      Team 1  CounterTerrorist        17       NaN   \n",
       "2  Generic     HE      Team 1  CounterTerrorist        18      18.0   \n",
       "3     None  Smoke      Team 2         Terrorist        16       NaN   \n",
       "4     None     HE      Team 2         Terrorist        16       NaN   \n",
       "\n",
       "   att_pos_x  att_pos_y  nade_land_x  nade_land_y  vic_pos_x  vic_pos_y  \\\n",
       "0  -918.1018  -856.1255    257.32770    -435.8516        NaN        NaN   \n",
       "1 -1310.6070  1145.8650  -1124.67500    1216.9330        NaN        NaN   \n",
       "2  -180.6393   327.6691    -89.53781     318.2151  -130.1585   304.0313   \n",
       "3   151.3117  2304.8010   -431.48370    2126.3900        NaN        NaN   \n",
       "4 -1669.9540  2197.1340  -1955.98500    1384.2130        NaN        NaN   \n",
       "\n",
       "     round_type  ct_eq_val  t_eq_val  avg_match_rank  \n",
       "0  PISTOL_ROUND       2950      3850            16.0  \n",
       "1  PISTOL_ROUND       2950      3850            16.0  \n",
       "2  PISTOL_ROUND       2950      3850            16.0  \n",
       "3           ECO      12400      4700            16.0  \n",
       "4           ECO      12400      4700            16.0  "
      ]
     },
     "execution_count": 13,
     "metadata": {},
     "output_type": "execute_result"
    }
   ],
   "source": [
    "# extract the first 5 rows and schema from spark df\n",
    "mmg_df_subset = mmg_df.head(5)\n",
    "mmg_schema = mmg_df.schema\n",
    "\n",
    "# convert the subset to a pandas df with schema (for pretty output)\n",
    "pandas_mmg_df = pd.DataFrame(mmg_df_subset, columns=mmg_schema.fieldNames())\n",
    "pandas_mmg_df"
   ]
  },
  {
   "cell_type": "markdown",
   "id": "2b26827b",
   "metadata": {},
   "source": [
    "Almost all features in the mm_grenades_demo dataset have been described before.<br>\n",
    "We will show an overview of the schema and describe only the fields which we have not seen yet."
   ]
  },
  {
   "cell_type": "code",
   "execution_count": 14,
   "id": "30dfc65c",
   "metadata": {},
   "outputs": [
    {
     "name": "stdout",
     "output_type": "stream",
     "text": [
      "root\n",
      " |-- _c0: integer (nullable = true)\n",
      " |-- file: string (nullable = true)\n",
      " |-- map: string (nullable = true)\n",
      " |-- round: integer (nullable = true)\n",
      " |-- start_seconds: double (nullable = true)\n",
      " |-- seconds: double (nullable = true)\n",
      " |-- end_seconds: double (nullable = true)\n",
      " |-- att_team: string (nullable = true)\n",
      " |-- vic_team: string (nullable = true)\n",
      " |-- att_id: long (nullable = true)\n",
      " |-- vic_id: double (nullable = true)\n",
      " |-- att_side: string (nullable = true)\n",
      " |-- vic_side: string (nullable = true)\n",
      " |-- hp_dmg: integer (nullable = true)\n",
      " |-- arm_dmg: integer (nullable = true)\n",
      " |-- is_bomb_planted: boolean (nullable = true)\n",
      " |-- bomb_site: string (nullable = true)\n",
      " |-- hitbox: string (nullable = true)\n",
      " |-- nade: string (nullable = true)\n",
      " |-- winner_team: string (nullable = true)\n",
      " |-- winner_side: string (nullable = true)\n",
      " |-- att_rank: integer (nullable = true)\n",
      " |-- vic_rank: double (nullable = true)\n",
      " |-- att_pos_x: double (nullable = true)\n",
      " |-- att_pos_y: double (nullable = true)\n",
      " |-- nade_land_x: double (nullable = true)\n",
      " |-- nade_land_y: double (nullable = true)\n",
      " |-- vic_pos_x: double (nullable = true)\n",
      " |-- vic_pos_y: double (nullable = true)\n",
      " |-- round_type: string (nullable = true)\n",
      " |-- ct_eq_val: integer (nullable = true)\n",
      " |-- t_eq_val: integer (nullable = true)\n",
      " |-- avg_match_rank: double (nullable = true)\n",
      "\n"
     ]
    }
   ],
   "source": [
    "mmg_df.printSchema()"
   ]
  },
  {
   "cell_type": "markdown",
   "id": "b4d25fc2",
   "metadata": {},
   "source": [
    "<u>Feature Descriptions:</u>\n",
    "\n",
    "**\\_c0:** the unique record id<br>\n",
    "**att_rank:** the new rank of the attacking player after the match is complete<br>\n",
    "**vic_rank:** the new rank of the victim after the match is complete<br>\n",
    "**avg_match_rank:** the average rank over all players in the match\n",
    "\n",
    "### 7. mm_master_demos <a name=\"master\"></a>\n",
    "\n",
    "This data describes the damage dealt to players. Each row is a damage entry in which one player (or world) has dealt damage to another. Unlike the esea data, it also includes the round metadata as additional columns here."
   ]
  },
  {
   "cell_type": "code",
   "execution_count": 15,
   "id": "2d139f10",
   "metadata": {},
   "outputs": [
    {
     "name": "stderr",
     "output_type": "stream",
     "text": [
      "                                                                                \r"
     ]
    },
    {
     "data": {
      "text/plain": [
       "955466"
      ]
     },
     "execution_count": 15,
     "metadata": {},
     "output_type": "execute_result"
    }
   ],
   "source": [
    "mm_df = spark.read.load('hdfs://orion08:24001/csgo/mm_master_demos.csv',\n",
    "                        format='csv',\n",
    "                        sep=',',\n",
    "                        inferSchema='true',\n",
    "                        header='true')\n",
    "mm_df.count()"
   ]
  },
  {
   "cell_type": "code",
   "execution_count": 16,
   "id": "01c19d17",
   "metadata": {},
   "outputs": [
    {
     "data": {
      "text/html": [
       "<div>\n",
       "<style scoped>\n",
       "    .dataframe tbody tr th:only-of-type {\n",
       "        vertical-align: middle;\n",
       "    }\n",
       "\n",
       "    .dataframe tbody tr th {\n",
       "        vertical-align: top;\n",
       "    }\n",
       "\n",
       "    .dataframe thead th {\n",
       "        text-align: right;\n",
       "    }\n",
       "</style>\n",
       "<table border=\"1\" class=\"dataframe\">\n",
       "  <thead>\n",
       "    <tr style=\"text-align: right;\">\n",
       "      <th></th>\n",
       "      <th>_c0</th>\n",
       "      <th>file</th>\n",
       "      <th>map</th>\n",
       "      <th>date</th>\n",
       "      <th>round</th>\n",
       "      <th>tick</th>\n",
       "      <th>seconds</th>\n",
       "      <th>att_team</th>\n",
       "      <th>vic_team</th>\n",
       "      <th>att_side</th>\n",
       "      <th>vic_side</th>\n",
       "      <th>hp_dmg</th>\n",
       "      <th>arm_dmg</th>\n",
       "      <th>is_bomb_planted</th>\n",
       "      <th>bomb_site</th>\n",
       "      <th>hitbox</th>\n",
       "      <th>wp</th>\n",
       "      <th>wp_type</th>\n",
       "      <th>award</th>\n",
       "      <th>winner_team</th>\n",
       "      <th>winner_side</th>\n",
       "      <th>att_id</th>\n",
       "      <th>att_rank</th>\n",
       "      <th>vic_id</th>\n",
       "      <th>vic_rank</th>\n",
       "      <th>att_pos_x</th>\n",
       "      <th>att_pos_y</th>\n",
       "      <th>vic_pos_x</th>\n",
       "      <th>vic_pos_y</th>\n",
       "      <th>round_type</th>\n",
       "      <th>ct_eq_val</th>\n",
       "      <th>t_eq_val</th>\n",
       "      <th>avg_match_rank</th>\n",
       "    </tr>\n",
       "  </thead>\n",
       "  <tbody>\n",
       "    <tr>\n",
       "      <th>0</th>\n",
       "      <td>0</td>\n",
       "      <td>003201673717864202280_0171883906.dem</td>\n",
       "      <td>de_dust2</td>\n",
       "      <td>09/28/2017 8:44:22 PM</td>\n",
       "      <td>1</td>\n",
       "      <td>8482</td>\n",
       "      <td>133.0582</td>\n",
       "      <td>Team 1</td>\n",
       "      <td>Team 2</td>\n",
       "      <td>CounterTerrorist</td>\n",
       "      <td>Terrorist</td>\n",
       "      <td>100</td>\n",
       "      <td>0</td>\n",
       "      <td>False</td>\n",
       "      <td>None</td>\n",
       "      <td>Head</td>\n",
       "      <td>USP</td>\n",
       "      <td>Pistol</td>\n",
       "      <td>300</td>\n",
       "      <td>Team 1</td>\n",
       "      <td>CounterTerrorist</td>\n",
       "      <td>76561198085893650</td>\n",
       "      <td>17</td>\n",
       "      <td>76561198123082770</td>\n",
       "      <td>17</td>\n",
       "      <td>1473.847</td>\n",
       "      <td>1351.358</td>\n",
       "      <td>662.170</td>\n",
       "      <td>772.748</td>\n",
       "      <td>PISTOL_ROUND</td>\n",
       "      <td>2950</td>\n",
       "      <td>3850</td>\n",
       "      <td>16.0</td>\n",
       "    </tr>\n",
       "    <tr>\n",
       "      <th>1</th>\n",
       "      <td>1</td>\n",
       "      <td>003201673717864202280_0171883906.dem</td>\n",
       "      <td>de_dust2</td>\n",
       "      <td>09/28/2017 8:44:22 PM</td>\n",
       "      <td>1</td>\n",
       "      <td>8600</td>\n",
       "      <td>134.9023</td>\n",
       "      <td>Team 1</td>\n",
       "      <td>Team 2</td>\n",
       "      <td>CounterTerrorist</td>\n",
       "      <td>Terrorist</td>\n",
       "      <td>25</td>\n",
       "      <td>0</td>\n",
       "      <td>False</td>\n",
       "      <td>None</td>\n",
       "      <td>RightLeg</td>\n",
       "      <td>USP</td>\n",
       "      <td>Pistol</td>\n",
       "      <td>300</td>\n",
       "      <td>Team 1</td>\n",
       "      <td>CounterTerrorist</td>\n",
       "      <td>76561198223006752</td>\n",
       "      <td>16</td>\n",
       "      <td>76561198051040004</td>\n",
       "      <td>17</td>\n",
       "      <td>-1211.723</td>\n",
       "      <td>1060.813</td>\n",
       "      <td>-1184.006</td>\n",
       "      <td>1153.343</td>\n",
       "      <td>PISTOL_ROUND</td>\n",
       "      <td>2950</td>\n",
       "      <td>3850</td>\n",
       "      <td>16.0</td>\n",
       "    </tr>\n",
       "    <tr>\n",
       "      <th>2</th>\n",
       "      <td>2</td>\n",
       "      <td>003201673717864202280_0171883906.dem</td>\n",
       "      <td>de_dust2</td>\n",
       "      <td>09/28/2017 8:44:22 PM</td>\n",
       "      <td>1</td>\n",
       "      <td>8610</td>\n",
       "      <td>135.0586</td>\n",
       "      <td>Team 2</td>\n",
       "      <td>Team 1</td>\n",
       "      <td>Terrorist</td>\n",
       "      <td>CounterTerrorist</td>\n",
       "      <td>20</td>\n",
       "      <td>0</td>\n",
       "      <td>False</td>\n",
       "      <td>None</td>\n",
       "      <td>LeftLeg</td>\n",
       "      <td>Glock</td>\n",
       "      <td>Pistol</td>\n",
       "      <td>300</td>\n",
       "      <td>Team 1</td>\n",
       "      <td>CounterTerrorist</td>\n",
       "      <td>76561198051040004</td>\n",
       "      <td>17</td>\n",
       "      <td>76561198223006752</td>\n",
       "      <td>16</td>\n",
       "      <td>-1153.584</td>\n",
       "      <td>1163.131</td>\n",
       "      <td>-1198.015</td>\n",
       "      <td>1050.423</td>\n",
       "      <td>PISTOL_ROUND</td>\n",
       "      <td>2950</td>\n",
       "      <td>3850</td>\n",
       "      <td>16.0</td>\n",
       "    </tr>\n",
       "    <tr>\n",
       "      <th>3</th>\n",
       "      <td>3</td>\n",
       "      <td>003201673717864202280_0171883906.dem</td>\n",
       "      <td>de_dust2</td>\n",
       "      <td>09/28/2017 8:44:22 PM</td>\n",
       "      <td>1</td>\n",
       "      <td>8624</td>\n",
       "      <td>135.2774</td>\n",
       "      <td>Team 1</td>\n",
       "      <td>Team 2</td>\n",
       "      <td>CounterTerrorist</td>\n",
       "      <td>Terrorist</td>\n",
       "      <td>17</td>\n",
       "      <td>8</td>\n",
       "      <td>False</td>\n",
       "      <td>None</td>\n",
       "      <td>Chest</td>\n",
       "      <td>USP</td>\n",
       "      <td>Pistol</td>\n",
       "      <td>300</td>\n",
       "      <td>Team 1</td>\n",
       "      <td>CounterTerrorist</td>\n",
       "      <td>76561198223006752</td>\n",
       "      <td>16</td>\n",
       "      <td>76561198051040004</td>\n",
       "      <td>17</td>\n",
       "      <td>-1173.053</td>\n",
       "      <td>1044.365</td>\n",
       "      <td>-1141.785</td>\n",
       "      <td>1190.089</td>\n",
       "      <td>PISTOL_ROUND</td>\n",
       "      <td>2950</td>\n",
       "      <td>3850</td>\n",
       "      <td>16.0</td>\n",
       "    </tr>\n",
       "    <tr>\n",
       "      <th>4</th>\n",
       "      <td>4</td>\n",
       "      <td>003201673717864202280_0171883906.dem</td>\n",
       "      <td>de_dust2</td>\n",
       "      <td>09/28/2017 8:44:22 PM</td>\n",
       "      <td>1</td>\n",
       "      <td>8632</td>\n",
       "      <td>135.4024</td>\n",
       "      <td>Team 2</td>\n",
       "      <td>Team 1</td>\n",
       "      <td>Terrorist</td>\n",
       "      <td>CounterTerrorist</td>\n",
       "      <td>12</td>\n",
       "      <td>7</td>\n",
       "      <td>False</td>\n",
       "      <td>None</td>\n",
       "      <td>Chest</td>\n",
       "      <td>Glock</td>\n",
       "      <td>Pistol</td>\n",
       "      <td>300</td>\n",
       "      <td>Team 1</td>\n",
       "      <td>CounterTerrorist</td>\n",
       "      <td>76561198051040004</td>\n",
       "      <td>17</td>\n",
       "      <td>76561198223006752</td>\n",
       "      <td>16</td>\n",
       "      <td>-1142.522</td>\n",
       "      <td>1200.967</td>\n",
       "      <td>-1157.690</td>\n",
       "      <td>1050.702</td>\n",
       "      <td>PISTOL_ROUND</td>\n",
       "      <td>2950</td>\n",
       "      <td>3850</td>\n",
       "      <td>16.0</td>\n",
       "    </tr>\n",
       "  </tbody>\n",
       "</table>\n",
       "</div>"
      ],
      "text/plain": [
       "   _c0                                  file       map                   date  \\\n",
       "0    0  003201673717864202280_0171883906.dem  de_dust2  09/28/2017 8:44:22 PM   \n",
       "1    1  003201673717864202280_0171883906.dem  de_dust2  09/28/2017 8:44:22 PM   \n",
       "2    2  003201673717864202280_0171883906.dem  de_dust2  09/28/2017 8:44:22 PM   \n",
       "3    3  003201673717864202280_0171883906.dem  de_dust2  09/28/2017 8:44:22 PM   \n",
       "4    4  003201673717864202280_0171883906.dem  de_dust2  09/28/2017 8:44:22 PM   \n",
       "\n",
       "   round  tick   seconds att_team vic_team          att_side  \\\n",
       "0      1  8482  133.0582   Team 1   Team 2  CounterTerrorist   \n",
       "1      1  8600  134.9023   Team 1   Team 2  CounterTerrorist   \n",
       "2      1  8610  135.0586   Team 2   Team 1         Terrorist   \n",
       "3      1  8624  135.2774   Team 1   Team 2  CounterTerrorist   \n",
       "4      1  8632  135.4024   Team 2   Team 1         Terrorist   \n",
       "\n",
       "           vic_side  hp_dmg  arm_dmg  is_bomb_planted bomb_site    hitbox  \\\n",
       "0         Terrorist     100        0            False      None      Head   \n",
       "1         Terrorist      25        0            False      None  RightLeg   \n",
       "2  CounterTerrorist      20        0            False      None   LeftLeg   \n",
       "3         Terrorist      17        8            False      None     Chest   \n",
       "4  CounterTerrorist      12        7            False      None     Chest   \n",
       "\n",
       "      wp wp_type  award winner_team       winner_side             att_id  \\\n",
       "0    USP  Pistol    300      Team 1  CounterTerrorist  76561198085893650   \n",
       "1    USP  Pistol    300      Team 1  CounterTerrorist  76561198223006752   \n",
       "2  Glock  Pistol    300      Team 1  CounterTerrorist  76561198051040004   \n",
       "3    USP  Pistol    300      Team 1  CounterTerrorist  76561198223006752   \n",
       "4  Glock  Pistol    300      Team 1  CounterTerrorist  76561198051040004   \n",
       "\n",
       "   att_rank             vic_id  vic_rank  att_pos_x  att_pos_y  vic_pos_x  \\\n",
       "0        17  76561198123082770        17   1473.847   1351.358    662.170   \n",
       "1        16  76561198051040004        17  -1211.723   1060.813  -1184.006   \n",
       "2        17  76561198223006752        16  -1153.584   1163.131  -1198.015   \n",
       "3        16  76561198051040004        17  -1173.053   1044.365  -1141.785   \n",
       "4        17  76561198223006752        16  -1142.522   1200.967  -1157.690   \n",
       "\n",
       "   vic_pos_y    round_type  ct_eq_val  t_eq_val  avg_match_rank  \n",
       "0    772.748  PISTOL_ROUND       2950      3850            16.0  \n",
       "1   1153.343  PISTOL_ROUND       2950      3850            16.0  \n",
       "2   1050.423  PISTOL_ROUND       2950      3850            16.0  \n",
       "3   1190.089  PISTOL_ROUND       2950      3850            16.0  \n",
       "4   1050.702  PISTOL_ROUND       2950      3850            16.0  "
      ]
     },
     "execution_count": 16,
     "metadata": {},
     "output_type": "execute_result"
    }
   ],
   "source": [
    "# extract the first 5 rows and schema from spark df\n",
    "mm_df_subset = mm_df.head(5)\n",
    "mm_schema = mm_df.schema\n",
    "\n",
    "# convert the subset to a pandas df with schema (for pretty output)\n",
    "pandas_mm_df = pd.DataFrame(mm_df_subset, columns=mm_schema.fieldNames())\n",
    "pandas_mm_df"
   ]
  },
  {
   "cell_type": "markdown",
   "id": "038de33a",
   "metadata": {},
   "source": [
    "Again, almost all features in the mm_master_demo dataset have been described before.<br>\n",
    "We will show an overview of the schema and describe only the fields which we have not seen yet."
   ]
  },
  {
   "cell_type": "code",
   "execution_count": 17,
   "id": "3657a07e",
   "metadata": {},
   "outputs": [
    {
     "name": "stdout",
     "output_type": "stream",
     "text": [
      "root\n",
      " |-- _c0: integer (nullable = true)\n",
      " |-- file: string (nullable = true)\n",
      " |-- map: string (nullable = true)\n",
      " |-- date: string (nullable = true)\n",
      " |-- round: integer (nullable = true)\n",
      " |-- tick: integer (nullable = true)\n",
      " |-- seconds: double (nullable = true)\n",
      " |-- att_team: string (nullable = true)\n",
      " |-- vic_team: string (nullable = true)\n",
      " |-- att_side: string (nullable = true)\n",
      " |-- vic_side: string (nullable = true)\n",
      " |-- hp_dmg: integer (nullable = true)\n",
      " |-- arm_dmg: integer (nullable = true)\n",
      " |-- is_bomb_planted: boolean (nullable = true)\n",
      " |-- bomb_site: string (nullable = true)\n",
      " |-- hitbox: string (nullable = true)\n",
      " |-- wp: string (nullable = true)\n",
      " |-- wp_type: string (nullable = true)\n",
      " |-- award: integer (nullable = true)\n",
      " |-- winner_team: string (nullable = true)\n",
      " |-- winner_side: string (nullable = true)\n",
      " |-- att_id: long (nullable = true)\n",
      " |-- att_rank: integer (nullable = true)\n",
      " |-- vic_id: long (nullable = true)\n",
      " |-- vic_rank: integer (nullable = true)\n",
      " |-- att_pos_x: double (nullable = true)\n",
      " |-- att_pos_y: double (nullable = true)\n",
      " |-- vic_pos_x: double (nullable = true)\n",
      " |-- vic_pos_y: double (nullable = true)\n",
      " |-- round_type: string (nullable = true)\n",
      " |-- ct_eq_val: integer (nullable = true)\n",
      " |-- t_eq_val: integer (nullable = true)\n",
      " |-- avg_match_rank: double (nullable = true)\n",
      "\n"
     ]
    }
   ],
   "source": [
    "mm_df.printSchema()"
   ]
  },
  {
   "cell_type": "markdown",
   "id": "ebf10a71",
   "metadata": {},
   "source": [
    "<u>Feature Descriptions:</u>\n",
    "\n",
    "**\\_c0:** the unique record id<br>\n",
    "**date:** date the match was played<br>\n",
    "**award:** the kill reward (in dollars) that the player get should they kill that person<br>\n",
    "**att_rank:** the new rank of the attacking player after the match is complete<br>\n",
    "**vic_rank:** the new rank of the victim after the match is complete<br>\n",
    "**avg_match_rank:** the average rank over all players in the match\n",
    "\n",
    "---\n",
    "\n",
    "## Exploratory Analysis <a name=\"explore\"></a>\n",
    "\n",
    "The data is pretty straightforward and doesn't require any necessary cleaning. If we were to plot out the events, we would need to transform the X and Y coordinates, but for now, the data can remain as is. The following cells check out the summary statistics for some of the more important features."
   ]
  },
  {
   "cell_type": "code",
   "execution_count": 18,
   "id": "d3183a8b",
   "metadata": {},
   "outputs": [
    {
     "name": "stderr",
     "output_type": "stream",
     "text": [
      "[Stage 42:=======================================>                (14 + 6) / 20]\r"
     ]
    },
    {
     "name": "stdout",
     "output_type": "stream",
     "text": [
      "+------------+\n",
      "|wp          |\n",
      "+------------+\n",
      "|P250        |\n",
      "|XM1014      |\n",
      "|Mac10       |\n",
      "|G3SG1       |\n",
      "|Famas       |\n",
      "|DualBarettas|\n",
      "|CZ          |\n",
      "|Scar20      |\n",
      "|SG556       |\n",
      "|Molotov     |\n",
      "|Unknown     |\n",
      "|M4A1        |\n",
      "|P90         |\n",
      "|Nova        |\n",
      "|M249        |\n",
      "|Smoke       |\n",
      "|Glock       |\n",
      "|AUG         |\n",
      "|Scout       |\n",
      "|AWP         |\n",
      "|Swag7       |\n",
      "|Tec9        |\n",
      "|Deagle      |\n",
      "|AK47        |\n",
      "|Flash       |\n",
      "|UMP         |\n",
      "|SawedOff    |\n",
      "|MP9         |\n",
      "|Gallil      |\n",
      "|Negev       |\n",
      "|P2000       |\n",
      "|FiveSeven   |\n",
      "|MP7         |\n",
      "|Zeus        |\n",
      "|Incendiary  |\n",
      "|Knife       |\n",
      "|USP         |\n",
      "|Bizon       |\n",
      "|HE          |\n",
      "|M4A4        |\n",
      "|Decoy       |\n",
      "|Bomb        |\n",
      "+------------+\n",
      "\n"
     ]
    },
    {
     "name": "stderr",
     "output_type": "stream",
     "text": [
      "\r",
      "                                                                                \r"
     ]
    }
   ],
   "source": [
    "# register dmg_df as temporary table\n",
    "dmg_df.createOrReplaceTempView(\"dmg_table\")\n",
    "\n",
    "# check out the different weapon types that caused damage\n",
    "weapons = spark.sql(\"SELECT DISTINCT wp FROM dmg_table\")\n",
    "weapons.show(70, truncate=False)"
   ]
  },
  {
   "cell_type": "markdown",
   "id": "5453a71f",
   "metadata": {},
   "source": [
    "It's interesting that smoke is in here. Let's take a look at what kind of damage happens with smoke. In valorant typical smokes do not cause damage (unless it's a poison orb) but since CS:GO doesn't have these special abilities I wonder how smoke ended up in the damage data."
   ]
  },
  {
   "cell_type": "code",
   "execution_count": 19,
   "id": "1def75c0",
   "metadata": {},
   "outputs": [
    {
     "name": "stderr",
     "output_type": "stream",
     "text": [
      "\r",
      "[Stage 45:===================>                                    (7 + 13) / 20]\r",
      "\r",
      "[Stage 45:===============================================>        (17 + 3) / 20]\r"
     ]
    },
    {
     "name": "stdout",
     "output_type": "stream",
     "text": [
      "+-----------------------+-----+------+-------+-------+-----+-------+\n",
      "|file                   |round|hp_dmg|arm_dmg|hitbox |wp   |wp_type|\n",
      "+-----------------------+-----+------+-------+-------+-----+-------+\n",
      "|esea_match_13785619.dem|12   |1     |0      |Generic|Smoke|Grenade|\n",
      "|esea_match_13785619.dem|12   |1     |0      |Generic|Smoke|Grenade|\n",
      "|esea_match_13785619.dem|22   |1     |0      |Generic|Smoke|Grenade|\n",
      "|esea_match_13785629.dem|2    |1     |0      |Generic|Smoke|Grenade|\n",
      "|esea_match_13785629.dem|2    |1     |0      |Generic|Smoke|Grenade|\n",
      "|esea_match_13785629.dem|12   |1     |0      |Generic|Smoke|Grenade|\n",
      "|esea_match_13785630.dem|20   |1     |0      |Generic|Smoke|Grenade|\n",
      "|esea_match_13785630.dem|20   |1     |0      |Generic|Smoke|Grenade|\n",
      "|esea_match_13785630.dem|21   |1     |0      |Generic|Smoke|Grenade|\n",
      "|esea_match_13785630.dem|21   |2     |0      |Generic|Smoke|Grenade|\n",
      "|esea_match_13785630.dem|21   |2     |0      |Generic|Smoke|Grenade|\n",
      "|esea_match_13785630.dem|23   |1     |0      |Generic|Smoke|Grenade|\n",
      "|esea_match_13785630.dem|23   |1     |0      |Generic|Smoke|Grenade|\n",
      "|esea_match_13785633.dem|10   |1     |0      |Generic|Smoke|Grenade|\n",
      "|esea_match_13785633.dem|10   |1     |0      |Generic|Smoke|Grenade|\n",
      "|esea_match_13785634.dem|24   |2     |1      |Generic|Smoke|Grenade|\n",
      "|esea_match_13785634.dem|24   |1     |0      |Generic|Smoke|Grenade|\n",
      "|esea_match_13785634.dem|24   |1     |0      |Generic|Smoke|Grenade|\n",
      "|esea_match_13785634.dem|25   |1     |0      |Generic|Smoke|Grenade|\n",
      "|esea_match_13785635.dem|10   |1     |0      |Generic|Smoke|Grenade|\n",
      "+-----------------------+-----+------+-------+-------+-----+-------+\n",
      "\n"
     ]
    },
    {
     "name": "stderr",
     "output_type": "stream",
     "text": [
      "\r",
      "                                                                                \r"
     ]
    }
   ],
   "source": [
    "# check out the smoke damage events\n",
    "smoke_dmg = spark.sql(\"SELECT file, round, hp_dmg, arm_dmg, hitbox, wp, wp_type FROM dmg_table WHERE wp = 'Smoke' LIMIT 20\")\n",
    "smoke_dmg.show(truncate=False)"
   ]
  },
  {
   "cell_type": "code",
   "execution_count": 20,
   "id": "bb61ae89",
   "metadata": {},
   "outputs": [
    {
     "name": "stderr",
     "output_type": "stream",
     "text": [
      "[Stage 48:============================================>           (16 + 4) / 20]\r"
     ]
    },
    {
     "name": "stdout",
     "output_type": "stream",
     "text": [
      "+-----------+\n",
      "|max(hp_dmg)|\n",
      "+-----------+\n",
      "|          4|\n",
      "+-----------+\n",
      "\n"
     ]
    },
    {
     "name": "stderr",
     "output_type": "stream",
     "text": [
      "\r",
      "                                                                                \r"
     ]
    }
   ],
   "source": [
    "# check out the max damage possible from smokes\n",
    "max_smoke_dmg = spark.sql(\"SELECT MAX(hp_dmg) FROM dmg_table WHERE wp = 'Smoke'\")\n",
    "max_smoke_dmg.show()"
   ]
  },
  {
   "cell_type": "markdown",
   "id": "97c19322",
   "metadata": {},
   "source": [
    "This is actually really funny. If a player has low health, they can essentially be killed if a smoke is thrown at them. Even in valorant this can't happen (the poison orbs can only drop you to 1 hp while you stay inside them)."
   ]
  },
  {
   "cell_type": "code",
   "execution_count": 21,
   "id": "9f105464",
   "metadata": {},
   "outputs": [
    {
     "name": "stderr",
     "output_type": "stream",
     "text": [
      "[Stage 51:==========================================>             (15 + 5) / 20]\r"
     ]
    },
    {
     "name": "stdout",
     "output_type": "stream",
     "text": [
      "+---------+\n",
      "|wp_type  |\n",
      "+---------+\n",
      "|Grenade  |\n",
      "|Equipment|\n",
      "|Sniper   |\n",
      "|Rifle    |\n",
      "|Heavy    |\n",
      "|Unkown   |\n",
      "|Pistol   |\n",
      "|SMG      |\n",
      "+---------+\n",
      "\n"
     ]
    },
    {
     "name": "stderr",
     "output_type": "stream",
     "text": [
      "\r",
      "[Stage 51:===============================================>        (17 + 3) / 20]\r",
      "\r",
      "                                                                                \r"
     ]
    }
   ],
   "source": [
    "# check out the different weapon types\n",
    "weapon_types = spark.sql(\"SELECT DISTINCT wp_type FROM dmg_table\")\n",
    "weapon_types.show(truncate=False)"
   ]
  },
  {
   "cell_type": "code",
   "execution_count": 22,
   "id": "4e09f471",
   "metadata": {},
   "outputs": [
    {
     "name": "stderr",
     "output_type": "stream",
     "text": [
      "[Stage 54:============================================>           (16 + 4) / 20]\r"
     ]
    },
    {
     "name": "stdout",
     "output_type": "stream",
     "text": [
      "+-------+------------------+\n",
      "|summary|            hp_dmg|\n",
      "+-------+------------------+\n",
      "|  count|          10538182|\n",
      "|   mean| 28.70006031400862|\n",
      "| stddev|24.785718805337172|\n",
      "|    min|                 1|\n",
      "|    max|               100|\n",
      "+-------+------------------+\n",
      "\n"
     ]
    },
    {
     "name": "stderr",
     "output_type": "stream",
     "text": [
      "\r",
      "                                                                                \r"
     ]
    }
   ],
   "source": [
    "# check out hp damage stats\n",
    "dmg_df.select(\"hp_dmg\").describe().show()"
   ]
  },
  {
   "cell_type": "code",
   "execution_count": 23,
   "id": "90adcd02",
   "metadata": {},
   "outputs": [
    {
     "name": "stderr",
     "output_type": "stream",
     "text": [
      "[Stage 57:==================================================>     (18 + 2) / 20]\r"
     ]
    },
    {
     "name": "stdout",
     "output_type": "stream",
     "text": [
      "+-------+------------------+\n",
      "|summary|           arm_dmg|\n",
      "+-------+------------------+\n",
      "|  count|          10538182|\n",
      "|   mean|  3.71434721852403|\n",
      "| stddev|4.9539481384176245|\n",
      "|    min|                 0|\n",
      "|    max|               100|\n",
      "+-------+------------------+\n",
      "\n"
     ]
    },
    {
     "name": "stderr",
     "output_type": "stream",
     "text": [
      "\r",
      "                                                                                \r"
     ]
    }
   ],
   "source": [
    "# check out armor damage stats\n",
    "dmg_df.select(\"arm_dmg\").describe().show()"
   ]
  },
  {
   "cell_type": "markdown",
   "id": "3617afcb",
   "metadata": {},
   "source": [
    "From the above summaries, it looks like for every damage event, hp damage is always dealt. However, there are cases where armor takes no damage. I suspect this is actually when the player did not buy any armor, though."
   ]
  },
  {
   "cell_type": "code",
   "execution_count": 24,
   "id": "cb9d2f9b",
   "metadata": {},
   "outputs": [
    {
     "name": "stderr",
     "output_type": "stream",
     "text": [
      "[Stage 60:============================================>           (16 + 4) / 20]\r"
     ]
    },
    {
     "name": "stdout",
     "output_type": "stream",
     "text": [
      "+---------------+\n",
      "|is_bomb_planted|\n",
      "+---------------+\n",
      "|           true|\n",
      "|          false|\n",
      "+---------------+\n",
      "\n"
     ]
    },
    {
     "name": "stderr",
     "output_type": "stream",
     "text": [
      "\r",
      "                                                                                \r"
     ]
    }
   ],
   "source": [
    "# check out bomb planted values\n",
    "bomb_planted = spark.sql(\"SELECT DISTINCT is_bomb_planted FROM dmg_table\")\n",
    "bomb_planted.show()"
   ]
  },
  {
   "cell_type": "code",
   "execution_count": 25,
   "id": "b4df78e3",
   "metadata": {},
   "outputs": [
    {
     "name": "stderr",
     "output_type": "stream",
     "text": [
      "[Stage 63:==================================================>     (18 + 2) / 20]\r"
     ]
    },
    {
     "name": "stdout",
     "output_type": "stream",
     "text": [
      "+---------+\n",
      "|bomb_site|\n",
      "+---------+\n",
      "|     null|\n",
      "|        B|\n",
      "|        A|\n",
      "+---------+\n",
      "\n"
     ]
    },
    {
     "name": "stderr",
     "output_type": "stream",
     "text": [
      "\r",
      "                                                                                \r"
     ]
    }
   ],
   "source": [
    "# check out bomb site values\n",
    "bomb_sites = spark.sql(\"SELECT DISTINCT bomb_site FROM dmg_table\")\n",
    "bomb_sites.show()"
   ]
  },
  {
   "cell_type": "markdown",
   "id": "8262a8ed",
   "metadata": {},
   "source": [
    "Null makes sense here for when the bomb does not get planted."
   ]
  },
  {
   "cell_type": "code",
   "execution_count": 26,
   "id": "624505a0",
   "metadata": {},
   "outputs": [
    {
     "name": "stderr",
     "output_type": "stream",
     "text": [
      "[Stage 66:==================================================>     (18 + 2) / 20]\r"
     ]
    },
    {
     "name": "stdout",
     "output_type": "stream",
     "text": [
      "+--------+\n",
      "|  hitbox|\n",
      "+--------+\n",
      "|       8|\n",
      "|    Head|\n",
      "| LeftArm|\n",
      "| Stomach|\n",
      "|RightArm|\n",
      "| LeftLeg|\n",
      "|RightLeg|\n",
      "|   Chest|\n",
      "| Generic|\n",
      "+--------+\n",
      "\n"
     ]
    },
    {
     "name": "stderr",
     "output_type": "stream",
     "text": [
      "\r",
      "                                                                                \r"
     ]
    }
   ],
   "source": [
    "# check out the different hitbox spots\n",
    "hitbox = spark.sql(\"SELECT DISTINCT hitbox FROM dmg_table\")\n",
    "hitbox.show()"
   ]
  },
  {
   "cell_type": "markdown",
   "id": "34dc66c9",
   "metadata": {},
   "source": [
    "This is more in depth than valorant's hitbox stats, which only record if damage is done to the head, body, or legs. The 8 is a little weird, I wonder if that's bad data."
   ]
  },
  {
   "cell_type": "code",
   "execution_count": 27,
   "id": "2bbcd543",
   "metadata": {},
   "outputs": [
    {
     "name": "stdout",
     "output_type": "stream",
     "text": [
      "+-----------------------+-----+------+-------+------+------+-------+\n",
      "|file                   |round|hp_dmg|arm_dmg|hitbox|wp    |wp_type|\n",
      "+-----------------------+-----+------+-------+------+------+-------+\n",
      "|esea_match_13783263.dem|27   |12    |3      |8     |Gallil|Rifle  |\n",
      "|esea_match_13783266.dem|4    |12    |4      |8     |Mac10 |SMG    |\n",
      "|esea_match_13783266.dem|9    |26    |3      |8     |AK47  |Rifle  |\n",
      "|esea_match_13783266.dem|19   |26    |3      |8     |AK47  |Rifle  |\n",
      "|esea_match_13783267.dem|11   |22    |4      |8     |M4A4  |Rifle  |\n",
      "|esea_match_13783268.dem|9    |55    |2      |8     |Deagle|Pistol |\n",
      "|esea_match_13783268.dem|10   |35    |0      |8     |AK47  |Rifle  |\n",
      "|esea_match_13783269.dem|14   |23    |6      |8     |P250  |Pistol |\n",
      "|esea_match_13783269.dem|17   |25    |0      |8     |AK47  |Rifle  |\n",
      "|esea_match_13783269.dem|22   |27    |3      |8     |AK47  |Rifle  |\n",
      "|esea_match_13783270.dem|14   |100   |1      |8     |AWP   |Sniper |\n",
      "|esea_match_13783273.dem|2    |37    |1      |8     |Deagle|Pistol |\n",
      "|esea_match_13783273.dem|3    |30    |0      |8     |P2000 |Pistol |\n",
      "|esea_match_13783273.dem|8    |19    |3      |8     |AK47  |Rifle  |\n",
      "|esea_match_13783273.dem|21   |26    |3      |8     |AK47  |Rifle  |\n",
      "|esea_match_13783273.dem|23   |22    |3      |8     |AK47  |Rifle  |\n",
      "|esea_match_13783279.dem|25   |14    |1      |8     |Deagle|Pistol |\n",
      "|esea_match_13783281.dem|1    |28    |0      |8     |Glock |Pistol |\n",
      "|esea_match_13783281.dem|6    |7     |0      |8     |AK47  |Rifle  |\n",
      "|esea_match_13783281.dem|19   |70    |6      |8     |Scout |Sniper |\n",
      "+-----------------------+-----+------+-------+------+------+-------+\n",
      "\n"
     ]
    }
   ],
   "source": [
    "# checkout wierd 8 hitbox\n",
    "hitbox = spark.sql(\"SELECT file, round, hp_dmg, arm_dmg, hitbox, wp, wp_type FROM dmg_table WHERE hitbox = 8 LIMIT 20\")\n",
    "hitbox.show(truncate=False)"
   ]
  },
  {
   "cell_type": "markdown",
   "id": "2a4025d8",
   "metadata": {},
   "source": [
    "The data varies greatly here, and the 8 doesn't even seem to be an id for another hitbox."
   ]
  },
  {
   "cell_type": "code",
   "execution_count": 28,
   "id": "582c9993",
   "metadata": {},
   "outputs": [
    {
     "name": "stderr",
     "output_type": "stream",
     "text": [
      "[Stage 72:============================================>           (16 + 4) / 20]\r"
     ]
    },
    {
     "name": "stdout",
     "output_type": "stream",
     "text": [
      "+----------+\n",
      "|      nade|\n",
      "+----------+\n",
      "|   Molotov|\n",
      "|     Decoy|\n",
      "|     Smoke|\n",
      "|     Flash|\n",
      "|Incendiary|\n",
      "|        HE|\n",
      "+----------+\n",
      "\n"
     ]
    },
    {
     "name": "stderr",
     "output_type": "stream",
     "text": [
      "\r",
      "                                                                                \r"
     ]
    }
   ],
   "source": [
    "# register grenades_df as temporary table\n",
    "grenades_df.createOrReplaceTempView(\"grenades_table\")\n",
    "\n",
    "# check out the different grenade utility\n",
    "nades = spark.sql(\"SELECT DISTINCT nade FROM grenades_table\")\n",
    "nades.show()"
   ]
  },
  {
   "cell_type": "markdown",
   "id": "04a07540",
   "metadata": {},
   "source": [
    "The utility is as expected."
   ]
  },
  {
   "cell_type": "code",
   "execution_count": 29,
   "id": "2e0eecd8",
   "metadata": {},
   "outputs": [
    {
     "name": "stderr",
     "output_type": "stream",
     "text": [
      "[Stage 75:=======================================>                (14 + 6) / 20]\r"
     ]
    },
    {
     "name": "stdout",
     "output_type": "stream",
     "text": [
      "+--------+\n",
      "|ct_alive|\n",
      "+--------+\n",
      "|      -5|\n",
      "|      -4|\n",
      "|      -3|\n",
      "|      -2|\n",
      "|      -1|\n",
      "|       0|\n",
      "|       1|\n",
      "|       2|\n",
      "|       3|\n",
      "|       4|\n",
      "|       5|\n",
      "+--------+\n",
      "\n"
     ]
    },
    {
     "name": "stderr",
     "output_type": "stream",
     "text": [
      "\r",
      "                                                                                \r"
     ]
    }
   ],
   "source": [
    "# register kills_df as temporary table\n",
    "kills_df.createOrReplaceTempView(\"kills_table\")\n",
    "\n",
    "# check out the different number of counter terrorists alive at each kill event\n",
    "ct_alive = spark.sql(\"SELECT DISTINCT ct_alive FROM kills_table ORDER BY ct_alive\")\n",
    "ct_alive.show()"
   ]
  },
  {
   "cell_type": "markdown",
   "id": "8b190eba",
   "metadata": {},
   "source": [
    "Now this is super interesting because how can there be negative players alive? Let's check out these negative rounds."
   ]
  },
  {
   "cell_type": "code",
   "execution_count": 30,
   "id": "31a8cc3b",
   "metadata": {
    "scrolled": false
   },
   "outputs": [
    {
     "name": "stderr",
     "output_type": "stream",
     "text": [
      "[Stage 78:=======================================>                (14 + 6) / 20]\r"
     ]
    },
    {
     "name": "stdout",
     "output_type": "stream",
     "text": [
      "+-----------------------+-----+--------+--------+----------+--------+-------+---------------+\n",
      "|file                   |round|att_team|vic_team|wp        |ct_alive|t_alive|is_bomb_planted|\n",
      "+-----------------------+-----+--------+--------+----------+--------+-------+---------------+\n",
      "|esea_match_13782060.dem|13   |Team 2  |Team 1  |AK47      |-1      |-3     |true           |\n",
      "|esea_match_13782090.dem|10   |Team 2  |Team 1  |AK47      |-1      |1      |true           |\n",
      "|esea_match_13782090.dem|10   |Team 2  |Team 1  |AK47      |-2      |1      |true           |\n",
      "|esea_match_13782090.dem|10   |Team 2  |Team 1  |AK47      |-3      |1      |true           |\n",
      "|esea_match_13782090.dem|10   |Team 1  |Team 2  |USP       |-3      |0      |true           |\n",
      "|esea_match_13782090.dem|10   |Team 2  |Team 1  |AK47      |-4      |0      |true           |\n",
      "|esea_match_13782090.dem|10   |Team 2  |Team 1  |AK47      |-5      |0      |true           |\n",
      "|esea_match_13818484.dem|19   |Team 1  |Team 2  |AK47      |-1      |-3     |true           |\n",
      "|esea_match_13819154.dem|32   |Team 1  |Team 2  |AK47      |-1      |-1     |true           |\n",
      "|esea_match_13819377.dem|15   |Team 2  |Team 2  |HE        |-1      |3      |true           |\n",
      "|esea_match_13779771.dem|15   |Team 1  |Team 2  |Incendiary|-1      |3      |true           |\n",
      "|esea_match_13779852.dem|1    |Team 2  |Team 1  |Deagle    |-1      |-2     |false          |\n",
      "|esea_match_13779852.dem|1    |Team 1  |Team 2  |UMP       |-1      |-3     |false          |\n",
      "|esea_match_13779852.dem|1    |Team 2  |Team 1  |Deagle    |-2      |-3     |false          |\n",
      "|esea_match_13779852.dem|1    |Team 2  |Team 1  |Deagle    |-3      |-3     |false          |\n",
      "|esea_match_13779852.dem|1    |Team 2  |Team 1  |Deagle    |-4      |-3     |false          |\n",
      "|esea_match_13780333.dem|26   |Team 1  |Team 2  |AK47      |-1      |2      |true           |\n",
      "|esea_match_13780333.dem|26   |Team 1  |Team 2  |AK47      |-2      |2      |true           |\n",
      "|esea_match_13780333.dem|26   |Team 1  |Team 2  |AK47      |-3      |2      |true           |\n",
      "|esea_match_13780333.dem|26   |Team 1  |Team 2  |AK47      |-4      |2      |true           |\n",
      "+-----------------------+-----+--------+--------+----------+--------+-------+---------------+\n",
      "\n"
     ]
    },
    {
     "name": "stderr",
     "output_type": "stream",
     "text": [
      "\r",
      "                                                                                \r"
     ]
    }
   ],
   "source": [
    "# find the rows wth neg ct players alive\n",
    "neg_ct_alive = spark.sql(\"SELECT file, round, att_team, vic_team, wp, ct_alive, t_alive, is_bomb_planted FROM kills_table\\\n",
    "                            WHERE ct_alive < 0 LIMIT 20\")\n",
    "neg_ct_alive.show(truncate=False)"
   ]
  },
  {
   "cell_type": "code",
   "execution_count": 31,
   "id": "fc434e0b",
   "metadata": {
    "scrolled": false
   },
   "outputs": [
    {
     "name": "stderr",
     "output_type": "stream",
     "text": [
      "\r",
      "[Stage 84:=====>                                                   (1 + 9) / 10]\r",
      "\r",
      "[Stage 84:==================================>                      (6 + 4) / 10]\r"
     ]
    },
    {
     "name": "stdout",
     "output_type": "stream",
     "text": [
      "+-----+-----------------+----------------+----------------+------+--------+-------+---------------+\n",
      "|round|          seconds|        att_side|        vic_side|    wp|ct_alive|t_alive|is_bomb_planted|\n",
      "+-----+-----------------+----------------+----------------+------+--------+-------+---------------+\n",
      "|   21|         25.16895|CounterTerrorist|       Terrorist|Deagle|       5|      4|          false|\n",
      "|   21|         25.18457|       Terrorist|CounterTerrorist|  AK47|       4|      4|          false|\n",
      "|   21|         34.36255|       Terrorist|CounterTerrorist|  AK47|       3|      4|          false|\n",
      "|   21|         36.39868|       Terrorist|CounterTerrorist|  AK47|       2|      4|          false|\n",
      "|   21|         47.40906|       Terrorist|CounterTerrorist|  AK47|       1|      4|          false|\n",
      "|   21|         48.09827|CounterTerrorist|       Terrorist|Deagle|       1|      3|          false|\n",
      "|   21|         48.63074|       Terrorist|CounterTerrorist|  AK47|       0|      3|          false|\n",
      "|   21|         80.11145|       Terrorist|CounterTerrorist|  AK47|      -1|      3|          false|\n",
      "|   21|87.30041999999999|       Terrorist|CounterTerrorist|  AK47|      -2|      3|          false|\n",
      "|   21|89.90026999999999|       Terrorist|CounterTerrorist|  AK47|      -3|      3|          false|\n",
      "|   21|          93.7218|CounterTerrorist|       Terrorist|  P250|      -3|      2|          false|\n",
      "|   21|         94.81812|       Terrorist|CounterTerrorist|  AK47|      -4|      2|          false|\n",
      "|   21|         97.98193|       Terrorist|CounterTerrorist|  AK47|      -5|      2|          false|\n",
      "+-----+-----------------+----------------+----------------+------+--------+-------+---------------+\n",
      "\n"
     ]
    },
    {
     "name": "stderr",
     "output_type": "stream",
     "text": [
      "\r",
      "                                                                                \r"
     ]
    }
   ],
   "source": [
    "# check out a negative round\n",
    "neg_round = spark.sql(\"SELECT round, seconds, att_side, vic_side, wp, ct_alive, t_alive, is_bomb_planted FROM kills_table\\\n",
    "                        WHERE file = 'esea_match_13782235.dem' AND round = 21\")\n",
    "neg_round.show()"
   ]
  },
  {
   "cell_type": "markdown",
   "id": "a985f31b",
   "metadata": {},
   "source": [
    "This is extremely odd and I can't think of a reason in which this could be correct. You cannot revive a dead teammate, so I'm not sure how a counter terrorist can pick up a P250 and kill a Terrorist if there weren't any counter terrorists alive in the first place. The rounds aren't overlapping like I initially thought either."
   ]
  },
  {
   "cell_type": "code",
   "execution_count": 32,
   "id": "5d3c6bf4",
   "metadata": {},
   "outputs": [
    {
     "name": "stderr",
     "output_type": "stream",
     "text": [
      "[Stage 89:=================================>                        (4 + 3) / 7]\r"
     ]
    },
    {
     "name": "stdout",
     "output_type": "stream",
     "text": [
      "+------------------+-----------------+----------------+-----------------+------+-------+------+--------+\n",
      "|           seconds|           att_id|        vic_side|           vic_id|hp_dmg|arm_dmg|    wp|  hitbox|\n",
      "+------------------+-----------------+----------------+-----------------+------+-------+------+--------+\n",
      "|          1831.694|76561198002029991|       Terrorist|76561198215167165|   100|      5|Deagle|    Head|\n",
      "|           1831.71|76561198206863843|CounterTerrorist|76561198002029991|   100|     15|  AK47|    Head|\n",
      "|           1840.59|76561198180665254|CounterTerrorist|76561197971471048|    26|      3|  AK47| LeftArm|\n",
      "|            1840.7|76561198180665254|CounterTerrorist|76561197971471048|    26|      3|  AK47|   Chest|\n",
      "|1840.7939999999999|76561198180665254|CounterTerrorist|76561197971471048|    26|      3|  AK47|   Chest|\n",
      "|          1840.888|76561198180665254|CounterTerrorist|76561197971471048|    22|      3|  AK47|   Chest|\n",
      "|          1842.626|76561198180665254|CounterTerrorist|76561198256213312|    35|      0|  AK47|RightArm|\n",
      "|           1842.83|76561198180665254|CounterTerrorist|76561198256213312|    26|      0|  AK47| LeftLeg|\n",
      "|          1842.924|76561198180665254|CounterTerrorist|76561198256213312|    39|      0|  AK47| Stomach|\n",
      "|          1850.473|76561198180665254|CounterTerrorist|76561198335967313|    26|      3|  AK47|   Chest|\n",
      "|          1850.692|76561198194992829|       Terrorist|76561198180665254|    16|      2|    CZ|RightArm|\n",
      "|1850.8020000000001|76561198194992829|       Terrorist|76561198180665254|    64|      9|    CZ|    Head|\n",
      "|1853.0420000000001|76561198194992829|       Terrorist|76561198206863843|    22|      0|    CZ| LeftLeg|\n",
      "|          1853.934|76561198206863843|CounterTerrorist|76561198194992829|   100|     16|  AK47|    Head|\n",
      "|          1854.279|76561198335967313|       Terrorist|76561198206863843|    50|      1|Deagle|   Chest|\n",
      "|1854.6229999999998|76561198335967313|       Terrorist|76561198206863843|    28|      0|Deagle| LeftLeg|\n",
      "|          1855.156|76561198193298595|CounterTerrorist|76561198335967313|    74|      0|  AK47|    Head|\n",
      "|1882.4389999999999|76561198031401360|CounterTerrorist|76561198335967313|     2|      0| Smoke| Generic|\n",
      "|1882.4389999999999|76561198031401360|CounterTerrorist|76561198335967313|     2|      0| Smoke| Generic|\n",
      "|1884.3339999999998|76561198335967313|       Terrorist|76561198206863843|     4|      1|    HE| Generic|\n",
      "|1884.3339999999998|76561198335967313|       Terrorist|76561198193298595|    19|      6|    HE| Generic|\n",
      "|1884.3339999999998|76561198335967313|       Terrorist|76561198180665254|     5|      1|    HE| Generic|\n",
      "|1886.6370000000002|76561198193298595|CounterTerrorist|76561198335967313|    96|      0|  AK47|    Head|\n",
      "|          1893.622|76561198193298595|CounterTerrorist|76561198002029991|    35|      0|  AK47|   Chest|\n",
      "|1893.7160000000001|76561198193298595|CounterTerrorist|76561198002029991|    35|      0|  AK47|   Chest|\n",
      "|          1893.826|76561198193298595|CounterTerrorist|76561198002029991|    30|      0|  AK47|   Chest|\n",
      "|          1896.112|76561198206863843|CounterTerrorist|76561197971471048|    35|      0|  AK47|   Chest|\n",
      "|1896.2220000000002|76561198206863843|CounterTerrorist|76561197971471048|    35|      0|  AK47|   Chest|\n",
      "|          1896.425|76561198206863843|CounterTerrorist|76561197971471048|    30|      0|  AK47|   Chest|\n",
      "|1899.9489999999998|76561198193298595|CounterTerrorist|76561198256213312|    44|      0|  AK47| Stomach|\n",
      "|          1900.043|76561198193298595|CounterTerrorist|76561198256213312|    44|      0|  AK47| Stomach|\n",
      "|          1900.247|76561198256213312|       Terrorist|76561198193298595|    81|     24|  P250|    Head|\n",
      "|1901.3429999999998|76561198206863843|CounterTerrorist|76561198256213312|    12|      0|  AK47| Stomach|\n",
      "|1904.2879999999998|76561198194992829|       Terrorist|76561198180665254|    20|      5|  P250|   Chest|\n",
      "|1904.3029999999999|76561198180665254|CounterTerrorist|76561198194992829|    34|      0|  AK47|   Chest|\n",
      "|1904.4129999999998|76561198180665254|CounterTerrorist|76561198194992829|    43|      0|  AK47| Stomach|\n",
      "|          1904.507|76561198180665254|CounterTerrorist|76561198194992829|    23|      0|  AK47| Stomach|\n",
      "+------------------+-----------------+----------------+-----------------+------+-------+------+--------+\n",
      "\n"
     ]
    },
    {
     "name": "stderr",
     "output_type": "stream",
     "text": [
      "\r",
      "                                                                                \r"
     ]
    }
   ],
   "source": [
    "# cross reference with damage data\n",
    "neg_dmg = spark.sql(\"SELECT seconds, att_id, vic_side, vic_id, hp_dmg, arm_dmg, wp, hitbox FROM dmg_table\\\n",
    "                        WHERE file = 'esea_match_13782235.dem' AND round = 21\")\n",
    "neg_dmg.show(50)"
   ]
  },
  {
   "cell_type": "code",
   "execution_count": 33,
   "id": "70c02658",
   "metadata": {},
   "outputs": [
    {
     "name": "stderr",
     "output_type": "stream",
     "text": [
      "[Stage 90:============================================>           (16 + 4) / 20]\r"
     ]
    },
    {
     "name": "stdout",
     "output_type": "stream",
     "text": [
      "+-----------------+-------------+----------------+\n",
      "|           vic_id|max(vic_team)|   max(vic_side)|\n",
      "+-----------------+-------------+----------------+\n",
      "|76561197971471048|       Team 2|CounterTerrorist|\n",
      "|76561198002029991|       Team 2|CounterTerrorist|\n",
      "|76561198180665254|       Team 1|       Terrorist|\n",
      "|76561198193298595|       Team 1|       Terrorist|\n",
      "|76561198194992829|       Team 2|CounterTerrorist|\n",
      "|76561198206863843|       Team 1|       Terrorist|\n",
      "|76561198215167165|       Team 1|       Terrorist|\n",
      "|76561198256213312|       Team 2|CounterTerrorist|\n",
      "|76561198335967313|       Team 2|CounterTerrorist|\n",
      "+-----------------+-------------+----------------+\n",
      "\n"
     ]
    },
    {
     "name": "stderr",
     "output_type": "stream",
     "text": [
      "\r",
      "                                                                                \r"
     ]
    }
   ],
   "source": [
    "# cross reference with damage data\n",
    "neg_dmg = spark.sql(\"SELECT vic_id, MAX(vic_team), MAX(vic_side) FROM dmg_table\\\n",
    "                        WHERE file = 'esea_match_13782235.dem' AND round = 21 GROUP BY vic_id\")\n",
    "neg_dmg.show()"
   ]
  },
  {
   "cell_type": "code",
   "execution_count": 34,
   "id": "b2ef5b58",
   "metadata": {},
   "outputs": [
    {
     "name": "stderr",
     "output_type": "stream",
     "text": [
      "[Stage 95:=========================================>              (11 + 4) / 15]\r"
     ]
    },
    {
     "name": "stdout",
     "output_type": "stream",
     "text": [
      "+------------------+-----------------+----------------+-----------------+------+-------+----+--------+\n",
      "|           seconds|           att_id|        vic_side|           vic_id|hp_dmg|arm_dmg|  wp|  hitbox|\n",
      "+------------------+-----------------+----------------+-----------------+------+-------+----+--------+\n",
      "|          1842.626|76561198180665254|CounterTerrorist|76561198256213312|    35|      0|AK47|RightArm|\n",
      "|           1842.83|76561198180665254|CounterTerrorist|76561198256213312|    26|      0|AK47| LeftLeg|\n",
      "|          1842.924|76561198180665254|CounterTerrorist|76561198256213312|    39|      0|AK47| Stomach|\n",
      "|1899.9489999999998|76561198193298595|CounterTerrorist|76561198256213312|    44|      0|AK47| Stomach|\n",
      "|          1900.043|76561198193298595|CounterTerrorist|76561198256213312|    44|      0|AK47| Stomach|\n",
      "|1901.3429999999998|76561198206863843|CounterTerrorist|76561198256213312|    12|      0|AK47| Stomach|\n",
      "+------------------+-----------------+----------------+-----------------+------+-------+----+--------+\n",
      "\n"
     ]
    },
    {
     "name": "stderr",
     "output_type": "stream",
     "text": [
      "\r",
      "                                                                                \r"
     ]
    }
   ],
   "source": [
    "# look at specific victim\n",
    "neg_dmg = spark.sql(\"\"\"SELECT seconds, att_id, vic_side, vic_id, hp_dmg, arm_dmg, wp, hitbox\n",
    "                        FROM dmg_table\n",
    "                        WHERE file = 'esea_match_13782235.dem'\n",
    "                            AND round = 21\n",
    "                            AND vic_id = 76561198256213312\"\"\")\n",
    "neg_dmg.show()"
   ]
  },
  {
   "cell_type": "markdown",
   "id": "857d39c3",
   "metadata": {},
   "source": [
    "After looking at the above specific round, cross referencing with the damage table, and looking into a specific player, it doesn't look like the kill table is necessarily wrong. Player `76561198256213312` dies at around 1842 seconds into the match. The damage tables confirm that they took 100 hp dmg, so they would be dead. However, around 57 seconds later, they take an additional 100 damage. Each round is 1:55 seconds, so the timing tracks. However, looking at these two rows from the kills table (4 tables above), the timing seems a bit odd:\n",
    "\n",
    "```\n",
    "|   21|         48.63074|       Terrorist|CounterTerrorist|  AK47|       0|      3|          false|\n",
    "|   21|         80.11145|       Terrorist|CounterTerrorist|  AK47|      -1|      3|          false|\n",
    "```\n",
    "\n",
    "There is quite the gap in time from when I would think the round is over. But, I think this is actually intended. This is scrim data where the ranks are unknown, so this must be custom data. Meaning that the players are able to restart rounds (this helps players practice rounds that maybe went wrong).\n",
    "\n",
    "See: https://liquidsky.com/how-to-restart-a-round-in-csgo/\n",
    "\n",
    "To confirm, we will look at the competitive matchmaking data where players are unable to replay rounds. It's still better to analyze scrim data over ranked gameplay since there are so many variables that can affect ranked gameplay (and the players just aren't that good), but we will look at this data to confirm our suspicions."
   ]
  },
  {
   "cell_type": "code",
   "execution_count": 35,
   "id": "ab149512",
   "metadata": {},
   "outputs": [
    {
     "name": "stderr",
     "output_type": "stream",
     "text": [
      "[Stage 96:=====================================================>  (19 + 1) / 20]\r"
     ]
    },
    {
     "name": "stdout",
     "output_type": "stream",
     "text": [
      "+------------------------------------+-----+-----------------+\n",
      "|file                                |round|vic_id           |\n",
      "+------------------------------------+-----+-----------------+\n",
      "|003229487702734799141_1941031165.dem|18   |76561198140765551|\n",
      "|003229468368939516218_0397926130.dem|26   |76561198374379750|\n",
      "|003229458106115162393_0161356099.dem|16   |76561198364483897|\n",
      "|003229575324362604568_1774667547.dem|26   |76561198273717709|\n",
      "|003229603099916107808_1201131139.dem|1    |76561198081171126|\n",
      "+------------------------------------+-----+-----------------+\n",
      "\n"
     ]
    },
    {
     "name": "stderr",
     "output_type": "stream",
     "text": [
      "\r",
      "                                                                                \r"
     ]
    }
   ],
   "source": [
    "# register mm_df as temporary table\n",
    "mm_df.createOrReplaceTempView(\"mm_table\")\n",
    "\n",
    "# find file, round, and id of player who gets more than 100 damage\n",
    "target = spark.sql(\"\"\"SELECT DISTINCT file, round, vic_id FROM mm_table\n",
    "                        GROUP BY file, round, vic_id\n",
    "                        HAVING SUM(hp_dmg) > 100\n",
    "                        LIMIT 5\"\"\")\n",
    "target.show(truncate=False)"
   ]
  },
  {
   "cell_type": "code",
   "execution_count": 36,
   "id": "309251d3",
   "metadata": {},
   "outputs": [
    {
     "name": "stderr",
     "output_type": "stream",
     "text": [
      "[Stage 104:====================================>                  (10 + 5) / 15]\r"
     ]
    },
    {
     "name": "stdout",
     "output_type": "stream",
     "text": [
      "+------------------+-----------------+----------------+-----------------+------+-------+------+--------+\n",
      "|seconds           |att_id           |vic_side        |vic_id           |hp_dmg|arm_dmg|wp    |hitbox  |\n",
      "+------------------+-----------------+----------------+-----------------+------+-------+------+--------+\n",
      "|1989.395          |76561198259300986|Terrorist       |76561198155211016|17    |4      |P90   |Stomach |\n",
      "|1989.4260000000002|76561198155211016|CounterTerrorist|76561198259300986|27    |3      |AK47  |Chest   |\n",
      "|1989.457          |76561198259300986|Terrorist       |76561198155211016|18    |4      |P90   |Stomach |\n",
      "|1989.52           |76561198155211016|CounterTerrorist|76561198259300986|27    |3      |AK47  |RightArm|\n",
      "|1989.52           |76561198259300986|Terrorist       |76561198155211016|18    |4      |P90   |Stomach |\n",
      "|1989.614          |76561198155211016|CounterTerrorist|76561198259300986|33    |4      |AK47  |Stomach |\n",
      "|1989.9579999999999|76561198259300986|Terrorist       |76561198155211016|18    |4      |P90   |Stomach |\n",
      "|1990.395          |76561198141593398|Terrorist       |76561198155211016|15    |0      |P90   |RightLeg|\n",
      "|1990.4260000000002|76561198155211016|CounterTerrorist|76561198141593398|100   |0      |AK47  |Head    |\n",
      "|1990.4260000000002|76561198259300986|Terrorist       |76561198155211016|14    |3      |P90   |RightArm|\n",
      "|1996.021          |76561198259300986|Terrorist       |76561198381080716|67    |15     |P90   |Head    |\n",
      "|1996.0839999999998|76561198259300986|Terrorist       |76561198381080716|33    |15     |P90   |Head    |\n",
      "|1998.4279999999999|76561198209161271|CounterTerrorist|76561198259300986|13    |4      |AK47  |Stomach |\n",
      "|2015.964          |76561198206980935|Terrorist       |76561198209161271|11    |1      |XM1014|RightArm|\n",
      "|2016.339          |76561198197861546|Terrorist       |76561198209161271|18    |4      |P90   |Stomach |\n",
      "|2016.401          |76561198197861546|Terrorist       |76561198209161271|14    |3      |P90   |Chest   |\n",
      "|2016.432          |76561198206980935|Terrorist       |76561198209161271|11    |1      |XM1014|Chest   |\n",
      "|2016.432          |76561198206980935|Terrorist       |76561198209161271|56    |0      |XM1014|Head    |\n",
      "|2017.808          |76561198206980935|CounterTerrorist|76561198033188883|3     |0      |XM1014|Chest   |\n",
      "|2017.808          |76561198206980935|CounterTerrorist|76561198033188883|3     |0      |XM1014|Chest   |\n",
      "+------------------+-----------------+----------------+-----------------+------+-------+------+--------+\n",
      "only showing top 20 rows\n",
      "\n"
     ]
    },
    {
     "name": "stderr",
     "output_type": "stream",
     "text": [
      "\r",
      "                                                                                \r"
     ]
    }
   ],
   "source": [
    "# check out round with player id: 76561198209161271\n",
    "target_round_1 = spark.sql(\"\"\"SELECT seconds, att_id, vic_side, vic_id, hp_dmg, arm_dmg, wp, hitbox\n",
    "                                FROM mm_table\n",
    "                                WHERE file = '003231572978076483711_1980968073.dem' AND round = 21\"\"\")\n",
    "target_round_1.show(truncate=False)"
   ]
  },
  {
   "cell_type": "code",
   "execution_count": 37,
   "id": "6bfc7af0",
   "metadata": {},
   "outputs": [
    {
     "name": "stderr",
     "output_type": "stream",
     "text": [
      "[Stage 107:====================================>                  (10 + 5) / 15]\r"
     ]
    },
    {
     "name": "stdout",
     "output_type": "stream",
     "text": [
      "+------------------+-----------------+----------------+-----------------+------+-------+------+--------+\n",
      "|seconds           |att_id           |vic_side        |vic_id           |hp_dmg|arm_dmg|wp    |hitbox  |\n",
      "+------------------+-----------------+----------------+-----------------+------+-------+------+--------+\n",
      "|1993.1070000000002|76561198263640994|Terrorist       |76561198280017966|63    |0      |HE    |Generic |\n",
      "|1993.1070000000002|76561198263640994|Terrorist       |76561198057443505|9     |0      |HE    |Generic |\n",
      "|1995.795          |76561198263640994|Terrorist       |76561198057443505|16    |0      |XM1014|Stomach |\n",
      "|1996.139          |76561198263640994|Terrorist       |76561198057443505|55    |0      |XM1014|Head    |\n",
      "|1996.139          |76561198263640994|Terrorist       |76561198057443505|17    |0      |XM1014|Stomach |\n",
      "|1996.139          |76561198263640994|Terrorist       |76561198057443505|13    |0      |XM1014|Chest   |\n",
      "|2002.359          |76561198263640994|Terrorist       |76561198012477515|11    |0      |XM1014|Chest   |\n",
      "|2002.796          |76561198313631765|Terrorist       |76561198083393382|15    |0      |P90   |LeftLeg |\n",
      "|2003.109          |76561198263640994|Terrorist       |76561198012477515|11    |0      |XM1014|Chest   |\n",
      "|2003.109          |76561198263640994|Terrorist       |76561198012477515|11    |0      |XM1014|Chest   |\n",
      "|2003.4520000000002|76561198263640994|Terrorist       |76561198012477515|11    |0      |XM1014|RightArm|\n",
      "|2003.4520000000002|76561198263640994|Terrorist       |76561198012477515|11    |0      |XM1014|Chest   |\n",
      "|2003.4520000000002|76561198263640994|Terrorist       |76561198012477515|11    |0      |XM1014|RightArm|\n",
      "|2003.4520000000002|76561198263640994|Terrorist       |76561198012477515|45    |0      |XM1014|Head    |\n",
      "|2003.484          |76561198313631765|Terrorist       |76561198083393382|20    |0      |P90   |Chest   |\n",
      "|2004.015          |76561198313631765|Terrorist       |76561198083393382|21    |0      |P90   |LeftArm |\n",
      "|2004.046          |76561198313631765|Terrorist       |76561198083393382|21    |0      |P90   |Chest   |\n",
      "|2004.484          |76561198083393382|CounterTerrorist|76561198313631765|45    |1      |Deagle|Chest   |\n",
      "|2004.484          |76561198313631765|Terrorist       |76561198083393382|23    |0      |P90   |Head    |\n",
      "|2007.328          |76561198280017966|CounterTerrorist|76561198313631765|11    |6      |Glock |LeftArm |\n",
      "+------------------+-----------------+----------------+-----------------+------+-------+------+--------+\n",
      "only showing top 20 rows\n",
      "\n"
     ]
    },
    {
     "name": "stderr",
     "output_type": "stream",
     "text": [
      "\r",
      "                                                                                \r"
     ]
    }
   ],
   "source": [
    "# check out round with player id: 76561198012477515\n",
    "target_round_2 = spark.sql(\"\"\"SELECT seconds, att_id, vic_side, vic_id, hp_dmg, arm_dmg, wp, hitbox\n",
    "                                FROM mm_table\n",
    "                                WHERE file = '003231561055247270086_0969652256.dem' AND round = 22\"\"\")\n",
    "target_round_2.show(truncate=False)"
   ]
  },
  {
   "cell_type": "markdown",
   "id": "e800911f",
   "metadata": {},
   "source": [
    "The players seem to stay dead here, so that's good. Before we move on to the 3 questions, we first want to check that the round meta data doesn't double count these replayed rounds."
   ]
  },
  {
   "cell_type": "code",
   "execution_count": 38,
   "id": "e927e3a1",
   "metadata": {},
   "outputs": [
    {
     "name": "stdout",
     "output_type": "stream",
     "text": [
      "+--------+\n",
      "|count(1)|\n",
      "+--------+\n",
      "+--------+\n",
      "\n"
     ]
    }
   ],
   "source": [
    "# register meta_df as temporary table\n",
    "meta_df.createOrReplaceTempView(\"meta_table\")\n",
    "\n",
    "# check out the different round data\n",
    "dup_rounds = spark.sql(\"\"\"SELECT COUNT(*)\n",
    "                            FROM meta_table\n",
    "                            GROUP BY file, map, round\n",
    "                            HAVING COUNT(*) > 1\"\"\")\n",
    "dup_rounds.show()"
   ]
  },
  {
   "cell_type": "markdown",
   "id": "407e5070",
   "metadata": {},
   "source": [
    "There is no duplicate round data, so that is great news! This means that even if the round was replayed during a scrim, we still only get the data once, meaning that we only count the winner of the replayed round as the winner of the overall round (even if they might have lost all players before the replay). We must keep this in mind when analyzing how different events (such as kills) may affect round outcomes. We now move on to the 3 questions.\n",
    "\n",
    "---\n",
    "\n",
    "## Map Balance <a name=\"balance\"></a>\n",
    "\n",
    "Fans of CS:GO claim that their maps are superior to valorant's map in that they are more fair and balanced. This means that attackers and defenders have about the same winrate on both sides of the map (terrorists and counter terrorists). Valorant maps are known to be heavily defense favored, the most famously defense sided map (before its rework) was called Split. It was so defense sided that as an attacker, if you were able to get at least 2 or 3 round wins in the first half, you would most likely win the whole game. Let's see if this is the case for any of CS:GO's maps and if they do indeed have the better map designs.\n",
    "\n",
    "We will begin by first looking at the attack win rates across all the data for each map, and then take a look at the defense win rates. We will use the metadata table since we are interested in round level data. This should show us if any map is more attack or defense sided."
   ]
  },
  {
   "cell_type": "code",
   "execution_count": 39,
   "id": "4e4fc26e",
   "metadata": {},
   "outputs": [
    {
     "name": "stdout",
     "output_type": "stream",
     "text": [
      "+-----------+-----------------+-------------------------+---------+\n",
      "|        map|terrorist_winrate|counter_terrorist_winrate|rate_diff|\n",
      "+-----------+-----------------+-------------------------+---------+\n",
      "|    de_nuke|            0.444|                    0.556|    0.113|\n",
      "|   de_dust2|            0.538|                    0.462|    0.077|\n",
      "|   de_train|            0.468|                    0.532|    0.065|\n",
      "| de_inferno|            0.527|                    0.473|    0.053|\n",
      "|   de_cbble|            0.526|                    0.474|    0.052|\n",
      "|   de_cache|            0.525|                    0.475|     0.05|\n",
      "|de_overpass|            0.488|                    0.512|    0.024|\n",
      "|  de_mirage|              0.5|                      0.5|    0.001|\n",
      "+-----------+-----------------+-------------------------+---------+\n",
      "\n"
     ]
    }
   ],
   "source": [
    "# get the attack and defense sided percentages in scrim play\n",
    "esea_map_rates = spark.sql(\n",
    "    \"\"\"SELECT\n",
    "        map,\n",
    "        ROUND(SUM(IF(winner_side = 'Terrorist', 1, 0)) / COUNT(round), 3) AS terrorist_winrate,\n",
    "        ROUND(SUM(IF(winner_side = 'CounterTerrorist', 1, 0)) / COUNT(round), 3) AS counter_terrorist_winrate,\n",
    "        ROUND(ABS(SUM(IF(winner_side = 'Terrorist', 1, 0)) / COUNT(round) - SUM(IF(winner_side = 'CounterTerrorist', 1, 0)) / COUNT(round)), 3) AS rate_diff\n",
    "    FROM\n",
    "        meta_table\n",
    "    GROUP BY\n",
    "        map\n",
    "    ORDER BY\n",
    "        rate_diff DESC\"\"\")\n",
    "esea_map_rates.show()"
   ]
  },
  {
   "cell_type": "markdown",
   "id": "5868a9fa",
   "metadata": {},
   "source": [
    "It seems that some of the maps aren't as balanced as the community claims. However, some of these maps might not be from the active duty map pool, which are the maps that are designated specifically for competitive play, i.e. these are the maps that should be balanced. So we will cross reference with the map dataset. It doesn't make sense to me why a team would be scrimming on maps that aren't in competitive play, but we will still double check.\n",
    "\n",
    "Side note, it's not surprising to me that mirage is the most balanced map because this map is a fan favorite (it's always brought up in discussions about map design as being the golden example)."
   ]
  },
  {
   "cell_type": "code",
   "execution_count": 40,
   "id": "d6983363",
   "metadata": {
    "scrolled": true
   },
   "outputs": [
    {
     "data": {
      "text/plain": [
       "0       de_cache\n",
       "1       de_cbble\n",
       "2       de_dust2\n",
       "3     de_inferno\n",
       "4      de_mirage\n",
       "5    de_overpass\n",
       "6       de_train\n",
       "Name: _c0, dtype: object"
      ]
     },
     "execution_count": 40,
     "metadata": {},
     "output_type": "execute_result"
    }
   ],
   "source": [
    "pandas_map_df.iloc[:, 0]"
   ]
  },
  {
   "cell_type": "markdown",
   "id": "94aede59",
   "metadata": {},
   "source": [
    "Funny enough, the most imbalanced map (nuke) is indeed not part of the active duty map pool. Let's look at the active duty maps using a graph."
   ]
  },
  {
   "cell_type": "code",
   "execution_count": 41,
   "id": "219cb795",
   "metadata": {},
   "outputs": [
    {
     "name": "stdout",
     "output_type": "stream",
     "text": [
      "+-----------+-----------------+-------------------------+---------+\n",
      "|        map|terrorist_winrate|counter_terrorist_winrate|rate_diff|\n",
      "+-----------+-----------------+-------------------------+---------+\n",
      "|   de_dust2|            0.538|                    0.462|    0.077|\n",
      "|   de_train|            0.468|                    0.532|    0.065|\n",
      "| de_inferno|            0.527|                    0.473|    0.053|\n",
      "|   de_cbble|            0.526|                    0.474|    0.052|\n",
      "|   de_cache|            0.525|                    0.475|     0.05|\n",
      "|de_overpass|            0.488|                    0.512|    0.024|\n",
      "|  de_mirage|              0.5|                      0.5|    0.001|\n",
      "+-----------+-----------------+-------------------------+---------+\n",
      "\n"
     ]
    },
    {
     "data": {
      "image/png": "[encoded data removed]",
      "text/plain": [
       "<Figure size 640x480 with 1 Axes>"
      ]
     },
     "metadata": {},
     "output_type": "display_data"
    }
   ],
   "source": [
    "# get the attack and defense sided percentages in scrim play\n",
    "esea_cmap_rates = spark.sql(\n",
    "    \"\"\"SELECT\n",
    "        map,\n",
    "        ROUND(SUM(IF(winner_side = 'Terrorist', 1, 0)) / COUNT(round), 3) AS terrorist_winrate,\n",
    "        ROUND(SUM(IF(winner_side = 'CounterTerrorist', 1, 0)) / COUNT(round), 3) AS counter_terrorist_winrate,\n",
    "        ROUND(ABS(SUM(IF(winner_side = 'Terrorist', 1, 0)) / COUNT(round) - SUM(IF(winner_side = 'CounterTerrorist', 1, 0)) / COUNT(round)), 3) AS rate_diff\n",
    "    FROM\n",
    "        meta_table\n",
    "    WHERE\n",
    "        map IN ('de_cache', 'de_cbble', 'de_dust2', 'de_inferno', 'de_mirage', 'de_overpass', 'de_train')\n",
    "    GROUP BY\n",
    "        map\n",
    "    ORDER BY\n",
    "        rate_diff DESC\"\"\")\n",
    "esea_cmap_rates.show()\n",
    "\n",
    "# some set up\n",
    "esea_cmap_rates_pd = esea_cmap_rates.toPandas()\n",
    "maps = esea_cmap_rates_pd['map']\n",
    "rate_diff = esea_cmap_rates_pd['rate_diff']\n",
    "colors = ['blue' if x <= 0.05 else 'red' for x in esea_cmap_rates_pd['rate_diff']]\n",
    "\n",
    "# plot the data as a bar graph\n",
    "bars = plt.bar(maps, rate_diff, alpha=0.5, color=colors)\n",
    "\n",
    "# customize the plot\n",
    "plt.xlabel('Map')\n",
    "plt.ylabel('Winrate Difference')\n",
    "plt.title('Attack vs Defense Winrates Differences')\n",
    "plt.xticks(rotation=45)\n",
    "\n",
    "# create custom legend handles and labels\n",
    "handles = [bars[0], bars[-1]]\n",
    "labels = ['rate difference > 0.05', 'rate difference <= 0.05']\n",
    "plt.legend(handles, labels)\n",
    "\n",
    "# display the plot\n",
    "plt.tight_layout()\n",
    "plt.show()"
   ]
  },
  {
   "cell_type": "markdown",
   "id": "79e19a38",
   "metadata": {},
   "source": [
    "Just to get some more insights, let's bring in the matchmaking data here and see how the balancing pans out here. Since there is no meta table for this data, the query will need to make use of either the `mm_grenades_demos` or `mm_masters_demos` tables, and group the data accordingly."
   ]
  },
  {
   "cell_type": "code",
   "execution_count": 42,
   "id": "6ebbfe2b",
   "metadata": {},
   "outputs": [
    {
     "name": "stderr",
     "output_type": "stream",
     "text": [
      "[Stage 127:=========================================>             (15 + 5) / 20]\r"
     ]
    },
    {
     "name": "stdout",
     "output_type": "stream",
     "text": [
      "+------------+-----------------+-------------------------+---------+\n",
      "|         map|terrorist_winrate|counter_terrorist_winrate|rate_diff|\n",
      "+------------+-----------------+-------------------------+---------+\n",
      "|cs_insertion|            0.276|                    0.724|    0.448|\n",
      "|  de_austria|            0.717|                    0.283|    0.434|\n",
      "|    de_aztec|             0.35|                     0.65|      0.3|\n",
      "|    cs_italy|            0.638|                    0.362|    0.277|\n",
      "|     de_dust|            0.422|                    0.578|    0.156|\n",
      "|   cs_office|            0.574|                    0.426|    0.148|\n",
      "|de_blackgold|            0.435|                    0.565|     0.13|\n",
      "|     de_nuke|            0.446|                    0.554|    0.107|\n",
      "|  de_shipped|            0.448|                    0.552|    0.103|\n",
      "|    de_cache|            0.539|                    0.461|    0.078|\n",
      "|    de_cbble|            0.535|                    0.465|    0.069|\n",
      "|  de_vertigo|            0.466|                    0.534|    0.068|\n",
      "|  de_inferno|            0.534|                    0.466|    0.067|\n",
      "|   de_canals|            0.476|                    0.524|    0.049|\n",
      "|    de_train|            0.479|                    0.521|    0.042|\n",
      "|    de_dust2|            0.517|                    0.483|    0.035|\n",
      "|   de_thrill|            0.487|                    0.513|    0.025|\n",
      "| de_overpass|            0.511|                    0.489|    0.021|\n",
      "|  cs_assault|             0.51|                     0.49|     0.02|\n",
      "|   de_mirage|            0.506|                    0.494|    0.013|\n",
      "|   cs_agency|              0.5|                      0.5|      0.0|\n",
      "+------------+-----------------+-------------------------+---------+\n",
      "\n"
     ]
    },
    {
     "name": "stderr",
     "output_type": "stream",
     "text": [
      "\r",
      "                                                                                \r"
     ]
    }
   ],
   "source": [
    "# get the attack and defense sided percentages in ranked play\n",
    "mm_map_rates = spark.sql(\n",
    "    \"\"\"SELECT\n",
    "        round_data.map,\n",
    "        ROUND(SUM(IF(round_data.winner_side = 'Terrorist', 1, 0)) / COUNT(round_data.round), 3) AS terrorist_winrate,\n",
    "        ROUND(SUM(IF(round_data.winner_side = 'CounterTerrorist', 1, 0)) / COUNT(round_data.round), 3) AS counter_terrorist_winrate,\n",
    "        ROUND(ABS(SUM(IF(round_data.winner_side = 'Terrorist', 1, 0)) / COUNT(round_data.round) - SUM(IF(round_data.winner_side = 'CounterTerrorist', 1, 0)) / COUNT(round_data.round)), 3) AS rate_diff\n",
    "    FROM\n",
    "        (SELECT file, round, MAX(winner_side) AS winner_side, MAX(map) AS map\n",
    "            FROM mm_table\n",
    "            GROUP BY file, round\n",
    "        ) AS round_data\n",
    "    GROUP BY\n",
    "        round_data.map\n",
    "    ORDER BY\n",
    "        rate_diff DESC\"\"\")\n",
    "\n",
    "mm_map_rates.show(30)"
   ]
  },
  {
   "cell_type": "code",
   "execution_count": 43,
   "id": "d84468bc",
   "metadata": {},
   "outputs": [
    {
     "name": "stderr",
     "output_type": "stream",
     "text": [
      "                                                                                \r"
     ]
    },
    {
     "data": {
      "image/png": "[encoded data removed]",
      "text/plain": [
       "<Figure size 640x480 with 1 Axes>"
      ]
     },
     "metadata": {},
     "output_type": "display_data"
    }
   ],
   "source": [
    "# some set up\n",
    "mm_map_rates_pd = mm_map_rates.toPandas()\n",
    "maps = mm_map_rates_pd['map']\n",
    "rate_diff = mm_map_rates_pd['rate_diff']\n",
    "colors = ['blue' if x <= 0.05 else 'red' for x in mm_map_rates_pd['rate_diff']]\n",
    "\n",
    "# plot the data as a bar graph\n",
    "bars = plt.bar(maps, rate_diff, alpha=0.5, color=colors)\n",
    "\n",
    "# customize the plot\n",
    "plt.xlabel('Map')\n",
    "plt.ylabel('Winrate Difference')\n",
    "plt.title('Attack vs Defense Winrates Differences')\n",
    "plt.xticks(rotation=45)\n",
    "\n",
    "# create custom legend handles and labels\n",
    "handles = [bars[0], bars[-1]]\n",
    "labels = ['rate difference > 0.05', 'rate difference <= 0.05']\n",
    "plt.legend(handles, labels)\n",
    "\n",
    "# display the plot\n",
    "plt.tight_layout()\n",
    "plt.show()"
   ]
  },
  {
   "cell_type": "markdown",
   "id": "ac5d5bcb",
   "metadata": {},
   "source": [
    "There are a lot more maps here, and some of these are very unbalanced! However, some of these maps are community made (the maps with `cs_` in front of them), while other maps are used for different game modes. So again, we will limit our analysis only to the active duty map pool. Let's update our query to filter out the non competitive maps."
   ]
  },
  {
   "cell_type": "code",
   "execution_count": 44,
   "id": "5148c9fb",
   "metadata": {},
   "outputs": [
    {
     "name": "stderr",
     "output_type": "stream",
     "text": [
      "[Stage 146:======================================>                (14 + 6) / 20]\r"
     ]
    },
    {
     "name": "stdout",
     "output_type": "stream",
     "text": [
      "+-----------+-----------------+-------------------------+---------+\n",
      "|        map|terrorist_winrate|counter_terrorist_winrate|rate_diff|\n",
      "+-----------+-----------------+-------------------------+---------+\n",
      "|   de_cache|            0.539|                    0.461|    0.078|\n",
      "|   de_cbble|            0.535|                    0.465|    0.069|\n",
      "| de_inferno|            0.534|                    0.466|    0.067|\n",
      "|   de_train|            0.479|                    0.521|    0.042|\n",
      "|   de_dust2|            0.517|                    0.483|    0.035|\n",
      "|de_overpass|            0.511|                    0.489|    0.021|\n",
      "|  de_mirage|            0.506|                    0.494|    0.013|\n",
      "+-----------+-----------------+-------------------------+---------+\n",
      "\n"
     ]
    },
    {
     "name": "stderr",
     "output_type": "stream",
     "text": [
      "\r",
      "                                                                                \r"
     ]
    }
   ],
   "source": [
    "# get the attack and defense sided percentages in ranked play\n",
    "mm_cmap_rates = spark.sql(\n",
    "    \"\"\"SELECT\n",
    "        round_data.map AS map,\n",
    "        ROUND(SUM(IF(round_data.winner_side = 'Terrorist', 1, 0)) / COUNT(round_data.round), 3) AS terrorist_winrate,\n",
    "        ROUND(SUM(IF(round_data.winner_side = 'CounterTerrorist', 1, 0)) / COUNT(round_data.round), 3) AS counter_terrorist_winrate,\n",
    "        ROUND(ABS(SUM(IF(round_data.winner_side = 'Terrorist', 1, 0)) / COUNT(round_data.round) - SUM(IF(round_data.winner_side = 'CounterTerrorist', 1, 0)) / COUNT(round_data.round)), 3) AS rate_diff\n",
    "    FROM\n",
    "        (SELECT file, round, MAX(winner_side) AS winner_side, MAX(map) AS map\n",
    "            FROM mm_table\n",
    "            GROUP BY file, round\n",
    "        ) AS round_data\n",
    "    WHERE round_data.map IN ('de_cache', 'de_cbble', 'de_dust2', 'de_inferno', 'de_mirage', 'de_overpass', 'de_train')\n",
    "    GROUP BY round_data.map\n",
    "    ORDER BY rate_diff DESC\"\"\")\n",
    "\n",
    "mm_cmap_rates.show()"
   ]
  },
  {
   "cell_type": "code",
   "execution_count": 45,
   "id": "4420d1b6",
   "metadata": {
    "scrolled": false
   },
   "outputs": [
    {
     "name": "stderr",
     "output_type": "stream",
     "text": [
      "                                                                                \r"
     ]
    },
    {
     "data": {
      "image/png": "[encoded data removed]",
      "text/plain": [
       "<Figure size 1000x500 with 2 Axes>"
      ]
     },
     "metadata": {},
     "output_type": "display_data"
    }
   ],
   "source": [
    "# plot the data as a bar graph\n",
    "mm_cmap_rates_pd = mm_cmap_rates.toPandas()\n",
    "\n",
    "# plot two bar graphs next to each other\n",
    "fig, axs = plt.subplots(1, 2, figsize=(10, 5))  # 1 row, 2 columns\n",
    "\n",
    "# some set up for scrim plot\n",
    "maps = esea_cmap_rates_pd['map']\n",
    "rate_diff = esea_cmap_rates_pd['rate_diff']\n",
    "colors = ['blue' if x <= 0.05 else 'red' for x in esea_cmap_rates_pd['rate_diff']]\n",
    "\n",
    "# create custom legend handles and labels\n",
    "bars = axs[0].bar(maps, rate_diff, alpha=0.5, color=colors)\n",
    "handles = [bars[0], bars[-1]]\n",
    "labels = ['rate difference > 0.05', 'rate difference <= 0.05']\n",
    "\n",
    "# customize the scrim plot\n",
    "axs[0].set_xlabel('Map')\n",
    "axs[0].set_ylabel('Winrate Difference')\n",
    "axs[0].set_title('Attack Winrate Differences (Scrim)')\n",
    "axs[0].set_xticks(range(len(maps)))\n",
    "axs[0].set_xticklabels(maps, rotation=45)\n",
    "axs[0].legend(handles, labels)\n",
    "\n",
    "# some set up for ranked plot\n",
    "mm_cmap_rates_pd = mm_cmap_rates.toPandas()\n",
    "maps = mm_cmap_rates_pd['map']\n",
    "rate_diff = mm_cmap_rates_pd['rate_diff']\n",
    "colors = ['blue' if x <= 0.05 else 'red' for x in mm_cmap_rates_pd['rate_diff']]\n",
    "\n",
    "# create custom legend handles and labels\n",
    "bars = axs[1].bar(maps, rate_diff, alpha=0.5, color=colors)\n",
    "handles = [bars[0], bars[-1]]\n",
    "labels = ['rate difference > 0.05', 'rate difference <= 0.05']\n",
    "\n",
    "# customize the ranked plot\n",
    "axs[1].set_xlabel('Map')\n",
    "axs[1].set_ylabel('Winrate Difference')\n",
    "axs[1].set_title('Attack Winrate Differences (Ranked)')\n",
    "axs[1].set_xticks(range(len(maps)))\n",
    "axs[1].set_xticklabels(maps, rotation=45)\n",
    "axs[1].legend(handles, labels)\n",
    "\n",
    "# display the plot\n",
    "plt.tight_layout()\n",
    "plt.show()"
   ]
  },
  {
   "cell_type": "markdown",
   "id": "6f7a966c",
   "metadata": {},
   "source": [
    "It looks like the rates are pretty similar for the scrim data and the ranked data, just that some of the maps are swapped around. Mirage remains the most balanced map in both scenarios, really supporting the idea that it is one the best designed maps out there. Either way, the win rate differences for all maps are below 10% which is pretty good! But for how much CS:GO players claim their maps are the most balanced, I was expecting to see differences under 3 or maybe even 5 percent. But to be fair, this data is a subset of all player data.\n",
    "\n",
    "---\n",
    "\n",
    "## Econ Similarities to Valorant <a name=\"econ\"></a>\n",
    "\n",
    "The next question that we want to address is how similar the econ works in CS:GO when compared to Valorant. In particular, we want to look at the first three rounds of each half. This is where the buying of guns is interesting because teams cannot full buy (buy the best weapons) yet. Here is a quick summary of how the first three rounds _should_ work.\n",
    "\n",
    "The **first round** is what is known as a pistol round. Both teams can only afford pistols. Let's say that Team A wins the pistol round.\n",
    "\n",
    "The **second round** should be a save round for Team B, since they lost the pistol round. This means that they should not buy any guns or utility. Some teams may do what's called a force buy where they will buy what they can, but unless you have a good reason to (you're down 10+ rounds and are desperate) you should not.<br>\n",
    "Team A should buy up what they can here (this will mostly be mid tier guns, like smgs). They are favored to win this round since Team B is expected to be saving.<br>\n",
    "\n",
    "In the **third round** is where things get interesting, and this is where I want to see if CS:GO's econ meta follows the same pattern as Valorant's. After winning the first two rounds, Team A should _not_ buy up. They will have what's called a bonus round where they only spend enough money so that they can have a full buy in the fourth round. They are projected to lose this round.<br>\n",
    "Meanwhile, Team B will buy up. So they will have all utility and top tier guns while Team B has middle tier guns. Team B is favored to win this round.\n",
    "\n",
    "**TLDR:** the team that wins pistol round should buy up second round (mid tier guns), save third round, and the projected scoreline is 2-1.<br>\n",
    "The team that loses pistol round should save second round, and buy up third round (high tier guns), and the projected scoreline is 1-2.\n",
    "\n",
    "We will first look at the starts of the first half (rounds 1 and 2) and the second half (rounds 16 and 17) to see if the losing team saves and loses round 2, while the winning team buys up and wins round 2 for the most part. The first round of each half is also called the pistol round.\n",
    "\n",
    "The cheapest smg/shotgun in CS:GO is priced at 1050. We will say that the winning team buys up if each member spends at least this much and an additional 350 each for either utility or shields, so for a total of 7000. We will consider that the winning team is saving otherwise.\n",
    "\n",
    "**Note:** we will only look at the scrim data here because ranked players don't always play as a team and may not buy and save together (when they should)."
   ]
  },
  {
   "cell_type": "code",
   "execution_count": 46,
   "id": "247cdf76",
   "metadata": {},
   "outputs": [
    {
     "name": "stdout",
     "output_type": "stream",
     "text": [
      "+-----------------------+------+---------+------+---------+-----------------+\n",
      "|file                   |round1|r1_winner|round2|r2_winner|r1_winners_buy_up|\n",
      "+-----------------------+------+---------+------+---------+-----------------+\n",
      "|esea_match_13824556.dem|1     |Team 2   |2     |Team 1   |1                |\n",
      "|esea_match_13824556.dem|16    |Team 2   |17    |Team 2   |1                |\n",
      "|esea_match_13825195.dem|1     |Team 1   |2     |Team 1   |1                |\n",
      "|esea_match_13825195.dem|16    |Team 2   |17    |Team 2   |1                |\n",
      "|esea_match_13824352.dem|1     |Team 2   |2     |Team 2   |1                |\n",
      "|esea_match_13824352.dem|16    |Team 1   |17    |Team 2   |1                |\n",
      "|esea_match_13824578.dem|1     |Team 1   |2     |Team 1   |1                |\n",
      "|esea_match_13824578.dem|16    |Team 2   |17    |Team 1   |1                |\n",
      "|esea_match_13824626.dem|1     |Team 2   |2     |Team 2   |1                |\n",
      "|esea_match_13824626.dem|16    |Team 2   |17    |Team 1   |1                |\n",
      "|esea_match_13825937.dem|1     |Team 1   |2     |Team 1   |1                |\n",
      "|esea_match_13825937.dem|16    |Team 1   |17    |Team 1   |1                |\n",
      "|esea_match_13826571.dem|1     |Team 1   |2     |Team 1   |1                |\n",
      "|esea_match_13826571.dem|16    |Team 1   |17    |Team 1   |1                |\n",
      "|esea_match_13826733.dem|16    |Team 1   |17    |Team 1   |1                |\n",
      "|esea_match_13824334.dem|16    |Team 1   |17    |Team 1   |1                |\n",
      "|esea_match_13824855.dem|1     |Team 2   |2     |Team 1   |1                |\n",
      "|esea_match_13824855.dem|16    |Team 2   |17    |Team 2   |1                |\n",
      "|esea_match_13825149.dem|1     |Team 2   |2     |Team 1   |1                |\n",
      "|esea_match_13825149.dem|16    |Team 1   |17    |Team 2   |1                |\n",
      "+-----------------------+------+---------+------+---------+-----------------+\n",
      "\n"
     ]
    }
   ],
   "source": [
    "# restructure the table so that we can see the first two rounds of each half\n",
    "round_winners = spark.sql(\n",
    "    \"\"\"SELECT\n",
    "        r1.file,\n",
    "        r1.round AS round1,\n",
    "        r1.winner_team AS r1_winner,\n",
    "        r2.round AS round2,\n",
    "        r2.winner_team AS r2_winner,\n",
    "        IF(IF(r1.winner_side = 'Terrorist', r2.t_eq_val, r2.ct_eq_val) > 7000, 1, 0) AS r1_winners_buy_up\n",
    "    FROM\n",
    "        meta_table AS r1\n",
    "    INNER JOIN\n",
    "        meta_table AS r2 ON r1.file = r2.file\n",
    "    WHERE\n",
    "        (r1.round = 1 AND r2.round = 2)\n",
    "        OR (r1.round = 16 AND r2.round = 17)\n",
    "    LIMIT 20\"\"\")\n",
    "round_winners.show(truncate=False)"
   ]
  },
  {
   "cell_type": "code",
   "execution_count": 47,
   "id": "601cb175",
   "metadata": {},
   "outputs": [
    {
     "name": "stdout",
     "output_type": "stream",
     "text": [
      "+-----------------------+------+---------+------+---------+-----------------+\n",
      "|file                   |round1|r1_winner|round2|r2_winner|r1_winners_buy_up|\n",
      "+-----------------------+------+---------+------+---------+-----------------+\n",
      "|esea_match_13821630.dem|1     |Team 2   |2     |Team 2   |1                |\n",
      "|esea_match_13821630.dem|16    |Team 2   |17    |Team 2   |1                |\n",
      "|esea_match_13823776.dem|1     |Team 2   |2     |Team 1   |1                |\n",
      "|esea_match_13823776.dem|16    |Team 2   |17    |Team 1   |1                |\n",
      "+-----------------------+------+---------+------+---------+-----------------+\n",
      "\n",
      "+-----------------------+--------+-----+-----------+----------------+--------+---------+\n",
      "|file                   |map     |round|winner_team|winner_side     |t_eq_val|ct_eq_val|\n",
      "+-----------------------+--------+-----+-----------+----------------+--------+---------+\n",
      "|esea_match_13821630.dem|de_cache|1    |Team 2     |Terrorist       |4400    |4200     |\n",
      "|esea_match_13821630.dem|de_cache|2    |Team 2     |Terrorist       |11550   |6500     |\n",
      "|esea_match_13821630.dem|de_cache|16   |Team 2     |CounterTerrorist|4400    |4400     |\n",
      "|esea_match_13821630.dem|de_cache|17   |Team 2     |CounterTerrorist|6300    |15850    |\n",
      "|esea_match_13823776.dem|de_cache|1    |Team 2     |Terrorist       |4300    |4150     |\n",
      "|esea_match_13823776.dem|de_cache|2    |Team 1     |CounterTerrorist|17300   |9000     |\n",
      "|esea_match_13823776.dem|de_cache|16   |Team 2     |CounterTerrorist|4350    |4250     |\n",
      "|esea_match_13823776.dem|de_cache|17   |Team 1     |Terrorist       |8200    |19950    |\n",
      "+-----------------------+--------+-----+-----------+----------------+--------+---------+\n",
      "\n"
     ]
    }
   ],
   "source": [
    "# verify the above query with two examples: esea_match_13821630.dem and esea_match_13823776.dem\n",
    "validation_p1 = spark.sql(\n",
    "    \"\"\"SELECT\n",
    "        r1.file,\n",
    "        r1.round AS round1,\n",
    "        r1.winner_team AS r1_winner,\n",
    "        r2.round AS round2,\n",
    "        r2.winner_team AS r2_winner,\n",
    "        IF(IF(r1.winner_side = 'Terrorist', r2.t_eq_val, r2.ct_eq_val) > 7000, 1, 0) AS r1_winners_buy_up\n",
    "    FROM\n",
    "        meta_table AS r1\n",
    "    INNER JOIN\n",
    "        meta_table AS r2 ON r1.file = r2.file\n",
    "    WHERE\n",
    "        (r1.file = 'esea_match_13823776.dem' OR r1.file = 'esea_match_13821630.dem')\n",
    "        AND ((r1.round = 1 AND r2.round = 2)\n",
    "            OR (r1.round = 16 AND r2.round = 17))\"\"\")\n",
    "validation_p1.show(truncate=False)\n",
    "\n",
    "validation_p2 = spark.sql(\n",
    "    \"\"\"SELECT\n",
    "        file,\n",
    "        map,\n",
    "        round,\n",
    "        winner_team,\n",
    "        winner_side,\n",
    "        t_eq_val,\n",
    "        ct_eq_val\n",
    "    FROM\n",
    "        meta_table\n",
    "    WHERE\n",
    "        (file = 'esea_match_13823776.dem' OR file = 'esea_match_13821630.dem')\n",
    "        AND (round = 1 OR round = 2 OR round = 16 OR round = 17)\"\"\")\n",
    "validation_p2.show(truncate=False)"
   ]
  },
  {
   "cell_type": "code",
   "execution_count": 48,
   "id": "ca21d397",
   "metadata": {},
   "outputs": [
    {
     "name": "stderr",
     "output_type": "stream",
     "text": [
      "\r",
      "[Stage 186:=========>       (5 + 4) / 9][Stage 187:=============>   (7 + 2) / 9]\r",
      "\r",
      "                                                                                \r"
     ]
    },
    {
     "name": "stdout",
     "output_type": "stream",
     "text": [
      "+-----------------------+-----------+--------+-----------------+\n",
      "|file                   |start_round|win_both|r1_winners_buy_up|\n",
      "+-----------------------+-----------+--------+-----------------+\n",
      "|esea_match_13827234.dem|1          |1       |1                |\n",
      "|esea_match_13827234.dem|16         |1       |1                |\n",
      "|esea_match_13828862.dem|1          |1       |1                |\n",
      "|esea_match_13828088.dem|1          |0       |1                |\n",
      "|esea_match_13828088.dem|16         |1       |1                |\n",
      "|esea_match_13828255.dem|1          |1       |1                |\n",
      "|esea_match_13828255.dem|16         |1       |1                |\n",
      "|esea_match_13828273.dem|1          |1       |1                |\n",
      "|esea_match_13828273.dem|16         |0       |1                |\n",
      "|esea_match_13828815.dem|1          |1       |1                |\n",
      "|esea_match_13828815.dem|16         |0       |1                |\n",
      "|esea_match_13827054.dem|1          |1       |1                |\n",
      "|esea_match_13827054.dem|16         |1       |1                |\n",
      "|esea_match_13827172.dem|1          |1       |1                |\n",
      "|esea_match_13827172.dem|16         |1       |1                |\n",
      "|esea_match_13827779.dem|1          |1       |1                |\n",
      "|esea_match_13827779.dem|16         |1       |1                |\n",
      "|esea_match_13827917.dem|1          |0       |1                |\n",
      "|esea_match_13827917.dem|16         |1       |1                |\n",
      "|esea_match_13828136.dem|1          |1       |1                |\n",
      "+-----------------------+-----------+--------+-----------------+\n",
      "\n"
     ]
    }
   ],
   "source": [
    "# now restructure data to have one row per half start with data on if winning team won both\n",
    "win_both = spark.sql(\n",
    "    \"\"\"SELECT\n",
    "        round_winners.file,\n",
    "        round_winners.round1 AS start_round,\n",
    "        IF(round_winners.r1_winner = round_winners.r2_winner, 1, 0) AS win_both,\n",
    "        round_winners.r1_winners_buy_up\n",
    "    FROM\n",
    "        (\n",
    "            SELECT\n",
    "                r1.file,\n",
    "                r1.round AS round1,\n",
    "                r1.winner_team AS r1_winner,\n",
    "                r2.round AS round2,\n",
    "                r2.winner_team AS r2_winner,\n",
    "                IF(IF(r1.winner_side = 'Terrorist', r2.t_eq_val, r2.ct_eq_val) > 7000, 1, 0) AS r1_winners_buy_up\n",
    "            FROM\n",
    "                meta_table AS r1\n",
    "            INNER JOIN\n",
    "                meta_table AS r2 ON r1.file = r2.file\n",
    "            WHERE\n",
    "                (r1.round = 1 AND r2.round = 2)\n",
    "                OR (r1.round = 16 AND r2.round = 17)\n",
    "        ) AS round_winners\n",
    "    LIMIT 20\"\"\")\n",
    "win_both.show(truncate=False)"
   ]
  },
  {
   "cell_type": "markdown",
   "id": "b46bb6cb",
   "metadata": {},
   "source": [
    "Now that we have our data set up, we will consider the two cases:\n",
    "- **Case 1:** round 1 winners save\n",
    "- **Case 2:** round 1 winners buy up\n",
    "\n",
    "We should expect to see a close to 50% win rate for case 1 and a well over 50% win rate for case 2.<br>\n",
    "Let's plot."
   ]
  },
  {
   "cell_type": "code",
   "execution_count": 49,
   "id": "d54a49a6",
   "metadata": {},
   "outputs": [],
   "source": [
    "# case 1: winners save query\n",
    "case_1 = spark.sql(\n",
    "    \"\"\"SELECT\n",
    "        \"winners_save\",\n",
    "        SUM(case_1.win_both) / COUNT(*) * 100 AS win_percentage\n",
    "    FROM\n",
    "        (\n",
    "            SELECT\n",
    "                round_winners.file,\n",
    "                round_winners.round1 AS start_round,\n",
    "                IF(round_winners.r1_winner = round_winners.r2_winner, 1, 0) AS win_both\n",
    "            FROM\n",
    "                (\n",
    "                    SELECT\n",
    "                        r1.file,\n",
    "                        r1.round AS round1,\n",
    "                        r1.winner_team AS r1_winner,\n",
    "                        r2.round AS round2,\n",
    "                        r2.winner_team AS r2_winner,\n",
    "                        IF(IF(r1.winner_side = 'Terrorist', r2.t_eq_val, r2.ct_eq_val) > 7000, 1, 0) AS r1_winners_buy_up\n",
    "                    FROM\n",
    "                        meta_table AS r1\n",
    "                    INNER JOIN\n",
    "                        meta_table AS r2 ON r1.file = r2.file\n",
    "                    WHERE\n",
    "                        (r1.round = 1 AND r2.round = 2)\n",
    "                        OR (r1.round = 16 AND r2.round = 17)\n",
    "                ) AS round_winners\n",
    "            WHERE\n",
    "                round_winners.r1_winners_buy_up = 0\n",
    "        ) AS case_1\"\"\")\n",
    "\n",
    "# case 2: winners buy up query\n",
    "case_2 = spark.sql(\n",
    "    \"\"\"SELECT\n",
    "        \"winners_buy\",\n",
    "        SUM(case_2.win_both) / COUNT(*) * 100 AS win_percentage\n",
    "    FROM\n",
    "        (\n",
    "            SELECT\n",
    "                round_winners.file,\n",
    "                round_winners.round1 AS start_round,\n",
    "                IF(round_winners.r1_winner = round_winners.r2_winner, 1, 0) AS win_both\n",
    "            FROM\n",
    "                (\n",
    "                    SELECT\n",
    "                        r1.file,\n",
    "                        r1.round AS round1,\n",
    "                        r1.winner_team AS r1_winner,\n",
    "                        r2.round AS round2,\n",
    "                        r2.winner_team AS r2_winner,\n",
    "                        IF(IF(r1.winner_side = 'Terrorist', r2.t_eq_val, r2.ct_eq_val) > 7000, 1, 0) AS r1_winners_buy_up\n",
    "                    FROM\n",
    "                        meta_table AS r1\n",
    "                    INNER JOIN\n",
    "                        meta_table AS r2 ON r1.file = r2.file\n",
    "                    WHERE\n",
    "                        (r1.round = 1 AND r2.round = 2)\n",
    "                        OR (r1.round = 16 AND r2.round = 17)\n",
    "                ) AS round_winners\n",
    "            WHERE\n",
    "                round_winners.r1_winners_buy_up = 1\n",
    "        ) AS case_2\"\"\")"
   ]
  },
  {
   "cell_type": "code",
   "execution_count": 50,
   "id": "b715b974",
   "metadata": {},
   "outputs": [
    {
     "data": {
      "image/png": "[encoded data removed]",
      "text/plain": [
       "<Figure size 800x500 with 2 Axes>"
      ]
     },
     "metadata": {},
     "output_type": "display_data"
    }
   ],
   "source": [
    "# create pie charts for both cases to compare\n",
    "case_1_pd = case_1.toPandas()\n",
    "case_2_pd = case_2.toPandas()\n",
    "\n",
    "fig, axs = plt.subplots(1, 2, figsize=(8, 5))\n",
    "labels = [\"win 2nd round\", \"lose 2nd round\"]\n",
    "colors = ['#C3EFC3', '#FF7377']\n",
    "\n",
    "# pie chart for case 1\n",
    "win_percentage = case_1_pd.iloc[0,1]\n",
    "wedges = [win_percentage, 100 - win_percentage]\n",
    "\n",
    "axs[0].set_title(\"Winning Team Saves\")\n",
    "axs[0].pie(wedges, labels=labels, colors=colors, autopct='%1.1f%%')\n",
    "\n",
    "# pie chart for case 2\n",
    "win_percentage = case_2_pd.iloc[0,1]\n",
    "wedges = [win_percentage, 100 - win_percentage]\n",
    "\n",
    "axs[1].set_title(\"Winning Team Buys Up\")\n",
    "axs[1].pie(wedges, labels=labels, colors=colors, autopct='%1.1f%%')\n",
    "\n",
    "\n",
    "# display the plot\n",
    "plt.tight_layout()\n",
    "plt.show()"
   ]
  },
  {
   "cell_type": "markdown",
   "id": "814ba2f8",
   "metadata": {},
   "source": [
    "Case 2 is as expected. When the team that won round 1 bought up, they won 77.7% of the time!<br>\n",
    "Case 1, however, is a bit unexpected. When the winning team saved, they still won 65% of the time. Even though this is less than if they were to buy up, I would've expected it to be a bit closer to 50%. Let's take a closer look at the data."
   ]
  },
  {
   "cell_type": "code",
   "execution_count": 51,
   "id": "62a3379c",
   "metadata": {},
   "outputs": [
    {
     "name": "stderr",
     "output_type": "stream",
     "text": [
      "\r",
      "[Stage 213:=============>   (7 + 2) / 9][Stage 214:=======>         (4 + 5) / 9]\r",
      "\r",
      "                                                                                \r"
     ]
    },
    {
     "name": "stdout",
     "output_type": "stream",
     "text": [
      "+------------+----+-----+\n",
      "|      case_1|wins|total|\n",
      "+------------+----+-----+\n",
      "|winners save|  26|   40|\n",
      "+------------+----+-----+\n",
      "\n",
      "+-----------+-----+-----+\n",
      "|     case_2| wins|total|\n",
      "+-----------+-----+-----+\n",
      "|winners buy|20814|26776|\n",
      "+-----------+-----+-----+\n",
      "\n"
     ]
    }
   ],
   "source": [
    "# case 1 query and results\n",
    "case_1_val = spark.sql(\n",
    "    \"\"\"SELECT\n",
    "        \"winners save\" AS case_1,\n",
    "        SUM(case_1.win_both) AS wins,\n",
    "        COUNT(*) AS total\n",
    "    FROM\n",
    "        (\n",
    "            SELECT\n",
    "                round_winners.file,\n",
    "                round_winners.round1 AS start_round,\n",
    "                IF(round_winners.r1_winner = round_winners.r2_winner, 1, 0) AS win_both\n",
    "            FROM\n",
    "                (\n",
    "                    SELECT\n",
    "                        r1.file,\n",
    "                        r1.round AS round1,\n",
    "                        r1.winner_team AS r1_winner,\n",
    "                        r2.round AS round2,\n",
    "                        r2.winner_team AS r2_winner,\n",
    "                        IF(IF(r1.winner_side = 'Terrorist', r2.t_eq_val, r2.ct_eq_val) > 7000, 1, 0) AS r1_winners_buy_up\n",
    "                    FROM\n",
    "                        meta_table AS r1\n",
    "                    INNER JOIN\n",
    "                        meta_table AS r2 ON r1.file = r2.file\n",
    "                    WHERE\n",
    "                        (r1.round = 1 AND r2.round = 2)\n",
    "                        OR (r1.round = 16 AND r2.round = 17)\n",
    "                ) AS round_winners\n",
    "            WHERE\n",
    "                round_winners.r1_winners_buy_up = 0\n",
    "        ) AS case_1\"\"\")\n",
    "\n",
    "# case 2 query and results\n",
    "case_2_val = spark.sql(\n",
    "    \"\"\"SELECT\n",
    "        \"winners buy\" AS case_2,\n",
    "        SUM(case_2.win_both) AS wins,\n",
    "        COUNT(*) AS total\n",
    "    FROM\n",
    "        (\n",
    "            SELECT\n",
    "                round_winners.file,\n",
    "                round_winners.round1 AS start_round,\n",
    "                IF(round_winners.r1_winner = round_winners.r2_winner, 1, 0) AS win_both\n",
    "            FROM\n",
    "                (\n",
    "                    SELECT\n",
    "                        r1.file,\n",
    "                        r1.round AS round1,\n",
    "                        r1.winner_team AS r1_winner,\n",
    "                        r2.round AS round2,\n",
    "                        r2.winner_team AS r2_winner,\n",
    "                        IF(IF(r1.winner_side = 'Terrorist', r2.t_eq_val, r2.ct_eq_val) > 7000, 1, 0) AS r1_winners_buy_up\n",
    "                    FROM\n",
    "                        meta_table AS r1\n",
    "                    INNER JOIN\n",
    "                        meta_table AS r2 ON r1.file = r2.file\n",
    "                    WHERE\n",
    "                        (r1.round = 1 AND r2.round = 2)\n",
    "                        OR (r1.round = 16 AND r2.round = 17)\n",
    "                ) AS round_winners\n",
    "            WHERE\n",
    "                round_winners.r1_winners_buy_up = 1\n",
    "        ) AS case_2\"\"\")\n",
    "\n",
    "# show results for both cases to compare\n",
    "case_1_val.show()\n",
    "case_2_val.show()"
   ]
  },
  {
   "cell_type": "markdown",
   "id": "4cff8204",
   "metadata": {},
   "source": [
    "Okay, this makes a lot more sense. The amount of teams that save after a pistol round win is extremely tiny compared to the amount of teams that buy up. This tells us two things. First, that teams are indeed buying up after they win (as they should). This is exactly the behavior that is seen in valorant! Second, the high win percentage for winning teams that saved can be blamed on the small sample size.\n",
    "\n",
    "Now, we will take a look at the third round. To simplify the analysis, we will only consider teams that followed the correct protocol (the winning team bought up) and won the second round. This way, we can eliminate unexpected round 3 behavior.\n",
    "\n",
    "Again, we have two cases.\n",
    "- **Case 3:** winning team buys full loadout\n",
    "- **Case 4:** winning team buys minimal guns/utility\n",
    "\n",
    "For case 3, we expect a close to 50% win rate (but should still be lower than 50%), while case 4 we expect a way below 50% win rate. As per valorant protocol, the winning team should not buy full loadouts and take the L for the round. This is done to help the winning team's economy in the long run. To buy a full loadout means that teammates throw away their mid tier guns for more expensive guns. This is unnecessary because if they lose this round they will be in a lot of trouble when round 4 comes around. Round 4, in valorant, is considered the first \"real\" round as it's when both teams should have full loadouts. Let's see if this is the case here.\n",
    "\n",
    "We will say that the winning team has bought up if they have more than 2 rifles on their team. It is normal for 1 or 2 of the players that died previously to buy up so that the team may have 1 or 2 rifles on their side (at least in valorant). This is known as a half buy.\n",
    "\n",
    "As per https://www.hotspawn.com/csgo/guides/understanding-economy-in-csgo,\n",
    "> 3750 is the minimum amount needed for an M4 and armor with no helmet as a CT. Head armor is not always needed during a gun round because Ak-47’s already kill with a single headshot.<br>4100 is the amount needed for full armor and a rifle as a CT.\n",
    "\n",
    "As per https://esportsedition.com/csgo/noobs-guide-to-buying-items,\n",
    "> A half buy round is typical when some players on a team have enough money for a full buy but others don’t quite have the funds. Counter-Terrorists can spend anywhere from 3750-4950, while it will cost Terrorists around 3700-4500.<br>\n",
    ">\\[A full buy\\] will cost anywhere between 5000-5600 for Terrorists, and 5850-6200 for Counter-Terrorists.\n",
    "\n",
    "To simplify definitions, we will say that the winning team has bought up if their equipment value surpasses 3750 * 3 + 4100 * 2 = 19,450. In other words, to say that the winning team did not buy up means that they can have 3 teammates with a \"half buy\" (guns saved from the previous round where they bought up) and at most 2 teammates with an almost \"full buy\" (rifle and full armor). Of course, this isn't a perfect definition, but it should be okay for these purposes."
   ]
  },
  {
   "cell_type": "code",
   "execution_count": 52,
   "id": "9f512a20",
   "metadata": {},
   "outputs": [
    {
     "name": "stderr",
     "output_type": "stream",
     "text": [
      "\r",
      "[Stage 231:=> (3 + 6) / 9][Stage 232:==>(6 + 3) / 9][Stage 233:==>(7 + 2) / 9]\r",
      "\r",
      "                                                                                \r"
     ]
    },
    {
     "name": "stdout",
     "output_type": "stream",
     "text": [
      "+-----------------------+-----------+------------+---------+----------------+---------------+\n",
      "|file                   |start_round|winning_team|r3_winner|winners_full_buy|losers_full_buy|\n",
      "+-----------------------+-----------+------------+---------+----------------+---------------+\n",
      "|esea_match_13818439.dem|16         |Team 2      |Team 1   |0               |1              |\n",
      "|esea_match_13818573.dem|1          |Team 2      |Team 2   |1               |0              |\n",
      "|esea_match_13818573.dem|16         |Team 2      |Team 1   |1               |1              |\n",
      "|esea_match_13818924.dem|1          |Team 1      |Team 1   |1               |1              |\n",
      "|esea_match_13819453.dem|16         |Team 1      |Team 1   |1               |0              |\n",
      "|esea_match_13819553.dem|1          |Team 2      |Team 2   |0               |0              |\n",
      "|esea_match_13819553.dem|16         |Team 2      |Team 1   |0               |1              |\n",
      "|esea_match_13819862.dem|1          |Team 2      |Team 2   |0               |0              |\n",
      "|esea_match_13819862.dem|16         |Team 1      |Team 1   |1               |0              |\n",
      "|esea_match_13820358.dem|1          |Team 1      |Team 1   |1               |0              |\n",
      "|esea_match_13820808.dem|1          |Team 2      |Team 2   |0               |0              |\n",
      "|esea_match_13820808.dem|16         |Team 2      |Team 2   |0               |0              |\n",
      "|esea_match_13820964.dem|1          |Team 2      |Team 2   |0               |0              |\n",
      "|esea_match_13820964.dem|16         |Team 2      |Team 2   |0               |0              |\n",
      "|esea_match_13820968.dem|1          |Team 1      |Team 1   |1               |0              |\n",
      "|esea_match_13820968.dem|16         |Team 2      |Team 2   |1               |0              |\n",
      "|esea_match_13820984.dem|1          |Team 2      |Team 1   |0               |1              |\n",
      "|esea_match_13820984.dem|16         |Team 1      |Team 1   |0               |0              |\n",
      "|esea_match_13821028.dem|1          |Team 2      |Team 2   |0               |0              |\n",
      "|esea_match_13821028.dem|16         |Team 1      |Team 1   |1               |0              |\n",
      "+-----------------------+-----------+------------+---------+----------------+---------------+\n",
      "\n"
     ]
    }
   ],
   "source": [
    "# check out the target rounds\n",
    "target_rounds = spark.sql(\n",
    "    \"\"\"SELECT\n",
    "        round_winners.file,\n",
    "        round_winners.round1 AS start_round,\n",
    "        round_winners.r2_winner AS winning_team,\n",
    "        round_winners.r3_winner AS r3_winner,\n",
    "        IF(IF(round_winners.r3_winner_side = 'Terrorist', round_winners.r3_t_value, round_winners.r3_ct_value) > 19450, 1, 0) AS winners_full_buy,\n",
    "        IF(IF(round_winners.r3_winner_side = 'Terrorist', round_winners.r3_ct_value, round_winners.r3_t_value) > 19450, 1, 0) AS losers_full_buy\n",
    "    FROM\n",
    "        (\n",
    "            SELECT\n",
    "                r1.file,\n",
    "                r1.round AS round1,\n",
    "                r1.winner_team AS r1_winner,\n",
    "                r2.round AS round2,\n",
    "                r2.winner_team AS r2_winner,\n",
    "                IF(IF(r1.winner_side = 'Terrorist', r2.t_eq_val, r2.ct_eq_val) > 7000, 1, 0) AS r1_winners_buy_up,\n",
    "                r3.winner_team AS r3_winner,\n",
    "                r3.winner_side AS r3_winner_side,\n",
    "                r3.t_eq_val AS r3_t_value,\n",
    "                r3.ct_eq_val AS r3_ct_value\n",
    "            FROM\n",
    "                meta_table AS r1\n",
    "            INNER JOIN\n",
    "                meta_table AS r2 ON r1.file = r2.file\n",
    "            INNER JOIN\n",
    "                meta_table AS r3 ON r2.file = r3.file\n",
    "            WHERE\n",
    "                (r1.round = 1 AND r2.round = 2 AND r3.round = 3)\n",
    "                OR (r1.round = 16 AND r2.round = 17 AND r3.round = 18)\n",
    "        ) AS round_winners\n",
    "    WHERE\n",
    "        round_winners.r1_winners_buy_up = 1\n",
    "        AND IF(round_winners.r1_winner = round_winners.r2_winner, 1, 0) = 1\n",
    "    LIMIT 20\"\"\")\n",
    "target_rounds.show(truncate=False)"
   ]
  },
  {
   "cell_type": "markdown",
   "id": "48322358",
   "metadata": {},
   "source": [
    "We don't see as many of the winning teams losing the third round as we would expect, so let's take a look at the data more closely."
   ]
  },
  {
   "cell_type": "code",
   "execution_count": 53,
   "id": "9ff334f1",
   "metadata": {
    "scrolled": false
   },
   "outputs": [
    {
     "name": "stderr",
     "output_type": "stream",
     "text": [
      "                                                                                \r"
     ]
    },
    {
     "name": "stdout",
     "output_type": "stream",
     "text": [
      "+-----------------------+------+---------+------+---------+-----------------+---------+\n",
      "|file                   |round1|r1_winner|round2|r2_winner|r1_winners_buy_up|r3_winner|\n",
      "+-----------------------+------+---------+------+---------+-----------------+---------+\n",
      "|esea_match_13824556.dem|16    |Team 2   |17    |Team 2   |1                |Team 2   |\n",
      "|esea_match_13826571.dem|1     |Team 1   |2     |Team 1   |1                |Team 1   |\n",
      "|esea_match_13826571.dem|16    |Team 1   |17    |Team 1   |1                |Team 2   |\n",
      "+-----------------------+------+---------+------+---------+-----------------+---------+\n",
      "\n",
      "+-----------------------+-----+-----------+----------------+--------+---------+\n",
      "|file                   |round|winner_team|winner_side     |t_eq_val|ct_eq_val|\n",
      "+-----------------------+-----+-----------+----------------+--------+---------+\n",
      "|esea_match_13824556.dem|1    |Team 2     |Terrorist       |3650    |4300     |\n",
      "|esea_match_13824556.dem|2    |Team 1     |CounterTerrorist|12700   |5200     |\n",
      "|esea_match_13824556.dem|3    |Team 1     |CounterTerrorist|8550    |19450    |\n",
      "|esea_match_13824556.dem|16   |Team 2     |CounterTerrorist|4250    |3550     |\n",
      "|esea_match_13824556.dem|17   |Team 2     |CounterTerrorist|3850    |17400    |\n",
      "|esea_match_13824556.dem|18   |Team 2     |CounterTerrorist|6900    |17700    |\n",
      "|esea_match_13826571.dem|1    |Team 1     |CounterTerrorist|2300    |4400     |\n",
      "|esea_match_13826571.dem|2    |Team 1     |CounterTerrorist|5650    |15500    |\n",
      "|esea_match_13826571.dem|3    |Team 1     |CounterTerrorist|1200    |24250    |\n",
      "|esea_match_13826571.dem|16   |Team 1     |Terrorist       |17450   |5950     |\n",
      "|esea_match_13826571.dem|17   |Team 1     |Terrorist       |21800   |1000     |\n",
      "|esea_match_13826571.dem|18   |Team 2     |CounterTerrorist|25100   |20900    |\n",
      "+-----------------------+-----+-----------+----------------+--------+---------+\n",
      "\n"
     ]
    }
   ],
   "source": [
    "# look at examples: esea_match_13824556.dem and esea_match_13826571.dem\n",
    "target_val1 = spark.sql(\n",
    "    \"\"\"SELECT\n",
    "        r1.file,\n",
    "        r1.round AS round1,\n",
    "        r1.winner_team AS r1_winner,\n",
    "        r2.round AS round2,\n",
    "        r2.winner_team AS r2_winner,\n",
    "        IF(IF(r1.winner_side = 'Terrorist', r2.t_eq_val, r2.ct_eq_val) > 7000, 1, 0) AS r1_winners_buy_up,\n",
    "        r3.winner_team AS r3_winner\n",
    "    FROM\n",
    "        meta_table AS r1\n",
    "    INNER JOIN\n",
    "        meta_table AS r2 ON r1.file = r2.file\n",
    "    INNER JOIN\n",
    "        meta_table AS r3 ON r2.file = r3.file\n",
    "    WHERE\n",
    "        (r1.file = 'esea_match_13824556.dem' OR r1.file = 'esea_match_13826571.dem')\n",
    "        AND ((r1.round = 1 AND r2.round = 2 AND r3.round = 3)\n",
    "            OR (r1.round = 16 AND r2.round = 17 AND r3.round = 18))\n",
    "        AND IF(IF(r1.winner_side = 'Terrorist', r2.t_eq_val, r2.ct_eq_val) > 7000, 1, 0) = 1\n",
    "        AND IF(r1.winner_team = r2.winner_team, 1, 0) = 1\"\"\")\n",
    "target_val1.show(truncate=False)\n",
    "\n",
    "target_val2 = spark.sql(\n",
    "    \"\"\"SELECT\n",
    "        file,\n",
    "        round,\n",
    "        winner_team,\n",
    "        winner_side,\n",
    "        t_eq_val,\n",
    "        ct_eq_val\n",
    "    FROM\n",
    "        meta_table\n",
    "    WHERE\n",
    "        (file = 'esea_match_13824556.dem' OR file = 'esea_match_13826571.dem')\n",
    "        AND (round = 1 OR round = 2 OR round = 3 OR round = 16 OR round = 17 OR round = 18)\"\"\")\n",
    "target_val2.show(truncate=False)"
   ]
  },
  {
   "cell_type": "markdown",
   "id": "7daa0733",
   "metadata": {},
   "source": [
    "The query checks out. It looks like the weirdness is because the losing team isn't fully buying up in the third round like in valorant. So maybe econ is handled differently. The last row shows expected behavior. Let's make some graphs."
   ]
  },
  {
   "cell_type": "code",
   "execution_count": 54,
   "id": "e162a3e7",
   "metadata": {},
   "outputs": [],
   "source": [
    "case_3 = spark.sql(\n",
    "    \"\"\"SELECT\n",
    "        \"winners_full_buy\",\n",
    "        SUM(case_3.winners_win) / COUNT(*) * 100 AS win_percentage\n",
    "    FROM\n",
    "        (\n",
    "            SELECT\n",
    "                IF(target.winning_team = target.r3_winner, 1, 0) AS winners_win\n",
    "            FROM\n",
    "                (\n",
    "                    SELECT\n",
    "                        round_winners.file,\n",
    "                        round_winners.round1 AS start_round,\n",
    "                        round_winners.r2_winner AS winning_team,\n",
    "                        round_winners.r3_winner AS r3_winner,\n",
    "                        IF(IF(round_winners.r3_winner_side = 'Terrorist', round_winners.r3_t_value, round_winners.r3_ct_value) > 19450, 1, 0) AS winners_full_buy,\n",
    "                        IF(IF(round_winners.r3_winner_side = 'Terrorist', round_winners.r3_ct_value, round_winners.r3_t_value) > 19450, 1, 0) AS losers_full_buy\n",
    "                    FROM\n",
    "                        (\n",
    "                            SELECT\n",
    "                                r1.file,\n",
    "                                r1.round AS round1,\n",
    "                                r1.winner_team AS r1_winner,\n",
    "                                r2.round AS round2,\n",
    "                                r2.winner_team AS r2_winner,\n",
    "                                IF(IF(r1.winner_side = 'Terrorist', r2.t_eq_val, r2.ct_eq_val) > 7000, 1, 0) AS r1_winners_buy_up,\n",
    "                                r3.winner_team AS r3_winner,\n",
    "                                r3.winner_side AS r3_winner_side,\n",
    "                                r3.t_eq_val AS r3_t_value,\n",
    "                                r3.ct_eq_val AS r3_ct_value\n",
    "                            FROM\n",
    "                                meta_table AS r1\n",
    "                            INNER JOIN\n",
    "                                meta_table AS r2 ON r1.file = r2.file\n",
    "                            INNER JOIN\n",
    "                                meta_table AS r3 ON r2.file = r3.file\n",
    "                            WHERE\n",
    "                                (r1.round = 1 AND r2.round = 2 AND r3.round = 3)\n",
    "                                OR (r1.round = 16 AND r2.round = 17 AND r3.round = 18)\n",
    "                        ) AS round_winners\n",
    "                    WHERE\n",
    "                        round_winners.r1_winners_buy_up = 1\n",
    "                        AND IF(round_winners.r1_winner = round_winners.r2_winner, 1, 0) = 1\n",
    "                        AND IF(IF(round_winners.r3_winner_side = 'Terrorist', round_winners.r3_t_value, round_winners.r3_ct_value) > 19450, 1, 0) = 1\n",
    "                ) AS target\n",
    "        ) case_3\"\"\")\n",
    "\n",
    "\n",
    "case_4 = spark.sql(\n",
    "    \"\"\"SELECT\n",
    "        \"winners_bonus\",\n",
    "        SUM(case_4.winners_win) / COUNT(*) * 100 AS win_percentage\n",
    "    FROM\n",
    "        (\n",
    "            SELECT\n",
    "                IF(target.winning_team = target.r3_winner, 1, 0) AS winners_win\n",
    "            FROM\n",
    "                (\n",
    "                    SELECT\n",
    "                        round_winners.file,\n",
    "                        round_winners.round1 AS start_round,\n",
    "                        round_winners.r2_winner AS winning_team,\n",
    "                        round_winners.r3_winner AS r3_winner,\n",
    "                        IF(IF(round_winners.r3_winner_side = 'Terrorist', round_winners.r3_t_value, round_winners.r3_ct_value) > 19450, 1, 0) AS winners_full_buy,\n",
    "                        IF(IF(round_winners.r3_winner_side = 'Terrorist', round_winners.r3_ct_value, round_winners.r3_t_value) > 19450, 1, 0) AS losers_full_buy\n",
    "                    FROM\n",
    "                        (\n",
    "                            SELECT\n",
    "                                r1.file,\n",
    "                                r1.round AS round1,\n",
    "                                r1.winner_team AS r1_winner,\n",
    "                                r2.round AS round2,\n",
    "                                r2.winner_team AS r2_winner,\n",
    "                                IF(IF(r1.winner_side = 'Terrorist', r2.t_eq_val, r2.ct_eq_val) > 7000, 1, 0) AS r1_winners_buy_up,\n",
    "                                r3.winner_team AS r3_winner,\n",
    "                                r3.winner_side AS r3_winner_side,\n",
    "                                r3.t_eq_val AS r3_t_value,\n",
    "                                r3.ct_eq_val AS r3_ct_value\n",
    "                            FROM\n",
    "                                meta_table AS r1\n",
    "                            INNER JOIN\n",
    "                                meta_table AS r2 ON r1.file = r2.file\n",
    "                            INNER JOIN\n",
    "                                meta_table AS r3 ON r2.file = r3.file\n",
    "                            WHERE\n",
    "                                (r1.round = 1 AND r2.round = 2 AND r3.round = 3)\n",
    "                                OR (r1.round = 16 AND r2.round = 17 AND r3.round = 18)\n",
    "                        ) AS round_winners\n",
    "                    WHERE\n",
    "                        round_winners.r1_winners_buy_up = 1\n",
    "                        AND IF(round_winners.r1_winner = round_winners.r2_winner, 1, 0) = 1\n",
    "                        AND IF(IF(round_winners.r3_winner_side = 'Terrorist', round_winners.r3_t_value, round_winners.r3_ct_value) > 19450, 1, 0) = 0\n",
    "                ) AS target\n",
    "        ) case_4\"\"\")"
   ]
  },
  {
   "cell_type": "code",
   "execution_count": 55,
   "id": "31af943a",
   "metadata": {},
   "outputs": [
    {
     "name": "stderr",
     "output_type": "stream",
     "text": [
      "                                                                                \r"
     ]
    },
    {
     "data": {
      "image/png": "[encoded data removed]",
      "text/plain": [
       "<Figure size 800x500 with 2 Axes>"
      ]
     },
     "metadata": {},
     "output_type": "display_data"
    }
   ],
   "source": [
    "# create pie charts for both cases to compare\n",
    "case_3_pd = case_3.toPandas()\n",
    "case_4_pd = case_4.toPandas()\n",
    "\n",
    "fig, axs = plt.subplots(1, 2, figsize=(8, 5))\n",
    "labels = [\"win 3rd round\", \"lose 3rd round\"]\n",
    "colors = ['#C3EFC3', '#FF7377']\n",
    "\n",
    "# pie chart for case 3\n",
    "win_percentage = case_3_pd.iloc[0,1]\n",
    "wedges = [win_percentage, 100 - win_percentage]\n",
    "\n",
    "axs[0].set_title(\"Winning Team Full Buys\")\n",
    "axs[0].pie(wedges, labels=labels, colors=colors, autopct='%1.1f%%')\n",
    "\n",
    "# pie chart for case 4\n",
    "win_percentage = case_4_pd.iloc[0,1]\n",
    "wedges = [win_percentage, 100 - win_percentage]\n",
    "\n",
    "axs[1].set_title(\"Winning Team Half Buys\")\n",
    "axs[1].pie(wedges, labels=labels, colors=colors, autopct='%1.1f%%')\n",
    "\n",
    "# display the plot\n",
    "plt.tight_layout()\n",
    "plt.show()"
   ]
  },
  {
   "cell_type": "markdown",
   "id": "b5d7984b",
   "metadata": {},
   "source": [
    "These results were not expected at all. But I suspect it's because of the way the losing team is buying (we caught a glimpse of this earlier when looking at the table data). It seems that they do not have enough money in the 3rd round to full buy. This could mean that the losing team isn't saving in their second round, which is not expected behavior (at least for valorant) or maybe they are just not given enough money each round they lose (as compared to valorant). Either way, let's confirm that the reason the results are unexpected is because the losing team is not full buying in the third round (for whatever reason). We will simply pull the percentage of full buys."
   ]
  },
  {
   "cell_type": "code",
   "execution_count": 56,
   "id": "93745b55",
   "metadata": {},
   "outputs": [
    {
     "name": "stderr",
     "output_type": "stream",
     "text": [
      "                                                                                \r"
     ]
    },
    {
     "name": "stdout",
     "output_type": "stream",
     "text": [
      "+---------------+--------------------------+\n",
      "|losers_full_buy|losers_full_buy_percentage|\n",
      "+---------------+--------------------------+\n",
      "|losers_full_buy|         21.52440209994167|\n",
      "+---------------+--------------------------+\n",
      "\n"
     ]
    }
   ],
   "source": [
    "losers_buy = spark.sql(\n",
    "    \"\"\"SELECT\n",
    "        \"losers_full_buy\",\n",
    "        SUM(target.losers_full_buy) / COUNT(*) * 100 AS losers_full_buy_percentage\n",
    "    FROM\n",
    "        (\n",
    "            SELECT\n",
    "                round_winners.file,\n",
    "                round_winners.round1 AS start_round,\n",
    "                IF(IF(round_winners.r3_winner_side = 'Terrorist', round_winners.r3_ct_value, round_winners.r3_t_value) > 19450, 1, 0) AS losers_full_buy\n",
    "            FROM\n",
    "                (\n",
    "                    SELECT\n",
    "                        r1.file,\n",
    "                        r1.round AS round1,\n",
    "                        r1.winner_team AS r1_winner,\n",
    "                        r2.winner_team AS r2_winner,\n",
    "                        IF(IF(r1.winner_side = 'Terrorist', r2.t_eq_val, r2.ct_eq_val) > 7000, 1, 0) AS r1_winners_buy_up,\n",
    "                        r3.winner_team AS r3_winner,\n",
    "                        r3.winner_side AS r3_winner_side,\n",
    "                        r3.t_eq_val AS r3_t_value,\n",
    "                        r3.ct_eq_val AS r3_ct_value\n",
    "                    FROM\n",
    "                        meta_table AS r1\n",
    "                    INNER JOIN\n",
    "                        meta_table AS r2 ON r1.file = r2.file\n",
    "                    INNER JOIN\n",
    "                        meta_table AS r3 ON r2.file = r3.file\n",
    "                    WHERE\n",
    "                        (r1.round = 1 AND r2.round = 2 AND r3.round = 3)\n",
    "                        OR (r1.round = 16 AND r2.round = 17 AND r3.round = 18)\n",
    "                ) AS round_winners\n",
    "            WHERE\n",
    "                round_winners.r1_winners_buy_up = 1\n",
    "                AND IF(round_winners.r1_winner = round_winners.r2_winner, 1, 0) = 1\n",
    "        ) AS target\"\"\")\n",
    "\n",
    "losers_buy.show()"
   ]
  },
  {
   "cell_type": "markdown",
   "id": "9299d543",
   "metadata": {},
   "source": [
    "Yep, interestingly enough, losers are unable to full buy their third round. This is unlike valorant where the team that lost the first two rounds will almost always be able to full buy the third round since they saved the second round. This does not seem to be the same for CS:GO, thus, we can conclude that the econ meta between the two games differs. Which makes sense now that I think about it because CS:GO has 15 round halves while valorant has 12 round halves, so the awards in valorant might be a bit higher. Also, CS:GO econ seems more complex in general.\n",
    "\n",
    "---\n",
    "\n",
    "## Does First Blood Matter? <a name=\"firstblood\"></a>\n",
    "\n",
    "Let's now see if first blood helps the terrorist players while not doing much for the counter terrorist players. We will use the `esea_master_kills_demos` data to figure out which team obtained the first blood in each round. We will then cross reference this with the `esea_meta_demos` data to see which team ended up winning the round.\n",
    "\n",
    "Note that since we are using the kills data, the rounds that are replayed may add some inaccurate entries (ex: team A gets the first kill, but the round is replayed and team B gets the next first kill and then the round win). But without analyzing each round individually, it is hard to determine if a round has actually been replayed."
   ]
  },
  {
   "cell_type": "code",
   "execution_count": 57,
   "id": "6a8ee947",
   "metadata": {},
   "outputs": [
    {
     "name": "stderr",
     "output_type": "stream",
     "text": [
      "[Stage 294:=======================================>               (10 + 2) / 14]\r"
     ]
    },
    {
     "name": "stdout",
     "output_type": "stream",
     "text": [
      "+-----------------------+-----+----------------+----------------+-------------+------------+----------------+\n",
      "|file                   |round|max(att_team)   |max(att_side)   |max(ct_alive)|max(t_alive)|max(winner_side)|\n",
      "+-----------------------+-----+----------------+----------------+-------------+------------+----------------+\n",
      "|esea_match_13770997.dem|1    |Animal Style    |CounterTerrorist|5            |4           |Terrorist       |\n",
      "|esea_match_13770997.dem|2    |Hentai Hooligans|Terrorist       |4            |5           |Terrorist       |\n",
      "|esea_match_13770997.dem|3    |Animal Style    |CounterTerrorist|5            |4           |Terrorist       |\n",
      "|esea_match_13770997.dem|4    |Animal Style    |CounterTerrorist|5            |4           |Terrorist       |\n",
      "|esea_match_13770997.dem|5    |Hentai Hooligans|Terrorist       |4            |5           |CounterTerrorist|\n",
      "|esea_match_13770997.dem|6    |Hentai Hooligans|Terrorist       |4            |5           |Terrorist       |\n",
      "|esea_match_13770997.dem|7    |Animal Style    |CounterTerrorist|5            |4           |Terrorist       |\n",
      "|esea_match_13770997.dem|8    |Hentai Hooligans|Terrorist       |4            |5           |CounterTerrorist|\n",
      "|esea_match_13770997.dem|9    |Hentai Hooligans|Terrorist       |4            |5           |CounterTerrorist|\n",
      "|esea_match_13770997.dem|10   |Hentai Hooligans|Terrorist       |4            |5           |CounterTerrorist|\n",
      "|esea_match_13770997.dem|11   |Hentai Hooligans|Terrorist       |4            |5           |CounterTerrorist|\n",
      "|esea_match_13770997.dem|12   |Animal Style    |CounterTerrorist|5            |4           |CounterTerrorist|\n",
      "|esea_match_13770997.dem|13   |Animal Style    |CounterTerrorist|5            |4           |CounterTerrorist|\n",
      "|esea_match_13770997.dem|14   |Animal Style    |CounterTerrorist|5            |4           |Terrorist       |\n",
      "|esea_match_13770997.dem|15   |Hentai Hooligans|Terrorist       |4            |5           |CounterTerrorist|\n",
      "|esea_match_13770997.dem|16   |Hentai Hooligans|CounterTerrorist|5            |4           |null            |\n",
      "|esea_match_13770997.dem|17   |Hentai Hooligans|CounterTerrorist|5            |4           |CounterTerrorist|\n",
      "|esea_match_13770997.dem|18   |Hentai Hooligans|CounterTerrorist|5            |4           |CounterTerrorist|\n",
      "|esea_match_13770997.dem|19   |Hentai Hooligans|CounterTerrorist|5            |4           |CounterTerrorist|\n",
      "|esea_match_13770997.dem|20   |Hentai Hooligans|CounterTerrorist|5            |4           |CounterTerrorist|\n",
      "+-----------------------+-----+----------------+----------------+-------------+------------+----------------+\n",
      "\n"
     ]
    },
    {
     "name": "stderr",
     "output_type": "stream",
     "text": [
      "\r",
      "                                                                                \r"
     ]
    }
   ],
   "source": [
    "# check out some first blood data\n",
    "first_blood = spark.sql(\n",
    "    \"\"\"SELECT\n",
    "        kills_table.file,\n",
    "        kills_table.round,\n",
    "        MAX(kills_table.att_team),\n",
    "        MAX(kills_table.att_side),\n",
    "        MAX(kills_table.ct_alive),\n",
    "        MAX(kills_table.t_alive),\n",
    "        MAX(meta_table.winner_side)\n",
    "    FROM\n",
    "        kills_table\n",
    "    LEFT JOIN\n",
    "        meta_table\n",
    "            ON meta_table.file = kills_table.file\n",
    "                AND meta_table.round = kills_table.round\n",
    "    WHERE\n",
    "        (kills_table.ct_alive = 5 AND kills_table.t_alive = 4)\n",
    "        OR (kills_table.ct_alive = 4 AND kills_table.t_alive = 5)\n",
    "    GROUP BY\n",
    "        kills_table.file,\n",
    "        kills_table.round,\n",
    "        kills_table.seconds\n",
    "    ORDER BY\n",
    "        kills_table.file,\n",
    "        kills_table.round\n",
    "    LIMIT 20\"\"\")\n",
    "first_blood.show(truncate=False)"
   ]
  },
  {
   "cell_type": "markdown",
   "id": "2d72af43",
   "metadata": {},
   "source": [
    "We are missing some winner information from the `meta_table`. Maybe this is related to the round replays?"
   ]
  },
  {
   "cell_type": "code",
   "execution_count": 58,
   "id": "7a39df27",
   "metadata": {},
   "outputs": [
    {
     "name": "stderr",
     "output_type": "stream",
     "text": [
      "[Stage 298:============================================>          (12 + 3) / 15]\r"
     ]
    },
    {
     "name": "stdout",
     "output_type": "stream",
     "text": [
      "+-----------------------+-----+----------------+----------------+--------+-------+\n",
      "|file                   |round|att_team        |att_side        |ct_alive|t_alive|\n",
      "+-----------------------+-----+----------------+----------------+--------+-------+\n",
      "|esea_match_13770997.dem|16   |Hentai Hooligans|CounterTerrorist|5       |4      |\n",
      "|esea_match_13770997.dem|16   |Hentai Hooligans|CounterTerrorist|5       |3      |\n",
      "|esea_match_13770997.dem|16   |Hentai Hooligans|CounterTerrorist|5       |2      |\n",
      "|esea_match_13770997.dem|16   |Animal Style    |Terrorist       |4       |2      |\n",
      "|esea_match_13770997.dem|16   |Hentai Hooligans|CounterTerrorist|4       |1      |\n",
      "|esea_match_13770997.dem|16   |Hentai Hooligans|CounterTerrorist|4       |0      |\n",
      "+-----------------------+-----+----------------+----------------+--------+-------+\n",
      "\n"
     ]
    },
    {
     "name": "stderr",
     "output_type": "stream",
     "text": [
      "\r",
      "                                                                                \r"
     ]
    }
   ],
   "source": [
    "# missing round 16 winner\n",
    "missing = spark.sql(\n",
    "    \"\"\"SELECT\n",
    "        file,\n",
    "        round,\n",
    "        att_team,\n",
    "        att_side,\n",
    "        ct_alive,\n",
    "        t_alive\n",
    "    FROM\n",
    "        kills_table\n",
    "    WHERE\n",
    "        file = 'esea_match_13770997.dem'\n",
    "        AND round = 16\"\"\")\n",
    "missing.show(truncate=False)"
   ]
  },
  {
   "cell_type": "markdown",
   "id": "dd6937b2",
   "metadata": {},
   "source": [
    "Nope, nothing strange is happening in this round. Just missing data."
   ]
  },
  {
   "cell_type": "code",
   "execution_count": 59,
   "id": "4a930d64",
   "metadata": {},
   "outputs": [],
   "source": [
    "attackers_first_blood = spark.sql(\n",
    "    \"\"\"SELECT\n",
    "        \"attackers_first_blood\",\n",
    "        SUM(sub.first_blood_win) / COUNT(*) * 100 AS first_blood_win_percentage,\n",
    "        SUM(sub.first_blood_win) AS win_count,\n",
    "        COUNT(*) AS total\n",
    "    FROM\n",
    "        (\n",
    "            SELECT\n",
    "                IF(first_blood.winner_side == 'Terrorist', 1, 0) AS first_blood_win\n",
    "            FROM\n",
    "                (\n",
    "                    SELECT\n",
    "                        kills_table.file,\n",
    "                        kills_table.round,\n",
    "                        MAX(kills_table.att_team) AS att_team,\n",
    "                        MAX(kills_table.att_side) AS att_side,\n",
    "                        MAX(meta_table.winner_side) AS winner_side\n",
    "                    FROM\n",
    "                        kills_table\n",
    "                    LEFT JOIN\n",
    "                        meta_table\n",
    "                            ON meta_table.file = kills_table.file\n",
    "                                AND meta_table.round = kills_table.round\n",
    "                    WHERE\n",
    "                        (kills_table.ct_alive = 5 AND kills_table.t_alive = 4)\n",
    "                        OR (kills_table.ct_alive = 4 AND kills_table.t_alive = 5)\n",
    "                    GROUP BY\n",
    "                        kills_table.file,\n",
    "                        kills_table.round,\n",
    "                        kills_table.seconds\n",
    "                ) AS first_blood\n",
    "            WHERE\n",
    "                first_blood.att_side = 'Terrorist'\n",
    "                AND first_blood.winner_side IS NOT NULL\n",
    "        ) AS sub\"\"\")\n",
    "\n",
    "defenders_first_blood = spark.sql(\n",
    "    \"\"\"SELECT\n",
    "        \"defenders_first_blood\",\n",
    "        SUM(sub.first_blood_win) / COUNT(*) * 100 AS first_blood_win_percentage,\n",
    "        SUM(sub.first_blood_win) AS win_count,\n",
    "        COUNT(*) AS total\n",
    "    FROM\n",
    "        (\n",
    "            SELECT\n",
    "                IF(first_blood.winner_side == 'CounterTerrorist', 1, 0) AS first_blood_win\n",
    "            FROM\n",
    "                (\n",
    "                    SELECT\n",
    "                        kills_table.file,\n",
    "                        kills_table.round,\n",
    "                        MAX(kills_table.att_team) AS att_team,\n",
    "                        MAX(kills_table.att_side) AS att_side,\n",
    "                        MAX(meta_table.winner_side) AS winner_side\n",
    "                    FROM\n",
    "                        kills_table\n",
    "                    LEFT JOIN\n",
    "                        meta_table\n",
    "                            ON meta_table.file = kills_table.file\n",
    "                                AND meta_table.round = kills_table.round\n",
    "                    WHERE\n",
    "                        (kills_table.ct_alive = 5 AND kills_table.t_alive = 4)\n",
    "                        OR (kills_table.ct_alive = 4 AND kills_table.t_alive = 5)\n",
    "                    GROUP BY\n",
    "                        kills_table.file,\n",
    "                        kills_table.round,\n",
    "                        kills_table.seconds\n",
    "                ) AS first_blood\n",
    "            WHERE\n",
    "                first_blood.att_side = 'CounterTerrorist'\n",
    "                AND first_blood.winner_side IS NOT NULL\n",
    "        ) AS sub\"\"\")\n",
    "\n",
    "# attackers_first_blood.show(truncate=False)\n",
    "# defenders_first_blood.show(truncate=False)"
   ]
  },
  {
   "cell_type": "code",
   "execution_count": 60,
   "id": "d2afc308",
   "metadata": {},
   "outputs": [
    {
     "name": "stderr",
     "output_type": "stream",
     "text": [
      "                                                                                \r"
     ]
    },
    {
     "data": {
      "image/png": "[encoded data removed]",
      "text/plain": [
       "<Figure size 640x480 with 1 Axes>"
      ]
     },
     "metadata": {},
     "output_type": "display_data"
    }
   ],
   "source": [
    "# convert data to pandas df (just one row each)\n",
    "attackers_first_blood_pd = attackers_first_blood.toPandas()\n",
    "defenders_first_blood_pd = defenders_first_blood.toPandas()\n",
    "\n",
    "# set up indices\n",
    "max_total = max(attackers_first_blood_pd.loc[0,'total'], defenders_first_blood_pd.loc[0,'total'])\n",
    "\n",
    "# set up percentage bars\n",
    "awc = attackers_first_blood_pd.loc[0,'win_count']\n",
    "dwc = defenders_first_blood_pd.loc[0,'win_count']\n",
    "win_counts = (awc, dwc)\n",
    "lose_counts = (max_total - awc, max_total - dwc)\n",
    "\n",
    "width = 0.40\n",
    "fig = plt.figure()\n",
    "\n",
    "# customize the plot\n",
    "ax = fig.add_axes([0,0,1,1])\n",
    "ax.bar([2,3], lose_counts, width, color='#FF7377')\n",
    "ax.bar([2,3], win_counts, width, bottom=lose_counts, color='#C3EFC3')\n",
    "ax.set_ylabel('Round Count')\n",
    "ax.set_title('First Blood Round Wins by Side')\n",
    "ax.set_xticks([1,2,3,4], ('', 'Attacker First Blood', 'Defender First Blood', ''))\n",
    "ax.legend(labels=['Lose', 'Win'])\n",
    "\n",
    "# add numbers to each section of each bar graph\n",
    "for i, count in enumerate(lose_counts):\n",
    "    ax.text(i + 2, count - 30000, str(count), ha='center', color='black')\n",
    "\n",
    "for i, count in enumerate(win_counts):\n",
    "    ax.text(i + 2, count + lose_counts[i] - 30000, str(count), ha='center', color='black')\n",
    "\n",
    "# display the plot\n",
    "plt.show()"
   ]
  },
  {
   "cell_type": "code",
   "execution_count": 61,
   "id": "ea5488f8",
   "metadata": {},
   "outputs": [
    {
     "data": {
      "image/png": "[encoded data removed]",
      "text/plain": [
       "<Figure size 800x500 with 2 Axes>"
      ]
     },
     "metadata": {},
     "output_type": "display_data"
    }
   ],
   "source": [
    "# create pie charts for both sides to better compare\n",
    "fig, axs = plt.subplots(1, 2, figsize=(8, 5))\n",
    "labels = [\"win round\", \"lose round\"]\n",
    "colors = ['#C3EFC3', '#FF7377']\n",
    "\n",
    "# pie chart for attackers\n",
    "awp = attackers_first_blood_pd.loc[0,'first_blood_win_percentage']\n",
    "wedges = [awp, 100 - awp]\n",
    "\n",
    "axs[0].set_title(\"Attacker First Blood\")\n",
    "axs[0].pie(wedges, labels=labels, colors=colors, autopct='%1.1f%%')\n",
    "\n",
    "# pie chart for defenders\n",
    "dwp = defenders_first_blood_pd.loc[0,'first_blood_win_percentage']\n",
    "wedges = [dwp, 100 - dwp]\n",
    "\n",
    "axs[1].set_title(\"Defender First Blood\")\n",
    "axs[1].pie(wedges, labels=labels, colors=colors, autopct='%1.1f%%')\n",
    "\n",
    "# display the plot\n",
    "plt.tight_layout()\n",
    "plt.show()"
   ]
  },
  {
   "cell_type": "markdown",
   "id": "b867bfd5",
   "metadata": {},
   "source": [
    "First blood is actually more important than I realized! For attackers, I hypothesized that they would have over a 50% win rate when getting the first kill, but I did not think it would be as high at 72%. Additionally, I did not think that the defender's first blood impact would be so close to the attackers! Sure, it makes sense that it's above 50%, but to be at 68% is really impressive. I thought the defenders having to defend multiple sites would make the first blood advantage not worth it (since there could still be 4v3 or 4v2 fights on a specific site making the site harder to defend anyways). But it looks like it's still beneficial for defenders to take those first fights. It also depends on if the defenders took the first fight willingly or not, that is, were the attackers already on site when this first fight took place or is the defender pushing out. I think this would make a difference in how the round result could play out.\n",
    "\n",
    "These pie charts also show that when the defenders have the first death, they only win 27.5% of the time while if the first death happens on the attackers side they only win 31.7% of the time. In summary, the first duel is extremely important. In valorant, the stat websites only focus on first blood : first death ratios in the way we have defined as above, but I think for future analysis we should only consider a first blood to be a real first blood when the kill is not traded out. A trade is when team A kills a teammate from team B, but team B immediately kills a teammate from team A, evening out the field."
   ]
  }
 ],
 "metadata": {
  "kernelspec": {
   "display_name": "Python 3 (ipykernel)",
   "language": "python",
   "name": "python3"
  },
  "language_info": {
   "codemirror_mode": {
    "name": "ipython",
    "version": 3
   },
   "file_extension": ".py",
   "mimetype": "text/x-python",
   "name": "python",
   "nbconvert_exporter": "python",
   "pygments_lexer": "ipython3",
   "version": "3.10.9"
  }
 },
 "nbformat": 4,
 "nbformat_minor": 5
}
